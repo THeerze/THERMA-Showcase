{
 "cells": [
  {
   "cell_type": "markdown",
   "metadata": {},
   "source": [
    "# Imports"
   ]
  },
  {
   "cell_type": "code",
   "execution_count": 2,
   "metadata": {},
   "outputs": [],
   "source": [
    "import pandas as pd\n",
    "import numpy as np\n",
    "import pickle\n",
    "import time\n",
    "import torch\n",
    "from pathlib import Path"
   ]
  },
  {
   "cell_type": "markdown",
   "metadata": {},
   "source": [
    "# Retrieving NUjij Articles + Comments"
   ]
  },
  {
   "cell_type": "code",
   "execution_count": 3,
   "metadata": {},
   "outputs": [
    {
     "data": {
      "text/html": [
       "<div>\n",
       "<style scoped>\n",
       "    .dataframe tbody tr th:only-of-type {\n",
       "        vertical-align: middle;\n",
       "    }\n",
       "\n",
       "    .dataframe tbody tr th {\n",
       "        vertical-align: top;\n",
       "    }\n",
       "\n",
       "    .dataframe thead th {\n",
       "        text-align: right;\n",
       "    }\n",
       "</style>\n",
       "<table border=\"1\" class=\"dataframe\">\n",
       "  <thead>\n",
       "    <tr style=\"text-align: right;\">\n",
       "      <th></th>\n",
       "      <th>url</th>\n",
       "      <th>username</th>\n",
       "      <th>expertise</th>\n",
       "      <th>timestamp</th>\n",
       "      <th>comment_text</th>\n",
       "      <th>likes</th>\n",
       "    </tr>\n",
       "  </thead>\n",
       "  <tbody>\n",
       "    <tr>\n",
       "      <th>0</th>\n",
       "      <td>https://www.nu.nl/weekend/5350484/droogte-in-n...</td>\n",
       "      <td>Inkook_nl</td>\n",
       "      <td>None</td>\n",
       "      <td>2018-07-08 08:42:14.128</td>\n",
       "      <td>Weet je wat helemaal grappig is is dat ze hier...</td>\n",
       "      <td>0</td>\n",
       "    </tr>\n",
       "    <tr>\n",
       "      <th>1</th>\n",
       "      <td>https://www.nu.nl/weekend/5350484/droogte-in-n...</td>\n",
       "      <td>Knackebjorn</td>\n",
       "      <td>Docent Engels</td>\n",
       "      <td>2018-07-08 08:55:55.583</td>\n",
       "      <td>Is uw dorpje omringd door dijken, zonder toega...</td>\n",
       "      <td>2</td>\n",
       "    </tr>\n",
       "    <tr>\n",
       "      <th>2</th>\n",
       "      <td>https://www.nu.nl/weekend/5350484/droogte-in-n...</td>\n",
       "      <td>Spekkie</td>\n",
       "      <td>None</td>\n",
       "      <td>2018-07-08 10:22:58.942</td>\n",
       "      <td>Dus die ene keer dat uw dorp overstroomd maar ...</td>\n",
       "      <td>0</td>\n",
       "    </tr>\n",
       "    <tr>\n",
       "      <th>3</th>\n",
       "      <td>https://www.nu.nl/weekend/5350484/droogte-in-n...</td>\n",
       "      <td>leen_forever</td>\n",
       "      <td>None</td>\n",
       "      <td>2018-07-08 05:32:28.724</td>\n",
       "      <td>ik hoorde net op de radio dat men een ijselmee...</td>\n",
       "      <td>1</td>\n",
       "    </tr>\n",
       "    <tr>\n",
       "      <th>4</th>\n",
       "      <td>https://www.nu.nl/weekend/5350484/droogte-in-n...</td>\n",
       "      <td>Knackebjorn</td>\n",
       "      <td>Docent Engels</td>\n",
       "      <td>2018-07-08 08:56:52.239</td>\n",
       "      <td>Nee, er is geen probleem met de drinkwatervoor...</td>\n",
       "      <td>1</td>\n",
       "    </tr>\n",
       "    <tr>\n",
       "      <th>5</th>\n",
       "      <td>https://www.nu.nl/weekend/5350484/droogte-in-n...</td>\n",
       "      <td>Binky</td>\n",
       "      <td>None</td>\n",
       "      <td>2018-07-07 18:57:21.890</td>\n",
       "      <td>Mijnheer v Dongen van LTO is zeker nooit in ze...</td>\n",
       "      <td>0</td>\n",
       "    </tr>\n",
       "    <tr>\n",
       "      <th>6</th>\n",
       "      <td>https://www.nu.nl/weekend/5350484/droogte-in-n...</td>\n",
       "      <td>Knackebjorn</td>\n",
       "      <td>Docent Engels</td>\n",
       "      <td>2018-07-08 08:57:07.154</td>\n",
       "      <td>Uw punt is?</td>\n",
       "      <td>0</td>\n",
       "    </tr>\n",
       "    <tr>\n",
       "      <th>7</th>\n",
       "      <td>https://www.nu.nl/weekend/5350484/droogte-in-n...</td>\n",
       "      <td>Knackebjorn</td>\n",
       "      <td>Docent Engels</td>\n",
       "      <td>2018-07-08 10:51:53.155</td>\n",
       "      <td>Gaat het?</td>\n",
       "      <td>0</td>\n",
       "    </tr>\n",
       "    <tr>\n",
       "      <th>8</th>\n",
       "      <td>https://www.nu.nl/weekend/5350484/droogte-in-n...</td>\n",
       "      <td>vandenBerg</td>\n",
       "      <td>None</td>\n",
       "      <td>2018-07-07 17:53:49.235</td>\n",
       "      <td>Waterverbruik de laatste weken bijna niets, do...</td>\n",
       "      <td>3</td>\n",
       "    </tr>\n",
       "    <tr>\n",
       "      <th>9</th>\n",
       "      <td>https://www.nu.nl/weekend/5350484/droogte-in-n...</td>\n",
       "      <td>vandenBerg</td>\n",
       "      <td>None</td>\n",
       "      <td>2018-07-07 16:46:51.290</td>\n",
       "      <td>Wij hebben 'n zwembadje staan van ruim 2,25 x ...</td>\n",
       "      <td>0</td>\n",
       "    </tr>\n",
       "  </tbody>\n",
       "</table>\n",
       "</div>"
      ],
      "text/plain": [
       "                                                 url      username  \\\n",
       "0  https://www.nu.nl/weekend/5350484/droogte-in-n...     Inkook_nl   \n",
       "1  https://www.nu.nl/weekend/5350484/droogte-in-n...   Knackebjorn   \n",
       "2  https://www.nu.nl/weekend/5350484/droogte-in-n...       Spekkie   \n",
       "3  https://www.nu.nl/weekend/5350484/droogte-in-n...  leen_forever   \n",
       "4  https://www.nu.nl/weekend/5350484/droogte-in-n...   Knackebjorn   \n",
       "5  https://www.nu.nl/weekend/5350484/droogte-in-n...         Binky   \n",
       "6  https://www.nu.nl/weekend/5350484/droogte-in-n...   Knackebjorn   \n",
       "7  https://www.nu.nl/weekend/5350484/droogte-in-n...   Knackebjorn   \n",
       "8  https://www.nu.nl/weekend/5350484/droogte-in-n...    vandenBerg   \n",
       "9  https://www.nu.nl/weekend/5350484/droogte-in-n...    vandenBerg   \n",
       "\n",
       "       expertise               timestamp  \\\n",
       "0           None 2018-07-08 08:42:14.128   \n",
       "1  Docent Engels 2018-07-08 08:55:55.583   \n",
       "2           None 2018-07-08 10:22:58.942   \n",
       "3           None 2018-07-08 05:32:28.724   \n",
       "4  Docent Engels 2018-07-08 08:56:52.239   \n",
       "5           None 2018-07-07 18:57:21.890   \n",
       "6  Docent Engels 2018-07-08 08:57:07.154   \n",
       "7  Docent Engels 2018-07-08 10:51:53.155   \n",
       "8           None 2018-07-07 17:53:49.235   \n",
       "9           None 2018-07-07 16:46:51.290   \n",
       "\n",
       "                                        comment_text likes  \n",
       "0  Weet je wat helemaal grappig is is dat ze hier...     0  \n",
       "1  Is uw dorpje omringd door dijken, zonder toega...     2  \n",
       "2  Dus die ene keer dat uw dorp overstroomd maar ...     0  \n",
       "3  ik hoorde net op de radio dat men een ijselmee...     1  \n",
       "4  Nee, er is geen probleem met de drinkwatervoor...     1  \n",
       "5  Mijnheer v Dongen van LTO is zeker nooit in ze...     0  \n",
       "6                                        Uw punt is?     0  \n",
       "7                                          Gaat het?     0  \n",
       "8  Waterverbruik de laatste weken bijna niets, do...     3  \n",
       "9  Wij hebben 'n zwembadje staan van ruim 2,25 x ...     0  "
      ]
     },
     "metadata": {},
     "output_type": "display_data"
    },
    {
     "data": {
      "text/html": [
       "<div>\n",
       "<style scoped>\n",
       "    .dataframe tbody tr th:only-of-type {\n",
       "        vertical-align: middle;\n",
       "    }\n",
       "\n",
       "    .dataframe tbody tr th {\n",
       "        vertical-align: top;\n",
       "    }\n",
       "\n",
       "    .dataframe thead th {\n",
       "        text-align: right;\n",
       "    }\n",
       "</style>\n",
       "<table border=\"1\" class=\"dataframe\">\n",
       "  <thead>\n",
       "    <tr style=\"text-align: right;\">\n",
       "      <th></th>\n",
       "      <th>search_rank</th>\n",
       "      <th>title</th>\n",
       "      <th>source</th>\n",
       "      <th>date</th>\n",
       "      <th>category</th>\n",
       "      <th>url</th>\n",
       "      <th>snippet</th>\n",
       "      <th>article_text</th>\n",
       "      <th>subheadings</th>\n",
       "      <th>tag</th>\n",
       "      <th>img_urls</th>\n",
       "      <th>comments_present</th>\n",
       "      <th>scraped</th>\n",
       "    </tr>\n",
       "  </thead>\n",
       "  <tbody>\n",
       "    <tr>\n",
       "      <th>0</th>\n",
       "      <td>71</td>\n",
       "      <td>Zware onweersbuien trekken over Nederland | Bi...</td>\n",
       "      <td>NU</td>\n",
       "      <td>2013-07-26</td>\n",
       "      <td>Binnenland</td>\n",
       "      <td>https://www.nu.nl/binnenland/3535382/zware-onw...</td>\n",
       "      <td>Foto's van het zomerweer l Zevende hittegolf s...</td>\n",
       "      <td>Festivals en evenementen moeten dit weekend re...</td>\n",
       "      <td>['Festivals', 'Zwaarste buien', 'Oppassen', 'B...</td>\n",
       "      <td>None</td>\n",
       "      <td>['https://media.nu.nl/m/m1mxwtsa4x7w_wd854/bli...</td>\n",
       "      <td>False</td>\n",
       "      <td>True</td>\n",
       "    </tr>\n",
       "    <tr>\n",
       "      <th>1</th>\n",
       "      <td>77</td>\n",
       "      <td>'Overheid laks in aanpak gevaarlijke tijgermug...</td>\n",
       "      <td>NU</td>\n",
       "      <td>2013-07-28</td>\n",
       "      <td>Binnenland</td>\n",
       "      <td>https://www.nu.nl/binnenland/3536841/overheid-...</td>\n",
       "      <td>Het platform is er niet gerust op dat het de o...</td>\n",
       "      <td>De overheid is laks in de aanpak van de uithee...</td>\n",
       "      <td>['Overbodig', 'Knokkelkoorts', 'Lastig te vind...</td>\n",
       "      <td>None</td>\n",
       "      <td>['https://media.nu.nl/m/m1nxc5lal045_wd854/tij...</td>\n",
       "      <td>False</td>\n",
       "      <td>True</td>\n",
       "    </tr>\n",
       "    <tr>\n",
       "      <th>2</th>\n",
       "      <td>11</td>\n",
       "      <td>Nederland wordt langzaam net zo warm als Zuid-...</td>\n",
       "      <td>NU</td>\n",
       "      <td>2014-12-12</td>\n",
       "      <td>Nuweekend</td>\n",
       "      <td>https://www.nu.nl/weekend/3951566/nederland-wo...</td>\n",
       "      <td>Geen hittegolf en toch het warmste jaar in (mi...</td>\n",
       "      <td>Geen hittegolf en toch het warmste jaar in (mi...</td>\n",
       "      <td>['Lente leek op zomer', 'Broeikasgassen', 'Voo...</td>\n",
       "      <td>None</td>\n",
       "      <td>['https://media.nu.nl/m/m1oxidmapv50_wd854/zon...</td>\n",
       "      <td>False</td>\n",
       "      <td>True</td>\n",
       "    </tr>\n",
       "    <tr>\n",
       "      <th>3</th>\n",
       "      <td>34</td>\n",
       "      <td>'Kou doodt veel meer mensen dan warm weer' | W...</td>\n",
       "      <td>NU</td>\n",
       "      <td>2015-05-21</td>\n",
       "      <td>Wetenschap</td>\n",
       "      <td>https://www.nu.nl/wetenschap/4053535/kou-doodt...</td>\n",
       "      <td>Opvallend is ook dat er op de lange termijn me...</td>\n",
       "      <td>Bij koud weer komen meer mensen om het leven d...</td>\n",
       "      <td>['Opvallend', 'Gematigd', 'Maatregelen']</td>\n",
       "      <td>None</td>\n",
       "      <td>['https://media.nu.nl/m/m1oxlplaump1_wd854/chi...</td>\n",
       "      <td>False</td>\n",
       "      <td>True</td>\n",
       "    </tr>\n",
       "    <tr>\n",
       "      <th>4</th>\n",
       "      <td>63</td>\n",
       "      <td>'Waterverbruik al met 20 procent toegenomen' |...</td>\n",
       "      <td>NU</td>\n",
       "      <td>2015-06-30</td>\n",
       "      <td>Wonen</td>\n",
       "      <td>https://www.nu.nl/wonen-en-interieur/4078589/w...</td>\n",
       "      <td>De temperatuur in Nederland gaat gestaag omhoo...</td>\n",
       "      <td>De temperatuur in Nederland gaat gestaag omhoo...</td>\n",
       "      <td>[]</td>\n",
       "      <td>None</td>\n",
       "      <td>['https://media.nu.nl/m/m1oxblxaq0sn_wd854/wat...</td>\n",
       "      <td>False</td>\n",
       "      <td>True</td>\n",
       "    </tr>\n",
       "    <tr>\n",
       "      <th>5</th>\n",
       "      <td>42</td>\n",
       "      <td>Maastricht donderdag warmste plek van Nederland</td>\n",
       "      <td>NU</td>\n",
       "      <td>2015-07-02</td>\n",
       "      <td>Binnenland</td>\n",
       "      <td>https://www.nu.nl/binnenland/4080650/maastrich...</td>\n",
       "      <td>In dat jaar had Nederland te kampen met drie h...</td>\n",
       "      <td>In Maastricht is donderdagmiddag 38,2 graden g...</td>\n",
       "      <td>[]</td>\n",
       "      <td>None</td>\n",
       "      <td>['https://media.nu.nl/m/aecxkeqa3g5s_wd854/maa...</td>\n",
       "      <td>False</td>\n",
       "      <td>True</td>\n",
       "    </tr>\n",
       "    <tr>\n",
       "      <th>6</th>\n",
       "      <td>64</td>\n",
       "      <td>Het weer: Opnieuw zeer heet, later kans op onweer</td>\n",
       "      <td>NU</td>\n",
       "      <td>2015-07-02</td>\n",
       "      <td>Actueel</td>\n",
       "      <td>https://www.nu.nl/dvn/4080129/weer-opnieuw-zee...</td>\n",
       "      <td>Hoewel heet weer in Nederland vaak gepaard gaa...</td>\n",
       "      <td>Het is zonnig en zeer heet. In een groot deel ...</td>\n",
       "      <td>[]</td>\n",
       "      <td>None</td>\n",
       "      <td>['https://media.nu.nl/m/od4x2ztaxwdd_wd854/blo...</td>\n",
       "      <td>False</td>\n",
       "      <td>True</td>\n",
       "    </tr>\n",
       "    <tr>\n",
       "      <th>7</th>\n",
       "      <td>82</td>\n",
       "      <td>NS Reisplanner voegt meerdere ov-reisopties toe</td>\n",
       "      <td>NU</td>\n",
       "      <td>2015-07-06</td>\n",
       "      <td>Apps</td>\n",
       "      <td>https://www.nu.nl/apps/4082578/ns-reisplanner-...</td>\n",
       "      <td>Leger komt NS voortaan te hulp tijdens hittego...</td>\n",
       "      <td>De officiële app van de Nederlandse Spoorwegen...</td>\n",
       "      <td>['Deur tot deur', 'Windows Phone']</td>\n",
       "      <td>None</td>\n",
       "      <td>['https://media.nu.nl/m/ps2xbgtayn9p_wd854/ns-...</td>\n",
       "      <td>False</td>\n",
       "      <td>True</td>\n",
       "    </tr>\n",
       "    <tr>\n",
       "      <th>8</th>\n",
       "      <td>41</td>\n",
       "      <td>Bier grootste dorstlesser op sportclubs tijden...</td>\n",
       "      <td>NU</td>\n",
       "      <td>2015-07-08</td>\n",
       "      <td>Lifestyle</td>\n",
       "      <td>https://www.nu.nl/lifestyle/4084247/bier-groot...</td>\n",
       "      <td>Daarbij is gekeken naar de meest bestelde dran...</td>\n",
       "      <td>Onderzoek wijst uit dat de afgelopen week op d...</td>\n",
       "      <td>[]</td>\n",
       "      <td>None</td>\n",
       "      <td>['https://media.nu.nl/m/m1mxt74armog_wd854/bie...</td>\n",
       "      <td>False</td>\n",
       "      <td>True</td>\n",
       "    </tr>\n",
       "    <tr>\n",
       "      <th>9</th>\n",
       "      <td>26</td>\n",
       "      <td>Het weer in juli: maand met extreem weer</td>\n",
       "      <td>NU</td>\n",
       "      <td>2015-07-29</td>\n",
       "      <td>Actueel</td>\n",
       "      <td>https://www.nu.nl/dvn/4097103/weer-in-juli-maa...</td>\n",
       "      <td>Hittegolf. Nederland maakte begin deze maand v...</td>\n",
       "      <td>Juli was een maand met extreem weer. De maand ...</td>\n",
       "      <td>['Hittegolf', 'Regen', 'Vorst,\\xa0kou en storm...</td>\n",
       "      <td>None</td>\n",
       "      <td>['https://media.nu.nl/m/rlex7oyaf0yv_wd854/vee...</td>\n",
       "      <td>False</td>\n",
       "      <td>True</td>\n",
       "    </tr>\n",
       "  </tbody>\n",
       "</table>\n",
       "</div>"
      ],
      "text/plain": [
       "   search_rank                                              title source  \\\n",
       "0           71  Zware onweersbuien trekken over Nederland | Bi...     NU   \n",
       "1           77  'Overheid laks in aanpak gevaarlijke tijgermug...     NU   \n",
       "2           11  Nederland wordt langzaam net zo warm als Zuid-...     NU   \n",
       "3           34  'Kou doodt veel meer mensen dan warm weer' | W...     NU   \n",
       "4           63  'Waterverbruik al met 20 procent toegenomen' |...     NU   \n",
       "5           42    Maastricht donderdag warmste plek van Nederland     NU   \n",
       "6           64  Het weer: Opnieuw zeer heet, later kans op onweer     NU   \n",
       "7           82    NS Reisplanner voegt meerdere ov-reisopties toe     NU   \n",
       "8           41  Bier grootste dorstlesser op sportclubs tijden...     NU   \n",
       "9           26           Het weer in juli: maand met extreem weer     NU   \n",
       "\n",
       "        date    category                                                url  \\\n",
       "0 2013-07-26  Binnenland  https://www.nu.nl/binnenland/3535382/zware-onw...   \n",
       "1 2013-07-28  Binnenland  https://www.nu.nl/binnenland/3536841/overheid-...   \n",
       "2 2014-12-12   Nuweekend  https://www.nu.nl/weekend/3951566/nederland-wo...   \n",
       "3 2015-05-21  Wetenschap  https://www.nu.nl/wetenschap/4053535/kou-doodt...   \n",
       "4 2015-06-30       Wonen  https://www.nu.nl/wonen-en-interieur/4078589/w...   \n",
       "5 2015-07-02  Binnenland  https://www.nu.nl/binnenland/4080650/maastrich...   \n",
       "6 2015-07-02     Actueel  https://www.nu.nl/dvn/4080129/weer-opnieuw-zee...   \n",
       "7 2015-07-06        Apps  https://www.nu.nl/apps/4082578/ns-reisplanner-...   \n",
       "8 2015-07-08   Lifestyle  https://www.nu.nl/lifestyle/4084247/bier-groot...   \n",
       "9 2015-07-29     Actueel  https://www.nu.nl/dvn/4097103/weer-in-juli-maa...   \n",
       "\n",
       "                                             snippet  \\\n",
       "0  Foto's van het zomerweer l Zevende hittegolf s...   \n",
       "1  Het platform is er niet gerust op dat het de o...   \n",
       "2  Geen hittegolf en toch het warmste jaar in (mi...   \n",
       "3  Opvallend is ook dat er op de lange termijn me...   \n",
       "4  De temperatuur in Nederland gaat gestaag omhoo...   \n",
       "5  In dat jaar had Nederland te kampen met drie h...   \n",
       "6  Hoewel heet weer in Nederland vaak gepaard gaa...   \n",
       "7  Leger komt NS voortaan te hulp tijdens hittego...   \n",
       "8  Daarbij is gekeken naar de meest bestelde dran...   \n",
       "9  Hittegolf. Nederland maakte begin deze maand v...   \n",
       "\n",
       "                                        article_text  \\\n",
       "0  Festivals en evenementen moeten dit weekend re...   \n",
       "1  De overheid is laks in de aanpak van de uithee...   \n",
       "2  Geen hittegolf en toch het warmste jaar in (mi...   \n",
       "3  Bij koud weer komen meer mensen om het leven d...   \n",
       "4  De temperatuur in Nederland gaat gestaag omhoo...   \n",
       "5  In Maastricht is donderdagmiddag 38,2 graden g...   \n",
       "6  Het is zonnig en zeer heet. In een groot deel ...   \n",
       "7  De officiële app van de Nederlandse Spoorwegen...   \n",
       "8  Onderzoek wijst uit dat de afgelopen week op d...   \n",
       "9  Juli was een maand met extreem weer. De maand ...   \n",
       "\n",
       "                                         subheadings   tag  \\\n",
       "0  ['Festivals', 'Zwaarste buien', 'Oppassen', 'B...  None   \n",
       "1  ['Overbodig', 'Knokkelkoorts', 'Lastig te vind...  None   \n",
       "2  ['Lente leek op zomer', 'Broeikasgassen', 'Voo...  None   \n",
       "3           ['Opvallend', 'Gematigd', 'Maatregelen']  None   \n",
       "4                                                 []  None   \n",
       "5                                                 []  None   \n",
       "6                                                 []  None   \n",
       "7                 ['Deur tot deur', 'Windows Phone']  None   \n",
       "8                                                 []  None   \n",
       "9  ['Hittegolf', 'Regen', 'Vorst,\\xa0kou en storm...  None   \n",
       "\n",
       "                                            img_urls comments_present  scraped  \n",
       "0  ['https://media.nu.nl/m/m1mxwtsa4x7w_wd854/bli...            False     True  \n",
       "1  ['https://media.nu.nl/m/m1nxc5lal045_wd854/tij...            False     True  \n",
       "2  ['https://media.nu.nl/m/m1oxidmapv50_wd854/zon...            False     True  \n",
       "3  ['https://media.nu.nl/m/m1oxlplaump1_wd854/chi...            False     True  \n",
       "4  ['https://media.nu.nl/m/m1oxblxaq0sn_wd854/wat...            False     True  \n",
       "5  ['https://media.nu.nl/m/aecxkeqa3g5s_wd854/maa...            False     True  \n",
       "6  ['https://media.nu.nl/m/od4x2ztaxwdd_wd854/blo...            False     True  \n",
       "7  ['https://media.nu.nl/m/ps2xbgtayn9p_wd854/ns-...            False     True  \n",
       "8  ['https://media.nu.nl/m/m1mxt74armog_wd854/bie...            False     True  \n",
       "9  ['https://media.nu.nl/m/rlex7oyaf0yv_wd854/vee...            False     True  "
      ]
     },
     "metadata": {},
     "output_type": "display_data"
    },
    {
     "name": "stdout",
     "output_type": "stream",
     "text": [
      "95\n",
      "30023\n",
      "6408816\n"
     ]
    }
   ],
   "source": [
    "pickle_path = f\"{Path().resolve().parent.absolute()}\\\\nunl_scraper\\\\all_comments.df.pkl\"\n",
    "\n",
    "pickle_path_articles = f\"{Path().resolve().parent.absolute()}\\\\nunl_scraper\\\\api_results_processed.df.pkl\"\n",
    "\n",
    "df = pd.read_pickle(pickle_path)\n",
    "df_articles = pd.read_pickle(pickle_path_articles)\n",
    "\n",
    "display(df.head(10))\n",
    "display(df_articles.head(10))\n",
    "\n",
    "\n",
    "character_count = 0\n",
    "\n",
    "for comment in df[\"comment_text\"]:\n",
    "    character_count += len(comment)\n",
    "\n",
    "print(len(df_articles))\n",
    "\n",
    "print(len(df['comment_text']))\n",
    "\n",
    "print(character_count)"
   ]
  },
  {
   "cell_type": "markdown",
   "metadata": {},
   "source": [
    "# Topic Modelling"
   ]
  },
  {
   "cell_type": "markdown",
   "metadata": {},
   "source": [
    "### BERTopic On Articles"
   ]
  },
  {
   "cell_type": "code",
   "execution_count": 4,
   "metadata": {},
   "outputs": [],
   "source": [
    "import re\n",
    "import matplotlib.pyplot as plt\n",
    "from nltk.corpus import stopwords\n",
    "from nltk.tokenize import word_tokenize\n",
    "import spacy\n",
    "\n",
    "lemmatizer = spacy.load('nl_core_news_md')\n",
    "\n",
    "stop_words = set(stopwords.words('dutch'))\n",
    "more_stopwords = {'én','één','we'}\n",
    "stop_words = list(set(stop_words).union(more_stopwords))\n",
    "\n",
    "def preprocess_text(text):\n",
    "    # remove URLs\n",
    "    text = re.sub(r'http\\S+', '', text)\n",
    "    # remove punctuation\n",
    "    text = re.sub(r'[^\\w\\s]', '', text)\n",
    "    # remove hashtags\n",
    "    text = re.sub(r'#', '', text)\n",
    "    # remove additional white spaces\n",
    "    text = re.sub(r'\\s+', ' ', text).strip()\n",
    "    # tokenize\n",
    "    tokenized_text = word_tokenize(text.lower())\n",
    "    # remove stopwords\n",
    "    stopwordless_text = [token for token in tokenized_text if token not in stop_words and token.isalpha()]\n",
    "    # lemmatize text\n",
    "    # lemmatized_text = [token.lemma_ for token in lemmatizer(' '.join(stopwordless_text))]\n",
    "    # cleaned_text = [word for word in lemmatized_text if len(word) > 1]\n",
    "    return ' '.join(stopwordless_text)"
   ]
  },
  {
   "cell_type": "code",
   "execution_count": 5,
   "metadata": {},
   "outputs": [
    {
     "data": {
      "text/html": [
       "<div>\n",
       "<style scoped>\n",
       "    .dataframe tbody tr th:only-of-type {\n",
       "        vertical-align: middle;\n",
       "    }\n",
       "\n",
       "    .dataframe tbody tr th {\n",
       "        vertical-align: top;\n",
       "    }\n",
       "\n",
       "    .dataframe thead th {\n",
       "        text-align: right;\n",
       "    }\n",
       "</style>\n",
       "<table border=\"1\" class=\"dataframe\">\n",
       "  <thead>\n",
       "    <tr style=\"text-align: right;\">\n",
       "      <th></th>\n",
       "      <th>search_rank</th>\n",
       "      <th>title</th>\n",
       "      <th>source</th>\n",
       "      <th>date</th>\n",
       "      <th>category</th>\n",
       "      <th>url</th>\n",
       "      <th>snippet</th>\n",
       "      <th>article_text</th>\n",
       "      <th>subheadings</th>\n",
       "      <th>tag</th>\n",
       "      <th>img_urls</th>\n",
       "      <th>comments_present</th>\n",
       "      <th>scraped</th>\n",
       "      <th>preprocessed_text</th>\n",
       "    </tr>\n",
       "  </thead>\n",
       "  <tbody>\n",
       "    <tr>\n",
       "      <th>0</th>\n",
       "      <td>71</td>\n",
       "      <td>Zware onweersbuien trekken over Nederland | Bi...</td>\n",
       "      <td>NU</td>\n",
       "      <td>2013-07-26</td>\n",
       "      <td>Binnenland</td>\n",
       "      <td>https://www.nu.nl/binnenland/3535382/zware-onw...</td>\n",
       "      <td>Foto's van het zomerweer l Zevende hittegolf s...</td>\n",
       "      <td>Festivals en evenementen moeten dit weekend re...</td>\n",
       "      <td>['Festivals', 'Zwaarste buien', 'Oppassen', 'B...</td>\n",
       "      <td>None</td>\n",
       "      <td>['https://media.nu.nl/m/m1mxwtsa4x7w_wd854/bli...</td>\n",
       "      <td>False</td>\n",
       "      <td>True</td>\n",
       "      <td>festivals evenementen moeten weekend rekening ...</td>\n",
       "    </tr>\n",
       "    <tr>\n",
       "      <th>1</th>\n",
       "      <td>77</td>\n",
       "      <td>'Overheid laks in aanpak gevaarlijke tijgermug...</td>\n",
       "      <td>NU</td>\n",
       "      <td>2013-07-28</td>\n",
       "      <td>Binnenland</td>\n",
       "      <td>https://www.nu.nl/binnenland/3536841/overheid-...</td>\n",
       "      <td>Het platform is er niet gerust op dat het de o...</td>\n",
       "      <td>De overheid is laks in de aanpak van de uithee...</td>\n",
       "      <td>['Overbodig', 'Knokkelkoorts', 'Lastig te vind...</td>\n",
       "      <td>None</td>\n",
       "      <td>['https://media.nu.nl/m/m1nxc5lal045_wd854/tij...</td>\n",
       "      <td>False</td>\n",
       "      <td>True</td>\n",
       "      <td>overheid laks aanpak uitheemse tijgermug zegt ...</td>\n",
       "    </tr>\n",
       "    <tr>\n",
       "      <th>2</th>\n",
       "      <td>11</td>\n",
       "      <td>Nederland wordt langzaam net zo warm als Zuid-...</td>\n",
       "      <td>NU</td>\n",
       "      <td>2014-12-12</td>\n",
       "      <td>Nuweekend</td>\n",
       "      <td>https://www.nu.nl/weekend/3951566/nederland-wo...</td>\n",
       "      <td>Geen hittegolf en toch het warmste jaar in (mi...</td>\n",
       "      <td>Geen hittegolf en toch het warmste jaar in (mi...</td>\n",
       "      <td>['Lente leek op zomer', 'Broeikasgassen', 'Voo...</td>\n",
       "      <td>None</td>\n",
       "      <td>['https://media.nu.nl/m/m1oxidmapv50_wd854/zon...</td>\n",
       "      <td>False</td>\n",
       "      <td>True</td>\n",
       "      <td>hittegolf warmste jaar minstens drie eeuwen me...</td>\n",
       "    </tr>\n",
       "    <tr>\n",
       "      <th>3</th>\n",
       "      <td>34</td>\n",
       "      <td>'Kou doodt veel meer mensen dan warm weer' | W...</td>\n",
       "      <td>NU</td>\n",
       "      <td>2015-05-21</td>\n",
       "      <td>Wetenschap</td>\n",
       "      <td>https://www.nu.nl/wetenschap/4053535/kou-doodt...</td>\n",
       "      <td>Opvallend is ook dat er op de lange termijn me...</td>\n",
       "      <td>Bij koud weer komen meer mensen om het leven d...</td>\n",
       "      <td>['Opvallend', 'Gematigd', 'Maatregelen']</td>\n",
       "      <td>None</td>\n",
       "      <td>['https://media.nu.nl/m/m1oxlplaump1_wd854/chi...</td>\n",
       "      <td>False</td>\n",
       "      <td>True</td>\n",
       "      <td>koud weer komen mensen leven zeer warme weerso...</td>\n",
       "    </tr>\n",
       "    <tr>\n",
       "      <th>4</th>\n",
       "      <td>63</td>\n",
       "      <td>'Waterverbruik al met 20 procent toegenomen' |...</td>\n",
       "      <td>NU</td>\n",
       "      <td>2015-06-30</td>\n",
       "      <td>Wonen</td>\n",
       "      <td>https://www.nu.nl/wonen-en-interieur/4078589/w...</td>\n",
       "      <td>De temperatuur in Nederland gaat gestaag omhoo...</td>\n",
       "      <td>De temperatuur in Nederland gaat gestaag omhoo...</td>\n",
       "      <td>[]</td>\n",
       "      <td>None</td>\n",
       "      <td>['https://media.nu.nl/m/m1oxblxaq0sn_wd854/wat...</td>\n",
       "      <td>False</td>\n",
       "      <td>True</td>\n",
       "      <td>temperatuur nederland gaat gestaag omhoog wate...</td>\n",
       "    </tr>\n",
       "    <tr>\n",
       "      <th>...</th>\n",
       "      <td>...</td>\n",
       "      <td>...</td>\n",
       "      <td>...</td>\n",
       "      <td>...</td>\n",
       "      <td>...</td>\n",
       "      <td>...</td>\n",
       "      <td>...</td>\n",
       "      <td>...</td>\n",
       "      <td>...</td>\n",
       "      <td>...</td>\n",
       "      <td>...</td>\n",
       "      <td>...</td>\n",
       "      <td>...</td>\n",
       "      <td>...</td>\n",
       "    </tr>\n",
       "    <tr>\n",
       "      <th>90</th>\n",
       "      <td>8</td>\n",
       "      <td>Zeldzame regionale septemberhittegolf een feit...</td>\n",
       "      <td>NU</td>\n",
       "      <td>2023-09-08</td>\n",
       "      <td>Binnenland</td>\n",
       "      <td>https://www.nu.nl/binnenland/6280029/zeldzame-...</td>\n",
       "      <td>Dit betekent dat het vijf dagen op rij warm is...</td>\n",
       "      <td>Na een warm begin van de dag is er vrijdag off...</td>\n",
       "      <td>['Deze week is ongekend warm', 'Vooralsnog gee...</td>\n",
       "      <td>None</td>\n",
       "      <td>['https://media.nu.nl/m/7e1xridafznh_wd854/zel...</td>\n",
       "      <td>True</td>\n",
       "      <td>True</td>\n",
       "      <td>warm begin dag vrijdag officieel sprake region...</td>\n",
       "    </tr>\n",
       "    <tr>\n",
       "      <th>91</th>\n",
       "      <td>27</td>\n",
       "      <td>Weerbericht: De (werk)week eindigt net zo trop...</td>\n",
       "      <td>NU</td>\n",
       "      <td>2023-09-08</td>\n",
       "      <td>Binnenland</td>\n",
       "      <td>https://www.nu.nl/binnenland/6279983/weerberic...</td>\n",
       "      <td>Het is al zoveel dagen mooi weer dat er region...</td>\n",
       "      <td>Vrijdag wordt opnieuw een zonovergoten dag met...</td>\n",
       "      <td>[]</td>\n",
       "      <td>None</td>\n",
       "      <td>['https://media.nu.nl/m/4gfxp1favdx4_wd854/ijs...</td>\n",
       "      <td>True</td>\n",
       "      <td>True</td>\n",
       "      <td>vrijdag opnieuw zonovergoten dag hoge temperat...</td>\n",
       "    </tr>\n",
       "    <tr>\n",
       "      <th>92</th>\n",
       "      <td>6</td>\n",
       "      <td>eerste regionale hittegolf van zeven dagen in ...</td>\n",
       "      <td>NU</td>\n",
       "      <td>2023-09-10</td>\n",
       "      <td>Binnenland</td>\n",
       "      <td>https://www.nu.nl/binnenland/6280284/nieuw-wee...</td>\n",
       "      <td>De herfst staat voor de deur, maar op de valre...</td>\n",
       "      <td>De herfst staat voor de deur, maar op de valre...</td>\n",
       "      <td>['Landelijke hittegolf blijft waarschijnlijk u...</td>\n",
       "      <td>None</td>\n",
       "      <td>['https://media.nu.nl/m/f00x20nak52h_wd854/nie...</td>\n",
       "      <td>True</td>\n",
       "      <td>True</td>\n",
       "      <td>herfst staat deur valreep nederland hitterecor...</td>\n",
       "    </tr>\n",
       "    <tr>\n",
       "      <th>93</th>\n",
       "      <td>45</td>\n",
       "      <td>Zomerweer doet stap terug, wisselvallige week ...</td>\n",
       "      <td>NU</td>\n",
       "      <td>2023-09-10</td>\n",
       "      <td>Weerbericht</td>\n",
       "      <td>https://www.nu.nl/weerbericht/6280289/zomerwee...</td>\n",
       "      <td>Toch wordt komende week ook voor de oostelijke...</td>\n",
       "      <td>Na een prachtige nazomerweek slaat het weer om...</td>\n",
       "      <td>[]</td>\n",
       "      <td>None</td>\n",
       "      <td>['https://media.nu.nl/m/5ykxf4ea9gej_wd854/zom...</td>\n",
       "      <td>True</td>\n",
       "      <td>True</td>\n",
       "      <td>prachtige nazomerweek slaat weer komende dagen...</td>\n",
       "    </tr>\n",
       "    <tr>\n",
       "      <th>94</th>\n",
       "      <td>21</td>\n",
       "      <td>Zeven tropische dagen op rij: 'heetste week va...</td>\n",
       "      <td>NU</td>\n",
       "      <td>2023-09-11</td>\n",
       "      <td>Klimaat</td>\n",
       "      <td>https://www.nu.nl/klimaat/6280388/zeven-tropis...</td>\n",
       "      <td>Net als in juni is er ook deze september opnie...</td>\n",
       "      <td>Vandaag zijn voor de zevende dag op rij lokaal...</td>\n",
       "      <td>[]</td>\n",
       "      <td>None</td>\n",
       "      <td>['https://media.nu.nl/m/r8oxn4aapadx_wd854/zev...</td>\n",
       "      <td>True</td>\n",
       "      <td>True</td>\n",
       "      <td>vandaag zevende dag rij lokaal tropische tempe...</td>\n",
       "    </tr>\n",
       "  </tbody>\n",
       "</table>\n",
       "<p>95 rows × 14 columns</p>\n",
       "</div>"
      ],
      "text/plain": [
       "    search_rank                                              title source  \\\n",
       "0            71  Zware onweersbuien trekken over Nederland | Bi...     NU   \n",
       "1            77  'Overheid laks in aanpak gevaarlijke tijgermug...     NU   \n",
       "2            11  Nederland wordt langzaam net zo warm als Zuid-...     NU   \n",
       "3            34  'Kou doodt veel meer mensen dan warm weer' | W...     NU   \n",
       "4            63  'Waterverbruik al met 20 procent toegenomen' |...     NU   \n",
       "..          ...                                                ...    ...   \n",
       "90            8  Zeldzame regionale septemberhittegolf een feit...     NU   \n",
       "91           27  Weerbericht: De (werk)week eindigt net zo trop...     NU   \n",
       "92            6  eerste regionale hittegolf van zeven dagen in ...     NU   \n",
       "93           45  Zomerweer doet stap terug, wisselvallige week ...     NU   \n",
       "94           21  Zeven tropische dagen op rij: 'heetste week va...     NU   \n",
       "\n",
       "         date     category                                                url  \\\n",
       "0  2013-07-26   Binnenland  https://www.nu.nl/binnenland/3535382/zware-onw...   \n",
       "1  2013-07-28   Binnenland  https://www.nu.nl/binnenland/3536841/overheid-...   \n",
       "2  2014-12-12    Nuweekend  https://www.nu.nl/weekend/3951566/nederland-wo...   \n",
       "3  2015-05-21   Wetenschap  https://www.nu.nl/wetenschap/4053535/kou-doodt...   \n",
       "4  2015-06-30        Wonen  https://www.nu.nl/wonen-en-interieur/4078589/w...   \n",
       "..        ...          ...                                                ...   \n",
       "90 2023-09-08   Binnenland  https://www.nu.nl/binnenland/6280029/zeldzame-...   \n",
       "91 2023-09-08   Binnenland  https://www.nu.nl/binnenland/6279983/weerberic...   \n",
       "92 2023-09-10   Binnenland  https://www.nu.nl/binnenland/6280284/nieuw-wee...   \n",
       "93 2023-09-10  Weerbericht  https://www.nu.nl/weerbericht/6280289/zomerwee...   \n",
       "94 2023-09-11      Klimaat  https://www.nu.nl/klimaat/6280388/zeven-tropis...   \n",
       "\n",
       "                                              snippet  \\\n",
       "0   Foto's van het zomerweer l Zevende hittegolf s...   \n",
       "1   Het platform is er niet gerust op dat het de o...   \n",
       "2   Geen hittegolf en toch het warmste jaar in (mi...   \n",
       "3   Opvallend is ook dat er op de lange termijn me...   \n",
       "4   De temperatuur in Nederland gaat gestaag omhoo...   \n",
       "..                                                ...   \n",
       "90  Dit betekent dat het vijf dagen op rij warm is...   \n",
       "91  Het is al zoveel dagen mooi weer dat er region...   \n",
       "92  De herfst staat voor de deur, maar op de valre...   \n",
       "93  Toch wordt komende week ook voor de oostelijke...   \n",
       "94  Net als in juni is er ook deze september opnie...   \n",
       "\n",
       "                                         article_text  \\\n",
       "0   Festivals en evenementen moeten dit weekend re...   \n",
       "1   De overheid is laks in de aanpak van de uithee...   \n",
       "2   Geen hittegolf en toch het warmste jaar in (mi...   \n",
       "3   Bij koud weer komen meer mensen om het leven d...   \n",
       "4   De temperatuur in Nederland gaat gestaag omhoo...   \n",
       "..                                                ...   \n",
       "90  Na een warm begin van de dag is er vrijdag off...   \n",
       "91  Vrijdag wordt opnieuw een zonovergoten dag met...   \n",
       "92  De herfst staat voor de deur, maar op de valre...   \n",
       "93  Na een prachtige nazomerweek slaat het weer om...   \n",
       "94  Vandaag zijn voor de zevende dag op rij lokaal...   \n",
       "\n",
       "                                          subheadings   tag  \\\n",
       "0   ['Festivals', 'Zwaarste buien', 'Oppassen', 'B...  None   \n",
       "1   ['Overbodig', 'Knokkelkoorts', 'Lastig te vind...  None   \n",
       "2   ['Lente leek op zomer', 'Broeikasgassen', 'Voo...  None   \n",
       "3            ['Opvallend', 'Gematigd', 'Maatregelen']  None   \n",
       "4                                                  []  None   \n",
       "..                                                ...   ...   \n",
       "90  ['Deze week is ongekend warm', 'Vooralsnog gee...  None   \n",
       "91                                                 []  None   \n",
       "92  ['Landelijke hittegolf blijft waarschijnlijk u...  None   \n",
       "93                                                 []  None   \n",
       "94                                                 []  None   \n",
       "\n",
       "                                             img_urls comments_present  \\\n",
       "0   ['https://media.nu.nl/m/m1mxwtsa4x7w_wd854/bli...            False   \n",
       "1   ['https://media.nu.nl/m/m1nxc5lal045_wd854/tij...            False   \n",
       "2   ['https://media.nu.nl/m/m1oxidmapv50_wd854/zon...            False   \n",
       "3   ['https://media.nu.nl/m/m1oxlplaump1_wd854/chi...            False   \n",
       "4   ['https://media.nu.nl/m/m1oxblxaq0sn_wd854/wat...            False   \n",
       "..                                                ...              ...   \n",
       "90  ['https://media.nu.nl/m/7e1xridafznh_wd854/zel...             True   \n",
       "91  ['https://media.nu.nl/m/4gfxp1favdx4_wd854/ijs...             True   \n",
       "92  ['https://media.nu.nl/m/f00x20nak52h_wd854/nie...             True   \n",
       "93  ['https://media.nu.nl/m/5ykxf4ea9gej_wd854/zom...             True   \n",
       "94  ['https://media.nu.nl/m/r8oxn4aapadx_wd854/zev...             True   \n",
       "\n",
       "    scraped                                  preprocessed_text  \n",
       "0      True  festivals evenementen moeten weekend rekening ...  \n",
       "1      True  overheid laks aanpak uitheemse tijgermug zegt ...  \n",
       "2      True  hittegolf warmste jaar minstens drie eeuwen me...  \n",
       "3      True  koud weer komen mensen leven zeer warme weerso...  \n",
       "4      True  temperatuur nederland gaat gestaag omhoog wate...  \n",
       "..      ...                                                ...  \n",
       "90     True  warm begin dag vrijdag officieel sprake region...  \n",
       "91     True  vrijdag opnieuw zonovergoten dag hoge temperat...  \n",
       "92     True  herfst staat deur valreep nederland hitterecor...  \n",
       "93     True  prachtige nazomerweek slaat weer komende dagen...  \n",
       "94     True  vandaag zevende dag rij lokaal tropische tempe...  \n",
       "\n",
       "[95 rows x 14 columns]"
      ]
     },
     "execution_count": 5,
     "metadata": {},
     "output_type": "execute_result"
    }
   ],
   "source": [
    "df_articles['preprocessed_text'] = df_articles['article_text'].apply(preprocess_text)\n",
    "\n",
    "df_articles"
   ]
  },
  {
   "cell_type": "code",
   "execution_count": 6,
   "metadata": {},
   "outputs": [
    {
     "name": "stderr",
     "output_type": "stream",
     "text": [
      "No sentence-transformers model found with name C:\\Users\\kianb/.cache\\torch\\sentence_transformers\\pdelobelle_robbert-v2-dutch-base. Creating a new one with MEAN pooling.\n",
      "Some weights of RobertaModel were not initialized from the model checkpoint at C:\\Users\\kianb/.cache\\torch\\sentence_transformers\\pdelobelle_robbert-v2-dutch-base and are newly initialized: ['roberta.pooler.dense.bias', 'roberta.pooler.dense.weight']\n",
      "You should probably TRAIN this model on a down-stream task to be able to use it for predictions and inference.\n"
     ]
    },
    {
     "data": {
      "application/vnd.jupyter.widget-view+json": {
       "model_id": "67054b6acf3047f0a0a9a848b6104a32",
       "version_major": 2,
       "version_minor": 0
      },
      "text/plain": [
       "Batches:   0%|          | 0/3 [00:00<?, ?it/s]"
      ]
     },
     "metadata": {},
     "output_type": "display_data"
    },
    {
     "name": "stderr",
     "output_type": "stream",
     "text": [
      "2024-01-10 20:20:30,457 - BERTopic - Reduced dimensionality\n",
      "2024-01-10 20:20:30,474 - BERTopic - Clustered reduced embeddings\n"
     ]
    }
   ],
   "source": [
    "from bertopic import BERTopic\n",
    "from sklearn.feature_extraction.text import CountVectorizer\n",
    "from bertopic.vectorizers import ClassTfidfTransformer\n",
    "from sentence_transformers import SentenceTransformer\n",
    "from umap import UMAP\n",
    "from hdbscan import HDBSCAN\n",
    "\n",
    "# preprocessed_texts = [preprocess_text(text) for text in df_articles['article_text'].to_list()]\n",
    "# preprocessed_texts_flat = [x for xs in preprocessed_texts for x in xs]\n",
    "\n",
    "# loading RobBERT\n",
    "model_name = 'pdelobelle/robbert-v2-dutch-base'\n",
    "embedding_model = SentenceTransformer(model_name)\n",
    "embeddings = embedding_model.encode(df_articles['preprocessed_text'], show_progress_bar=True)\n",
    "\n",
    "# CTIDF\n",
    "ctfidf = ClassTfidfTransformer(reduce_frequent_words=True)\n",
    "\n",
    "\n",
    "hdbscan_model = HDBSCAN(min_cluster_size=3, metric='euclidean', cluster_selection_method='eom', prediction_data=True, min_samples=1)\n",
    "\n",
    "umap_model = UMAP(n_neighbors=3, n_components=5, min_dist=0.0, metric='cosine', random_state=42)\n",
    "\n",
    "# initialize the model\n",
    "topic_model = BERTopic(\n",
    "    language='dutch',\n",
    "    embedding_model=embedding_model,\n",
    "    top_n_words=5,\n",
    "    umap_model=umap_model,\n",
    "    hdbscan_model=hdbscan_model,\n",
    "    vectorizer_model=CountVectorizer(stop_words=stop_words),\n",
    "    ctfidf_model=ctfidf,\n",
    "    n_gram_range=(1, 2),\n",
    "    min_topic_size=1,\n",
    "    # nr_topics='auto',\n",
    "    verbose=True)\n",
    "\n",
    "# fit the model on the preprocessed comments\n",
    "topics, _ = topic_model.fit_transform(df_articles['preprocessed_text'], embeddings=embeddings)"
   ]
  },
  {
   "cell_type": "code",
   "execution_count": 7,
   "metadata": {},
   "outputs": [
    {
     "data": {
      "text/plain": [
       "{0: [('mensen', 0.31169563737148737),\n",
       "  ('branden', 0.29898321194960337),\n",
       "  ('zee', 0.29566564138101753),\n",
       "  ('hulp', 0.29532982966989973),\n",
       "  ('bas', 0.29532982966989973)],\n",
       " 1: [('graden', 0.3934571888197011),\n",
       "  ('record', 0.3610411120884214),\n",
       "  ('oktober', 0.34234702091195884),\n",
       "  ('temperatuur', 0.3381227886557122),\n",
       "  ('donderdag', 0.32933504238903555)],\n",
       " 2: [('droogte', 0.3454558935801798),\n",
       "  ('water', 0.32264533180072763),\n",
       "  ('zomer', 0.31189266942337246),\n",
       "  ('nederland', 0.2885353179225355),\n",
       "  ('rijn', 0.2727139629646303)],\n",
       " 3: [('hitte', 0.34391405328831043),\n",
       "  ('kun', 0.33487952762560574),\n",
       "  ('zorg', 0.31114476112917927),\n",
       "  ('kunt', 0.2990711452752666),\n",
       "  ('lichaam', 0.2983764711028873)],\n",
       " 4: [('buien', 0.5073241541761987),\n",
       "  ('weerbericht', 0.43781298495123866),\n",
       "  ('graden', 0.4228450791662682),\n",
       "  ('nacht', 0.4173373239779273),\n",
       "  ('zondag', 0.40957518053344627)],\n",
       " 5: [('kunst', 0.43757924581147967),\n",
       "  ('italië', 0.4169018728183108),\n",
       "  ('tijgermug', 0.4040552519544964),\n",
       "  ('overheid', 0.39441090891358876),\n",
       "  ('ns', 0.39441090891358876)],\n",
       " 6: [('straalstroom', 0.4190431522183096),\n",
       "  ('lucht', 0.41653177330603414),\n",
       "  ('groenland', 0.35437872843127854),\n",
       "  ('boven', 0.3313243150324773),\n",
       "  ('ijskap', 0.32929180698176064)],\n",
       " 7: [('regionale', 0.6928673976704715),\n",
       "  ('hittegolf', 0.5961609028661775),\n",
       "  ('dagen', 0.5599004671810961),\n",
       "  ('woensdrecht', 0.5287500127476075),\n",
       "  ('september', 0.5003266773369245)],\n",
       " 8: [('hittegolven', 0.4464593603635238),\n",
       "  ('knmi', 0.4095047625872605),\n",
       "  ('opwarming', 0.38836245256575314),\n",
       "  ('onderzoek', 0.37169000463011787),\n",
       "  ('beschutte', 0.368538915685846)],\n",
       " 9: [('app', 0.5419745822330516),\n",
       "  ('oceaan', 0.4947279228320894),\n",
       "  ('niño', 0.4642248949571324),\n",
       "  ('el', 0.43262701835528966),\n",
       "  ('noordatlantische', 0.3832457488571372)],\n",
       " 10: [('juli', 0.5998450389013908),\n",
       "  ('millimeter', 0.5922890683922807),\n",
       "  ('viel', 0.5493853785517435),\n",
       "  ('maand', 0.5436025684554513),\n",
       "  ('augustus', 0.5084858102746459)],\n",
       " 11: [('aircos', 0.6147107413941605),\n",
       "  ('datacenter', 0.46982543769620005),\n",
       "  ('datacenters', 0.4283218621677759),\n",
       "  ('klous', 0.4283218621677759),\n",
       "  ('energie', 0.4215375230190655)]}"
      ]
     },
     "execution_count": 7,
     "metadata": {},
     "output_type": "execute_result"
    }
   ],
   "source": [
    "# interpret topics\n",
    "topic_model.get_topics()"
   ]
  },
  {
   "cell_type": "code",
   "execution_count": 8,
   "metadata": {},
   "outputs": [],
   "source": [
    "topic_model.set_topic_labels({0: 'Heat Impacts & Response', 1: 'Record Temperatures in October', 2: 'Water Crises & Droughts', 3: 'Health & Selfcare During Heatwaves', \n",
    "                              4: 'Weather Forecasts & Nighttime', 5: 'Effects & Structural Challenges Of Heatwaves', 6: 'Climatic Changes', 7: 'Heatwaves in September', \n",
    "                              8: 'Reseach on and Combating Climate Change', 9: 'Technology & Atmospheric Phenomena', 10: 'Summer Months & Rainfall', \n",
    "                              11: 'Energy, Cooling & Data Infrastructure'})"
   ]
  },
  {
   "cell_type": "code",
   "execution_count": 9,
   "metadata": {},
   "outputs": [
    {
     "data": {
      "application/vnd.plotly.v1+json": {
       "config": {
        "plotlyServerURL": "https://plot.ly"
       },
       "data": [
        {
         "customdata": [
          [
           0,
           "Heat Impacts & Response",
           21
          ],
          [
           1,
           "Record Temperatures in October",
           13
          ],
          [
           2,
           "Water Crises & Droughts",
           11
          ],
          [
           3,
           "Health & Selfcare During Heatwaves",
           10
          ],
          [
           4,
           "Weather Forecasts & Nighttime",
           9
          ],
          [
           5,
           "Effects & Structural Challenges Of Heatwaves",
           7
          ],
          [
           6,
           "Climatic Changes",
           5
          ],
          [
           7,
           "Heatwaves in September",
           5
          ],
          [
           8,
           "Reseach on and Combating Climate Change",
           4
          ],
          [
           9,
           "Technology & Atmospheric Phenomena",
           4
          ],
          [
           10,
           "Summer Months & Rainfall",
           3
          ],
          [
           11,
           "Energy, Cooling & Data Infrastructure",
           3
          ]
         ],
         "hovertemplate": "<b>Topic %{customdata[0]}</b><br>%{customdata[1]}<br>Size: %{customdata[2]}",
         "legendgroup": "",
         "marker": {
          "color": "#B0BEC5",
          "line": {
           "color": "DarkSlateGrey",
           "width": 2
          },
          "size": [
           21,
           13,
           11,
           10,
           9,
           7,
           5,
           5,
           4,
           4,
           3,
           3
          ],
          "sizemode": "area",
          "sizeref": 0.013125,
          "symbol": "circle"
         },
         "mode": "markers",
         "name": "",
         "orientation": "v",
         "showlegend": false,
         "type": "scatter",
         "x": [
          22.4171199798584,
          -1.4727740287780762,
          5.562310695648193,
          5.917881488800049,
          -1.5999767780303955,
          22.1622371673584,
          5.546584129333496,
          -1.1951005458831787,
          5.743443965911865,
          5.220150947570801,
          -1.9240349531173706,
          5.818848133087158
         ],
         "xaxis": "x",
         "y": [
          16.193078994750977,
          7.117076873779297,
          -1.5018458366394043,
          -1.038231372833252,
          6.246800899505615,
          15.938183784484863,
          -2.7675118446350098,
          6.800416946411133,
          -2.2316787242889404,
          -2.2949888706207275,
          6.927571773529053,
          -0.5918707847595215
         ],
         "yaxis": "y"
        }
       ],
       "layout": {
        "annotations": [
         {
          "showarrow": false,
          "text": "D1",
          "x": -2.212640196084976,
          "y": 7.719701111316682,
          "yshift": 10
         },
         {
          "showarrow": false,
          "text": "D2",
          "x": 11.783523890376092,
          "xshift": 10,
          "y": 18.622040843963624
         }
        ],
        "height": 650,
        "hoverlabel": {
         "bgcolor": "white",
         "font": {
          "family": "Rockwell",
          "size": 16
         }
        },
        "legend": {
         "itemsizing": "constant",
         "tracegroupgap": 0
        },
        "margin": {
         "t": 60
        },
        "shapes": [
         {
          "line": {
           "color": "#CFD8DC",
           "width": 2
          },
          "type": "line",
          "x0": 11.783523890376092,
          "x1": 11.783523890376092,
          "y0": -3.1826386213302613,
          "y1": 18.622040843963624
         },
         {
          "line": {
           "color": "#9E9E9E",
           "width": 2
          },
          "type": "line",
          "x0": -2.212640196084976,
          "x1": 25.77968797683716,
          "y0": 7.719701111316682,
          "y1": 7.719701111316682
         }
        ],
        "sliders": [
         {
          "active": 0,
          "pad": {
           "t": 50
          },
          "steps": [
           {
            "args": [
             {
              "marker.color": [
               [
                "red",
                "#B0BEC5",
                "#B0BEC5",
                "#B0BEC5",
                "#B0BEC5",
                "#B0BEC5",
                "#B0BEC5",
                "#B0BEC5",
                "#B0BEC5",
                "#B0BEC5",
                "#B0BEC5",
                "#B0BEC5"
               ]
              ]
             }
            ],
            "label": "Topic 0",
            "method": "update"
           },
           {
            "args": [
             {
              "marker.color": [
               [
                "#B0BEC5",
                "red",
                "#B0BEC5",
                "#B0BEC5",
                "#B0BEC5",
                "#B0BEC5",
                "#B0BEC5",
                "#B0BEC5",
                "#B0BEC5",
                "#B0BEC5",
                "#B0BEC5",
                "#B0BEC5"
               ]
              ]
             }
            ],
            "label": "Topic 1",
            "method": "update"
           },
           {
            "args": [
             {
              "marker.color": [
               [
                "#B0BEC5",
                "#B0BEC5",
                "red",
                "#B0BEC5",
                "#B0BEC5",
                "#B0BEC5",
                "#B0BEC5",
                "#B0BEC5",
                "#B0BEC5",
                "#B0BEC5",
                "#B0BEC5",
                "#B0BEC5"
               ]
              ]
             }
            ],
            "label": "Topic 2",
            "method": "update"
           },
           {
            "args": [
             {
              "marker.color": [
               [
                "#B0BEC5",
                "#B0BEC5",
                "#B0BEC5",
                "red",
                "#B0BEC5",
                "#B0BEC5",
                "#B0BEC5",
                "#B0BEC5",
                "#B0BEC5",
                "#B0BEC5",
                "#B0BEC5",
                "#B0BEC5"
               ]
              ]
             }
            ],
            "label": "Topic 3",
            "method": "update"
           },
           {
            "args": [
             {
              "marker.color": [
               [
                "#B0BEC5",
                "#B0BEC5",
                "#B0BEC5",
                "#B0BEC5",
                "red",
                "#B0BEC5",
                "#B0BEC5",
                "#B0BEC5",
                "#B0BEC5",
                "#B0BEC5",
                "#B0BEC5",
                "#B0BEC5"
               ]
              ]
             }
            ],
            "label": "Topic 4",
            "method": "update"
           },
           {
            "args": [
             {
              "marker.color": [
               [
                "#B0BEC5",
                "#B0BEC5",
                "#B0BEC5",
                "#B0BEC5",
                "#B0BEC5",
                "red",
                "#B0BEC5",
                "#B0BEC5",
                "#B0BEC5",
                "#B0BEC5",
                "#B0BEC5",
                "#B0BEC5"
               ]
              ]
             }
            ],
            "label": "Topic 5",
            "method": "update"
           },
           {
            "args": [
             {
              "marker.color": [
               [
                "#B0BEC5",
                "#B0BEC5",
                "#B0BEC5",
                "#B0BEC5",
                "#B0BEC5",
                "#B0BEC5",
                "red",
                "#B0BEC5",
                "#B0BEC5",
                "#B0BEC5",
                "#B0BEC5",
                "#B0BEC5"
               ]
              ]
             }
            ],
            "label": "Topic 6",
            "method": "update"
           },
           {
            "args": [
             {
              "marker.color": [
               [
                "#B0BEC5",
                "#B0BEC5",
                "#B0BEC5",
                "#B0BEC5",
                "#B0BEC5",
                "#B0BEC5",
                "#B0BEC5",
                "red",
                "#B0BEC5",
                "#B0BEC5",
                "#B0BEC5",
                "#B0BEC5"
               ]
              ]
             }
            ],
            "label": "Topic 7",
            "method": "update"
           },
           {
            "args": [
             {
              "marker.color": [
               [
                "#B0BEC5",
                "#B0BEC5",
                "#B0BEC5",
                "#B0BEC5",
                "#B0BEC5",
                "#B0BEC5",
                "#B0BEC5",
                "#B0BEC5",
                "red",
                "#B0BEC5",
                "#B0BEC5",
                "#B0BEC5"
               ]
              ]
             }
            ],
            "label": "Topic 8",
            "method": "update"
           },
           {
            "args": [
             {
              "marker.color": [
               [
                "#B0BEC5",
                "#B0BEC5",
                "#B0BEC5",
                "#B0BEC5",
                "#B0BEC5",
                "#B0BEC5",
                "#B0BEC5",
                "#B0BEC5",
                "#B0BEC5",
                "red",
                "#B0BEC5",
                "#B0BEC5"
               ]
              ]
             }
            ],
            "label": "Topic 9",
            "method": "update"
           },
           {
            "args": [
             {
              "marker.color": [
               [
                "#B0BEC5",
                "#B0BEC5",
                "#B0BEC5",
                "#B0BEC5",
                "#B0BEC5",
                "#B0BEC5",
                "#B0BEC5",
                "#B0BEC5",
                "#B0BEC5",
                "#B0BEC5",
                "red",
                "#B0BEC5"
               ]
              ]
             }
            ],
            "label": "Topic 10",
            "method": "update"
           },
           {
            "args": [
             {
              "marker.color": [
               [
                "#B0BEC5",
                "#B0BEC5",
                "#B0BEC5",
                "#B0BEC5",
                "#B0BEC5",
                "#B0BEC5",
                "#B0BEC5",
                "#B0BEC5",
                "#B0BEC5",
                "#B0BEC5",
                "#B0BEC5",
                "red"
               ]
              ]
             }
            ],
            "label": "Topic 11",
            "method": "update"
           }
          ]
         }
        ],
        "template": {
         "data": {
          "bar": [
           {
            "error_x": {
             "color": "rgb(36,36,36)"
            },
            "error_y": {
             "color": "rgb(36,36,36)"
            },
            "marker": {
             "line": {
              "color": "white",
              "width": 0.5
             },
             "pattern": {
              "fillmode": "overlay",
              "size": 10,
              "solidity": 0.2
             }
            },
            "type": "bar"
           }
          ],
          "barpolar": [
           {
            "marker": {
             "line": {
              "color": "white",
              "width": 0.5
             },
             "pattern": {
              "fillmode": "overlay",
              "size": 10,
              "solidity": 0.2
             }
            },
            "type": "barpolar"
           }
          ],
          "carpet": [
           {
            "aaxis": {
             "endlinecolor": "rgb(36,36,36)",
             "gridcolor": "white",
             "linecolor": "white",
             "minorgridcolor": "white",
             "startlinecolor": "rgb(36,36,36)"
            },
            "baxis": {
             "endlinecolor": "rgb(36,36,36)",
             "gridcolor": "white",
             "linecolor": "white",
             "minorgridcolor": "white",
             "startlinecolor": "rgb(36,36,36)"
            },
            "type": "carpet"
           }
          ],
          "choropleth": [
           {
            "colorbar": {
             "outlinewidth": 1,
             "tickcolor": "rgb(36,36,36)",
             "ticks": "outside"
            },
            "type": "choropleth"
           }
          ],
          "contour": [
           {
            "colorbar": {
             "outlinewidth": 1,
             "tickcolor": "rgb(36,36,36)",
             "ticks": "outside"
            },
            "colorscale": [
             [
              0,
              "#440154"
             ],
             [
              0.1111111111111111,
              "#482878"
             ],
             [
              0.2222222222222222,
              "#3e4989"
             ],
             [
              0.3333333333333333,
              "#31688e"
             ],
             [
              0.4444444444444444,
              "#26828e"
             ],
             [
              0.5555555555555556,
              "#1f9e89"
             ],
             [
              0.6666666666666666,
              "#35b779"
             ],
             [
              0.7777777777777778,
              "#6ece58"
             ],
             [
              0.8888888888888888,
              "#b5de2b"
             ],
             [
              1,
              "#fde725"
             ]
            ],
            "type": "contour"
           }
          ],
          "contourcarpet": [
           {
            "colorbar": {
             "outlinewidth": 1,
             "tickcolor": "rgb(36,36,36)",
             "ticks": "outside"
            },
            "type": "contourcarpet"
           }
          ],
          "heatmap": [
           {
            "colorbar": {
             "outlinewidth": 1,
             "tickcolor": "rgb(36,36,36)",
             "ticks": "outside"
            },
            "colorscale": [
             [
              0,
              "#440154"
             ],
             [
              0.1111111111111111,
              "#482878"
             ],
             [
              0.2222222222222222,
              "#3e4989"
             ],
             [
              0.3333333333333333,
              "#31688e"
             ],
             [
              0.4444444444444444,
              "#26828e"
             ],
             [
              0.5555555555555556,
              "#1f9e89"
             ],
             [
              0.6666666666666666,
              "#35b779"
             ],
             [
              0.7777777777777778,
              "#6ece58"
             ],
             [
              0.8888888888888888,
              "#b5de2b"
             ],
             [
              1,
              "#fde725"
             ]
            ],
            "type": "heatmap"
           }
          ],
          "heatmapgl": [
           {
            "colorbar": {
             "outlinewidth": 1,
             "tickcolor": "rgb(36,36,36)",
             "ticks": "outside"
            },
            "colorscale": [
             [
              0,
              "#440154"
             ],
             [
              0.1111111111111111,
              "#482878"
             ],
             [
              0.2222222222222222,
              "#3e4989"
             ],
             [
              0.3333333333333333,
              "#31688e"
             ],
             [
              0.4444444444444444,
              "#26828e"
             ],
             [
              0.5555555555555556,
              "#1f9e89"
             ],
             [
              0.6666666666666666,
              "#35b779"
             ],
             [
              0.7777777777777778,
              "#6ece58"
             ],
             [
              0.8888888888888888,
              "#b5de2b"
             ],
             [
              1,
              "#fde725"
             ]
            ],
            "type": "heatmapgl"
           }
          ],
          "histogram": [
           {
            "marker": {
             "line": {
              "color": "white",
              "width": 0.6
             }
            },
            "type": "histogram"
           }
          ],
          "histogram2d": [
           {
            "colorbar": {
             "outlinewidth": 1,
             "tickcolor": "rgb(36,36,36)",
             "ticks": "outside"
            },
            "colorscale": [
             [
              0,
              "#440154"
             ],
             [
              0.1111111111111111,
              "#482878"
             ],
             [
              0.2222222222222222,
              "#3e4989"
             ],
             [
              0.3333333333333333,
              "#31688e"
             ],
             [
              0.4444444444444444,
              "#26828e"
             ],
             [
              0.5555555555555556,
              "#1f9e89"
             ],
             [
              0.6666666666666666,
              "#35b779"
             ],
             [
              0.7777777777777778,
              "#6ece58"
             ],
             [
              0.8888888888888888,
              "#b5de2b"
             ],
             [
              1,
              "#fde725"
             ]
            ],
            "type": "histogram2d"
           }
          ],
          "histogram2dcontour": [
           {
            "colorbar": {
             "outlinewidth": 1,
             "tickcolor": "rgb(36,36,36)",
             "ticks": "outside"
            },
            "colorscale": [
             [
              0,
              "#440154"
             ],
             [
              0.1111111111111111,
              "#482878"
             ],
             [
              0.2222222222222222,
              "#3e4989"
             ],
             [
              0.3333333333333333,
              "#31688e"
             ],
             [
              0.4444444444444444,
              "#26828e"
             ],
             [
              0.5555555555555556,
              "#1f9e89"
             ],
             [
              0.6666666666666666,
              "#35b779"
             ],
             [
              0.7777777777777778,
              "#6ece58"
             ],
             [
              0.8888888888888888,
              "#b5de2b"
             ],
             [
              1,
              "#fde725"
             ]
            ],
            "type": "histogram2dcontour"
           }
          ],
          "mesh3d": [
           {
            "colorbar": {
             "outlinewidth": 1,
             "tickcolor": "rgb(36,36,36)",
             "ticks": "outside"
            },
            "type": "mesh3d"
           }
          ],
          "parcoords": [
           {
            "line": {
             "colorbar": {
              "outlinewidth": 1,
              "tickcolor": "rgb(36,36,36)",
              "ticks": "outside"
             }
            },
            "type": "parcoords"
           }
          ],
          "pie": [
           {
            "automargin": true,
            "type": "pie"
           }
          ],
          "scatter": [
           {
            "fillpattern": {
             "fillmode": "overlay",
             "size": 10,
             "solidity": 0.2
            },
            "type": "scatter"
           }
          ],
          "scatter3d": [
           {
            "line": {
             "colorbar": {
              "outlinewidth": 1,
              "tickcolor": "rgb(36,36,36)",
              "ticks": "outside"
             }
            },
            "marker": {
             "colorbar": {
              "outlinewidth": 1,
              "tickcolor": "rgb(36,36,36)",
              "ticks": "outside"
             }
            },
            "type": "scatter3d"
           }
          ],
          "scattercarpet": [
           {
            "marker": {
             "colorbar": {
              "outlinewidth": 1,
              "tickcolor": "rgb(36,36,36)",
              "ticks": "outside"
             }
            },
            "type": "scattercarpet"
           }
          ],
          "scattergeo": [
           {
            "marker": {
             "colorbar": {
              "outlinewidth": 1,
              "tickcolor": "rgb(36,36,36)",
              "ticks": "outside"
             }
            },
            "type": "scattergeo"
           }
          ],
          "scattergl": [
           {
            "marker": {
             "colorbar": {
              "outlinewidth": 1,
              "tickcolor": "rgb(36,36,36)",
              "ticks": "outside"
             }
            },
            "type": "scattergl"
           }
          ],
          "scattermapbox": [
           {
            "marker": {
             "colorbar": {
              "outlinewidth": 1,
              "tickcolor": "rgb(36,36,36)",
              "ticks": "outside"
             }
            },
            "type": "scattermapbox"
           }
          ],
          "scatterpolar": [
           {
            "marker": {
             "colorbar": {
              "outlinewidth": 1,
              "tickcolor": "rgb(36,36,36)",
              "ticks": "outside"
             }
            },
            "type": "scatterpolar"
           }
          ],
          "scatterpolargl": [
           {
            "marker": {
             "colorbar": {
              "outlinewidth": 1,
              "tickcolor": "rgb(36,36,36)",
              "ticks": "outside"
             }
            },
            "type": "scatterpolargl"
           }
          ],
          "scatterternary": [
           {
            "marker": {
             "colorbar": {
              "outlinewidth": 1,
              "tickcolor": "rgb(36,36,36)",
              "ticks": "outside"
             }
            },
            "type": "scatterternary"
           }
          ],
          "surface": [
           {
            "colorbar": {
             "outlinewidth": 1,
             "tickcolor": "rgb(36,36,36)",
             "ticks": "outside"
            },
            "colorscale": [
             [
              0,
              "#440154"
             ],
             [
              0.1111111111111111,
              "#482878"
             ],
             [
              0.2222222222222222,
              "#3e4989"
             ],
             [
              0.3333333333333333,
              "#31688e"
             ],
             [
              0.4444444444444444,
              "#26828e"
             ],
             [
              0.5555555555555556,
              "#1f9e89"
             ],
             [
              0.6666666666666666,
              "#35b779"
             ],
             [
              0.7777777777777778,
              "#6ece58"
             ],
             [
              0.8888888888888888,
              "#b5de2b"
             ],
             [
              1,
              "#fde725"
             ]
            ],
            "type": "surface"
           }
          ],
          "table": [
           {
            "cells": {
             "fill": {
              "color": "rgb(237,237,237)"
             },
             "line": {
              "color": "white"
             }
            },
            "header": {
             "fill": {
              "color": "rgb(217,217,217)"
             },
             "line": {
              "color": "white"
             }
            },
            "type": "table"
           }
          ]
         },
         "layout": {
          "annotationdefaults": {
           "arrowhead": 0,
           "arrowwidth": 1
          },
          "autotypenumbers": "strict",
          "coloraxis": {
           "colorbar": {
            "outlinewidth": 1,
            "tickcolor": "rgb(36,36,36)",
            "ticks": "outside"
           }
          },
          "colorscale": {
           "diverging": [
            [
             0,
             "rgb(103,0,31)"
            ],
            [
             0.1,
             "rgb(178,24,43)"
            ],
            [
             0.2,
             "rgb(214,96,77)"
            ],
            [
             0.3,
             "rgb(244,165,130)"
            ],
            [
             0.4,
             "rgb(253,219,199)"
            ],
            [
             0.5,
             "rgb(247,247,247)"
            ],
            [
             0.6,
             "rgb(209,229,240)"
            ],
            [
             0.7,
             "rgb(146,197,222)"
            ],
            [
             0.8,
             "rgb(67,147,195)"
            ],
            [
             0.9,
             "rgb(33,102,172)"
            ],
            [
             1,
             "rgb(5,48,97)"
            ]
           ],
           "sequential": [
            [
             0,
             "#440154"
            ],
            [
             0.1111111111111111,
             "#482878"
            ],
            [
             0.2222222222222222,
             "#3e4989"
            ],
            [
             0.3333333333333333,
             "#31688e"
            ],
            [
             0.4444444444444444,
             "#26828e"
            ],
            [
             0.5555555555555556,
             "#1f9e89"
            ],
            [
             0.6666666666666666,
             "#35b779"
            ],
            [
             0.7777777777777778,
             "#6ece58"
            ],
            [
             0.8888888888888888,
             "#b5de2b"
            ],
            [
             1,
             "#fde725"
            ]
           ],
           "sequentialminus": [
            [
             0,
             "#440154"
            ],
            [
             0.1111111111111111,
             "#482878"
            ],
            [
             0.2222222222222222,
             "#3e4989"
            ],
            [
             0.3333333333333333,
             "#31688e"
            ],
            [
             0.4444444444444444,
             "#26828e"
            ],
            [
             0.5555555555555556,
             "#1f9e89"
            ],
            [
             0.6666666666666666,
             "#35b779"
            ],
            [
             0.7777777777777778,
             "#6ece58"
            ],
            [
             0.8888888888888888,
             "#b5de2b"
            ],
            [
             1,
             "#fde725"
            ]
           ]
          },
          "colorway": [
           "#1F77B4",
           "#FF7F0E",
           "#2CA02C",
           "#D62728",
           "#9467BD",
           "#8C564B",
           "#E377C2",
           "#7F7F7F",
           "#BCBD22",
           "#17BECF"
          ],
          "font": {
           "color": "rgb(36,36,36)"
          },
          "geo": {
           "bgcolor": "white",
           "lakecolor": "white",
           "landcolor": "white",
           "showlakes": true,
           "showland": true,
           "subunitcolor": "white"
          },
          "hoverlabel": {
           "align": "left"
          },
          "hovermode": "closest",
          "mapbox": {
           "style": "light"
          },
          "paper_bgcolor": "white",
          "plot_bgcolor": "white",
          "polar": {
           "angularaxis": {
            "gridcolor": "rgb(232,232,232)",
            "linecolor": "rgb(36,36,36)",
            "showgrid": false,
            "showline": true,
            "ticks": "outside"
           },
           "bgcolor": "white",
           "radialaxis": {
            "gridcolor": "rgb(232,232,232)",
            "linecolor": "rgb(36,36,36)",
            "showgrid": false,
            "showline": true,
            "ticks": "outside"
           }
          },
          "scene": {
           "xaxis": {
            "backgroundcolor": "white",
            "gridcolor": "rgb(232,232,232)",
            "gridwidth": 2,
            "linecolor": "rgb(36,36,36)",
            "showbackground": true,
            "showgrid": false,
            "showline": true,
            "ticks": "outside",
            "zeroline": false,
            "zerolinecolor": "rgb(36,36,36)"
           },
           "yaxis": {
            "backgroundcolor": "white",
            "gridcolor": "rgb(232,232,232)",
            "gridwidth": 2,
            "linecolor": "rgb(36,36,36)",
            "showbackground": true,
            "showgrid": false,
            "showline": true,
            "ticks": "outside",
            "zeroline": false,
            "zerolinecolor": "rgb(36,36,36)"
           },
           "zaxis": {
            "backgroundcolor": "white",
            "gridcolor": "rgb(232,232,232)",
            "gridwidth": 2,
            "linecolor": "rgb(36,36,36)",
            "showbackground": true,
            "showgrid": false,
            "showline": true,
            "ticks": "outside",
            "zeroline": false,
            "zerolinecolor": "rgb(36,36,36)"
           }
          },
          "shapedefaults": {
           "fillcolor": "black",
           "line": {
            "width": 0
           },
           "opacity": 0.3
          },
          "ternary": {
           "aaxis": {
            "gridcolor": "rgb(232,232,232)",
            "linecolor": "rgb(36,36,36)",
            "showgrid": false,
            "showline": true,
            "ticks": "outside"
           },
           "baxis": {
            "gridcolor": "rgb(232,232,232)",
            "linecolor": "rgb(36,36,36)",
            "showgrid": false,
            "showline": true,
            "ticks": "outside"
           },
           "bgcolor": "white",
           "caxis": {
            "gridcolor": "rgb(232,232,232)",
            "linecolor": "rgb(36,36,36)",
            "showgrid": false,
            "showline": true,
            "ticks": "outside"
           }
          },
          "title": {
           "x": 0.05
          },
          "xaxis": {
           "automargin": true,
           "gridcolor": "rgb(232,232,232)",
           "linecolor": "rgb(36,36,36)",
           "showgrid": false,
           "showline": true,
           "ticks": "outside",
           "title": {
            "standoff": 15
           },
           "zeroline": false,
           "zerolinecolor": "rgb(36,36,36)"
          },
          "yaxis": {
           "automargin": true,
           "gridcolor": "rgb(232,232,232)",
           "linecolor": "rgb(36,36,36)",
           "showgrid": false,
           "showline": true,
           "ticks": "outside",
           "title": {
            "standoff": 15
           },
           "zeroline": false,
           "zerolinecolor": "rgb(36,36,36)"
          }
         }
        },
        "title": {
         "font": {
          "color": "Black",
          "size": 22
         },
         "text": "<b>Intertopic Distance Map</b>",
         "x": 0.5,
         "xanchor": "center",
         "y": 0.95,
         "yanchor": "top"
        },
        "width": 650,
        "xaxis": {
         "anchor": "y",
         "domain": [
          0,
          1
         ],
         "range": [
          -2.212640196084976,
          25.77968797683716
         ],
         "title": {
          "text": ""
         },
         "visible": false
        },
        "yaxis": {
         "anchor": "x",
         "domain": [
          0,
          1
         ],
         "range": [
          -3.1826386213302613,
          18.622040843963624
         ],
         "title": {
          "text": ""
         },
         "visible": false
        }
       }
      }
     },
     "metadata": {},
     "output_type": "display_data"
    }
   ],
   "source": [
    "# visualising topics\n",
    "topic_model.visualize_topics(custom_labels=True)"
   ]
  },
  {
   "cell_type": "code",
   "execution_count": 28,
   "metadata": {},
   "outputs": [
    {
     "data": {
      "application/vnd.plotly.v1+json": {
       "config": {
        "plotlyServerURL": "https://plot.ly"
       },
       "data": [
        {
         "marker": {
          "color": "#D55E00"
         },
         "orientation": "h",
         "type": "bar",
         "x": [
          0.29532982966989973,
          0.29532982966989973,
          0.29566564138101753,
          0.29898321194960337,
          0.31169563737148737
         ],
         "xaxis": "x",
         "y": [
          "bas  ",
          "hulp  ",
          "zee  ",
          "branden  ",
          "mensen  "
         ],
         "yaxis": "y"
        },
        {
         "marker": {
          "color": "#0072B2"
         },
         "orientation": "h",
         "type": "bar",
         "x": [
          0.32933504238903555,
          0.3381227886557122,
          0.34234702091195884,
          0.3610411120884214,
          0.3934571888197011
         ],
         "xaxis": "x2",
         "y": [
          "donderdag  ",
          "temperatuur  ",
          "oktober  ",
          "record  ",
          "graden  "
         ],
         "yaxis": "y2"
        },
        {
         "marker": {
          "color": "#CC79A7"
         },
         "orientation": "h",
         "type": "bar",
         "x": [
          0.2727139629646303,
          0.2885353179225355,
          0.31189266942337246,
          0.32264533180072763,
          0.3454558935801798
         ],
         "xaxis": "x3",
         "y": [
          "rijn  ",
          "nederland  ",
          "zomer  ",
          "water  ",
          "droogte  "
         ],
         "yaxis": "y3"
        },
        {
         "marker": {
          "color": "#E69F00"
         },
         "orientation": "h",
         "type": "bar",
         "x": [
          0.2983764711028873,
          0.2990711452752666,
          0.31114476112917927,
          0.33487952762560574,
          0.34391405328831043
         ],
         "xaxis": "x4",
         "y": [
          "lichaam  ",
          "kunt  ",
          "zorg  ",
          "kun  ",
          "hitte  "
         ],
         "yaxis": "y4"
        },
        {
         "marker": {
          "color": "#56B4E9"
         },
         "orientation": "h",
         "type": "bar",
         "x": [
          0.40957518053344627,
          0.4173373239779273,
          0.4228450791662682,
          0.43781298495123866,
          0.5073241541761987
         ],
         "xaxis": "x5",
         "y": [
          "zondag  ",
          "nacht  ",
          "graden  ",
          "weerbericht  ",
          "buien  "
         ],
         "yaxis": "y5"
        },
        {
         "marker": {
          "color": "#009E73"
         },
         "orientation": "h",
         "type": "bar",
         "x": [
          0.39441090891358876,
          0.39441090891358876,
          0.4040552519544964,
          0.4169018728183108,
          0.43757924581147967
         ],
         "xaxis": "x6",
         "y": [
          "ns  ",
          "overheid  ",
          "tijgermug  ",
          "italië  ",
          "kunst  "
         ],
         "yaxis": "y6"
        },
        {
         "marker": {
          "color": "#F0E442"
         },
         "orientation": "h",
         "type": "bar",
         "x": [
          0.32929180698176064,
          0.3313243150324773,
          0.35437872843127854,
          0.41653177330603414,
          0.4190431522183096
         ],
         "xaxis": "x7",
         "y": [
          "ijskap  ",
          "boven  ",
          "groenland  ",
          "lucht  ",
          "straalstroom  "
         ],
         "yaxis": "y7"
        },
        {
         "marker": {
          "color": "#D55E00"
         },
         "orientation": "h",
         "type": "bar",
         "x": [
          0.5003266773369245,
          0.5287500127476075,
          0.5599004671810961,
          0.5961609028661775,
          0.6928673976704715
         ],
         "xaxis": "x8",
         "y": [
          "september  ",
          "woensdrecht  ",
          "dagen  ",
          "hittegolf  ",
          "regionale  "
         ],
         "yaxis": "y8"
        },
        {
         "marker": {
          "color": "#0072B2"
         },
         "orientation": "h",
         "type": "bar",
         "x": [
          0.368538915685846,
          0.37169000463011787,
          0.38836245256575314,
          0.4095047625872605,
          0.4464593603635238
         ],
         "xaxis": "x9",
         "y": [
          "beschutte  ",
          "onderzoek  ",
          "opwarming  ",
          "knmi  ",
          "hittegolven  "
         ],
         "yaxis": "y9"
        },
        {
         "marker": {
          "color": "#CC79A7"
         },
         "orientation": "h",
         "type": "bar",
         "x": [
          0.3832457488571372,
          0.43262701835528966,
          0.4642248949571324,
          0.4947279228320894,
          0.5419745822330516
         ],
         "xaxis": "x10",
         "y": [
          "noordatlantische  ",
          "el  ",
          "niño  ",
          "oceaan  ",
          "app  "
         ],
         "yaxis": "y10"
        },
        {
         "marker": {
          "color": "#E69F00"
         },
         "orientation": "h",
         "type": "bar",
         "x": [
          0.5084858102746459,
          0.5436025684554513,
          0.5493853785517435,
          0.5922890683922807,
          0.5998450389013908
         ],
         "xaxis": "x11",
         "y": [
          "augustus  ",
          "maand  ",
          "viel  ",
          "millimeter  ",
          "juli  "
         ],
         "yaxis": "y11"
        },
        {
         "marker": {
          "color": "#56B4E9"
         },
         "orientation": "h",
         "type": "bar",
         "x": [
          0.4215375230190655,
          0.4283218621677759,
          0.4283218621677759,
          0.46982543769620005,
          0.6147107413941605
         ],
         "xaxis": "x12",
         "y": [
          "energie  ",
          "klous  ",
          "datacenters  ",
          "datacenter  ",
          "aircos  "
         ],
         "yaxis": "y12"
        }
       ],
       "layout": {
        "annotations": [
         {
          "font": {
           "size": 16
          },
          "showarrow": false,
          "text": "Heat Impacts & Response",
          "x": 0.0875,
          "xanchor": "center",
          "xref": "paper",
          "y": 1,
          "yanchor": "bottom",
          "yref": "paper"
         },
         {
          "font": {
           "size": 16
          },
          "showarrow": false,
          "text": "Record Temperatures in October",
          "x": 0.36250000000000004,
          "xanchor": "center",
          "xref": "paper",
          "y": 1,
          "yanchor": "bottom",
          "yref": "paper"
         },
         {
          "font": {
           "size": 16
          },
          "showarrow": false,
          "text": "Water Crises & Droughts",
          "x": 0.6375000000000001,
          "xanchor": "center",
          "xref": "paper",
          "y": 1,
          "yanchor": "bottom",
          "yref": "paper"
         },
         {
          "font": {
           "size": 16
          },
          "showarrow": false,
          "text": "Health & Selfcare During Heatwaves",
          "x": 0.9125,
          "xanchor": "center",
          "xref": "paper",
          "y": 1,
          "yanchor": "bottom",
          "yref": "paper"
         },
         {
          "font": {
           "size": 16
          },
          "showarrow": false,
          "text": "Weather Forecasts & Nighttime",
          "x": 0.0875,
          "xanchor": "center",
          "xref": "paper",
          "y": 0.6222222222222222,
          "yanchor": "bottom",
          "yref": "paper"
         },
         {
          "font": {
           "size": 16
          },
          "showarrow": false,
          "text": "Effects & Structural Challenges Of Heatwaves",
          "x": 0.36250000000000004,
          "xanchor": "center",
          "xref": "paper",
          "y": 0.6222222222222222,
          "yanchor": "bottom",
          "yref": "paper"
         },
         {
          "font": {
           "size": 16
          },
          "showarrow": false,
          "text": "Climatic Changes",
          "x": 0.6375000000000001,
          "xanchor": "center",
          "xref": "paper",
          "y": 0.6222222222222222,
          "yanchor": "bottom",
          "yref": "paper"
         },
         {
          "font": {
           "size": 16
          },
          "showarrow": false,
          "text": "Heatwaves in September",
          "x": 0.9125,
          "xanchor": "center",
          "xref": "paper",
          "y": 0.6222222222222222,
          "yanchor": "bottom",
          "yref": "paper"
         },
         {
          "font": {
           "size": 16
          },
          "showarrow": false,
          "text": "Reseach on and Combating Climate Change",
          "x": 0.0875,
          "xanchor": "center",
          "xref": "paper",
          "y": 0.24444444444444446,
          "yanchor": "bottom",
          "yref": "paper"
         },
         {
          "font": {
           "size": 16
          },
          "showarrow": false,
          "text": "Technology & Atmospheric Phenomena",
          "x": 0.36250000000000004,
          "xanchor": "center",
          "xref": "paper",
          "y": 0.24444444444444446,
          "yanchor": "bottom",
          "yref": "paper"
         },
         {
          "font": {
           "size": 16
          },
          "showarrow": false,
          "text": "Summer Months & Rainfall",
          "x": 0.6375000000000001,
          "xanchor": "center",
          "xref": "paper",
          "y": 0.24444444444444446,
          "yanchor": "bottom",
          "yref": "paper"
         },
         {
          "font": {
           "size": 16
          },
          "showarrow": false,
          "text": "Energy, Cooling & Data Infrastructure",
          "x": 0.9125,
          "xanchor": "center",
          "xref": "paper",
          "y": 0.24444444444444446,
          "yanchor": "bottom",
          "yref": "paper"
         }
        ],
        "height": 750,
        "hoverlabel": {
         "bgcolor": "white",
         "font": {
          "family": "Rockwell",
          "size": 16
         }
        },
        "showlegend": false,
        "template": {
         "data": {
          "bar": [
           {
            "error_x": {
             "color": "#2a3f5f"
            },
            "error_y": {
             "color": "#2a3f5f"
            },
            "marker": {
             "line": {
              "color": "white",
              "width": 0.5
             },
             "pattern": {
              "fillmode": "overlay",
              "size": 10,
              "solidity": 0.2
             }
            },
            "type": "bar"
           }
          ],
          "barpolar": [
           {
            "marker": {
             "line": {
              "color": "white",
              "width": 0.5
             },
             "pattern": {
              "fillmode": "overlay",
              "size": 10,
              "solidity": 0.2
             }
            },
            "type": "barpolar"
           }
          ],
          "carpet": [
           {
            "aaxis": {
             "endlinecolor": "#2a3f5f",
             "gridcolor": "#C8D4E3",
             "linecolor": "#C8D4E3",
             "minorgridcolor": "#C8D4E3",
             "startlinecolor": "#2a3f5f"
            },
            "baxis": {
             "endlinecolor": "#2a3f5f",
             "gridcolor": "#C8D4E3",
             "linecolor": "#C8D4E3",
             "minorgridcolor": "#C8D4E3",
             "startlinecolor": "#2a3f5f"
            },
            "type": "carpet"
           }
          ],
          "choropleth": [
           {
            "colorbar": {
             "outlinewidth": 0,
             "ticks": ""
            },
            "type": "choropleth"
           }
          ],
          "contour": [
           {
            "colorbar": {
             "outlinewidth": 0,
             "ticks": ""
            },
            "colorscale": [
             [
              0,
              "#0d0887"
             ],
             [
              0.1111111111111111,
              "#46039f"
             ],
             [
              0.2222222222222222,
              "#7201a8"
             ],
             [
              0.3333333333333333,
              "#9c179e"
             ],
             [
              0.4444444444444444,
              "#bd3786"
             ],
             [
              0.5555555555555556,
              "#d8576b"
             ],
             [
              0.6666666666666666,
              "#ed7953"
             ],
             [
              0.7777777777777778,
              "#fb9f3a"
             ],
             [
              0.8888888888888888,
              "#fdca26"
             ],
             [
              1,
              "#f0f921"
             ]
            ],
            "type": "contour"
           }
          ],
          "contourcarpet": [
           {
            "colorbar": {
             "outlinewidth": 0,
             "ticks": ""
            },
            "type": "contourcarpet"
           }
          ],
          "heatmap": [
           {
            "colorbar": {
             "outlinewidth": 0,
             "ticks": ""
            },
            "colorscale": [
             [
              0,
              "#0d0887"
             ],
             [
              0.1111111111111111,
              "#46039f"
             ],
             [
              0.2222222222222222,
              "#7201a8"
             ],
             [
              0.3333333333333333,
              "#9c179e"
             ],
             [
              0.4444444444444444,
              "#bd3786"
             ],
             [
              0.5555555555555556,
              "#d8576b"
             ],
             [
              0.6666666666666666,
              "#ed7953"
             ],
             [
              0.7777777777777778,
              "#fb9f3a"
             ],
             [
              0.8888888888888888,
              "#fdca26"
             ],
             [
              1,
              "#f0f921"
             ]
            ],
            "type": "heatmap"
           }
          ],
          "heatmapgl": [
           {
            "colorbar": {
             "outlinewidth": 0,
             "ticks": ""
            },
            "colorscale": [
             [
              0,
              "#0d0887"
             ],
             [
              0.1111111111111111,
              "#46039f"
             ],
             [
              0.2222222222222222,
              "#7201a8"
             ],
             [
              0.3333333333333333,
              "#9c179e"
             ],
             [
              0.4444444444444444,
              "#bd3786"
             ],
             [
              0.5555555555555556,
              "#d8576b"
             ],
             [
              0.6666666666666666,
              "#ed7953"
             ],
             [
              0.7777777777777778,
              "#fb9f3a"
             ],
             [
              0.8888888888888888,
              "#fdca26"
             ],
             [
              1,
              "#f0f921"
             ]
            ],
            "type": "heatmapgl"
           }
          ],
          "histogram": [
           {
            "marker": {
             "pattern": {
              "fillmode": "overlay",
              "size": 10,
              "solidity": 0.2
             }
            },
            "type": "histogram"
           }
          ],
          "histogram2d": [
           {
            "colorbar": {
             "outlinewidth": 0,
             "ticks": ""
            },
            "colorscale": [
             [
              0,
              "#0d0887"
             ],
             [
              0.1111111111111111,
              "#46039f"
             ],
             [
              0.2222222222222222,
              "#7201a8"
             ],
             [
              0.3333333333333333,
              "#9c179e"
             ],
             [
              0.4444444444444444,
              "#bd3786"
             ],
             [
              0.5555555555555556,
              "#d8576b"
             ],
             [
              0.6666666666666666,
              "#ed7953"
             ],
             [
              0.7777777777777778,
              "#fb9f3a"
             ],
             [
              0.8888888888888888,
              "#fdca26"
             ],
             [
              1,
              "#f0f921"
             ]
            ],
            "type": "histogram2d"
           }
          ],
          "histogram2dcontour": [
           {
            "colorbar": {
             "outlinewidth": 0,
             "ticks": ""
            },
            "colorscale": [
             [
              0,
              "#0d0887"
             ],
             [
              0.1111111111111111,
              "#46039f"
             ],
             [
              0.2222222222222222,
              "#7201a8"
             ],
             [
              0.3333333333333333,
              "#9c179e"
             ],
             [
              0.4444444444444444,
              "#bd3786"
             ],
             [
              0.5555555555555556,
              "#d8576b"
             ],
             [
              0.6666666666666666,
              "#ed7953"
             ],
             [
              0.7777777777777778,
              "#fb9f3a"
             ],
             [
              0.8888888888888888,
              "#fdca26"
             ],
             [
              1,
              "#f0f921"
             ]
            ],
            "type": "histogram2dcontour"
           }
          ],
          "mesh3d": [
           {
            "colorbar": {
             "outlinewidth": 0,
             "ticks": ""
            },
            "type": "mesh3d"
           }
          ],
          "parcoords": [
           {
            "line": {
             "colorbar": {
              "outlinewidth": 0,
              "ticks": ""
             }
            },
            "type": "parcoords"
           }
          ],
          "pie": [
           {
            "automargin": true,
            "type": "pie"
           }
          ],
          "scatter": [
           {
            "fillpattern": {
             "fillmode": "overlay",
             "size": 10,
             "solidity": 0.2
            },
            "type": "scatter"
           }
          ],
          "scatter3d": [
           {
            "line": {
             "colorbar": {
              "outlinewidth": 0,
              "ticks": ""
             }
            },
            "marker": {
             "colorbar": {
              "outlinewidth": 0,
              "ticks": ""
             }
            },
            "type": "scatter3d"
           }
          ],
          "scattercarpet": [
           {
            "marker": {
             "colorbar": {
              "outlinewidth": 0,
              "ticks": ""
             }
            },
            "type": "scattercarpet"
           }
          ],
          "scattergeo": [
           {
            "marker": {
             "colorbar": {
              "outlinewidth": 0,
              "ticks": ""
             }
            },
            "type": "scattergeo"
           }
          ],
          "scattergl": [
           {
            "marker": {
             "colorbar": {
              "outlinewidth": 0,
              "ticks": ""
             }
            },
            "type": "scattergl"
           }
          ],
          "scattermapbox": [
           {
            "marker": {
             "colorbar": {
              "outlinewidth": 0,
              "ticks": ""
             }
            },
            "type": "scattermapbox"
           }
          ],
          "scatterpolar": [
           {
            "marker": {
             "colorbar": {
              "outlinewidth": 0,
              "ticks": ""
             }
            },
            "type": "scatterpolar"
           }
          ],
          "scatterpolargl": [
           {
            "marker": {
             "colorbar": {
              "outlinewidth": 0,
              "ticks": ""
             }
            },
            "type": "scatterpolargl"
           }
          ],
          "scatterternary": [
           {
            "marker": {
             "colorbar": {
              "outlinewidth": 0,
              "ticks": ""
             }
            },
            "type": "scatterternary"
           }
          ],
          "surface": [
           {
            "colorbar": {
             "outlinewidth": 0,
             "ticks": ""
            },
            "colorscale": [
             [
              0,
              "#0d0887"
             ],
             [
              0.1111111111111111,
              "#46039f"
             ],
             [
              0.2222222222222222,
              "#7201a8"
             ],
             [
              0.3333333333333333,
              "#9c179e"
             ],
             [
              0.4444444444444444,
              "#bd3786"
             ],
             [
              0.5555555555555556,
              "#d8576b"
             ],
             [
              0.6666666666666666,
              "#ed7953"
             ],
             [
              0.7777777777777778,
              "#fb9f3a"
             ],
             [
              0.8888888888888888,
              "#fdca26"
             ],
             [
              1,
              "#f0f921"
             ]
            ],
            "type": "surface"
           }
          ],
          "table": [
           {
            "cells": {
             "fill": {
              "color": "#EBF0F8"
             },
             "line": {
              "color": "white"
             }
            },
            "header": {
             "fill": {
              "color": "#C8D4E3"
             },
             "line": {
              "color": "white"
             }
            },
            "type": "table"
           }
          ]
         },
         "layout": {
          "annotationdefaults": {
           "arrowcolor": "#2a3f5f",
           "arrowhead": 0,
           "arrowwidth": 1
          },
          "autotypenumbers": "strict",
          "coloraxis": {
           "colorbar": {
            "outlinewidth": 0,
            "ticks": ""
           }
          },
          "colorscale": {
           "diverging": [
            [
             0,
             "#8e0152"
            ],
            [
             0.1,
             "#c51b7d"
            ],
            [
             0.2,
             "#de77ae"
            ],
            [
             0.3,
             "#f1b6da"
            ],
            [
             0.4,
             "#fde0ef"
            ],
            [
             0.5,
             "#f7f7f7"
            ],
            [
             0.6,
             "#e6f5d0"
            ],
            [
             0.7,
             "#b8e186"
            ],
            [
             0.8,
             "#7fbc41"
            ],
            [
             0.9,
             "#4d9221"
            ],
            [
             1,
             "#276419"
            ]
           ],
           "sequential": [
            [
             0,
             "#0d0887"
            ],
            [
             0.1111111111111111,
             "#46039f"
            ],
            [
             0.2222222222222222,
             "#7201a8"
            ],
            [
             0.3333333333333333,
             "#9c179e"
            ],
            [
             0.4444444444444444,
             "#bd3786"
            ],
            [
             0.5555555555555556,
             "#d8576b"
            ],
            [
             0.6666666666666666,
             "#ed7953"
            ],
            [
             0.7777777777777778,
             "#fb9f3a"
            ],
            [
             0.8888888888888888,
             "#fdca26"
            ],
            [
             1,
             "#f0f921"
            ]
           ],
           "sequentialminus": [
            [
             0,
             "#0d0887"
            ],
            [
             0.1111111111111111,
             "#46039f"
            ],
            [
             0.2222222222222222,
             "#7201a8"
            ],
            [
             0.3333333333333333,
             "#9c179e"
            ],
            [
             0.4444444444444444,
             "#bd3786"
            ],
            [
             0.5555555555555556,
             "#d8576b"
            ],
            [
             0.6666666666666666,
             "#ed7953"
            ],
            [
             0.7777777777777778,
             "#fb9f3a"
            ],
            [
             0.8888888888888888,
             "#fdca26"
            ],
            [
             1,
             "#f0f921"
            ]
           ]
          },
          "colorway": [
           "#636efa",
           "#EF553B",
           "#00cc96",
           "#ab63fa",
           "#FFA15A",
           "#19d3f3",
           "#FF6692",
           "#B6E880",
           "#FF97FF",
           "#FECB52"
          ],
          "font": {
           "color": "#2a3f5f"
          },
          "geo": {
           "bgcolor": "white",
           "lakecolor": "white",
           "landcolor": "white",
           "showlakes": true,
           "showland": true,
           "subunitcolor": "#C8D4E3"
          },
          "hoverlabel": {
           "align": "left"
          },
          "hovermode": "closest",
          "mapbox": {
           "style": "light"
          },
          "paper_bgcolor": "white",
          "plot_bgcolor": "white",
          "polar": {
           "angularaxis": {
            "gridcolor": "#EBF0F8",
            "linecolor": "#EBF0F8",
            "ticks": ""
           },
           "bgcolor": "white",
           "radialaxis": {
            "gridcolor": "#EBF0F8",
            "linecolor": "#EBF0F8",
            "ticks": ""
           }
          },
          "scene": {
           "xaxis": {
            "backgroundcolor": "white",
            "gridcolor": "#DFE8F3",
            "gridwidth": 2,
            "linecolor": "#EBF0F8",
            "showbackground": true,
            "ticks": "",
            "zerolinecolor": "#EBF0F8"
           },
           "yaxis": {
            "backgroundcolor": "white",
            "gridcolor": "#DFE8F3",
            "gridwidth": 2,
            "linecolor": "#EBF0F8",
            "showbackground": true,
            "ticks": "",
            "zerolinecolor": "#EBF0F8"
           },
           "zaxis": {
            "backgroundcolor": "white",
            "gridcolor": "#DFE8F3",
            "gridwidth": 2,
            "linecolor": "#EBF0F8",
            "showbackground": true,
            "ticks": "",
            "zerolinecolor": "#EBF0F8"
           }
          },
          "shapedefaults": {
           "line": {
            "color": "#2a3f5f"
           }
          },
          "ternary": {
           "aaxis": {
            "gridcolor": "#DFE8F3",
            "linecolor": "#A2B1C6",
            "ticks": ""
           },
           "baxis": {
            "gridcolor": "#DFE8F3",
            "linecolor": "#A2B1C6",
            "ticks": ""
           },
           "bgcolor": "white",
           "caxis": {
            "gridcolor": "#DFE8F3",
            "linecolor": "#A2B1C6",
            "ticks": ""
           }
          },
          "title": {
           "x": 0.05
          },
          "xaxis": {
           "automargin": true,
           "gridcolor": "#EBF0F8",
           "linecolor": "#EBF0F8",
           "ticks": "",
           "title": {
            "standoff": 15
           },
           "zerolinecolor": "#EBF0F8",
           "zerolinewidth": 2
          },
          "yaxis": {
           "automargin": true,
           "gridcolor": "#EBF0F8",
           "linecolor": "#EBF0F8",
           "ticks": "",
           "title": {
            "standoff": 15
           },
           "zerolinecolor": "#EBF0F8",
           "zerolinewidth": 2
          }
         }
        },
        "title": {
         "font": {
          "color": "Black",
          "size": 22
         },
         "text": "Topic Word Scores",
         "x": 0.5,
         "xanchor": "center",
         "yanchor": "top"
        },
        "width": 1420,
        "xaxis": {
         "anchor": "y",
         "domain": [
          0,
          0.175
         ],
         "showgrid": true
        },
        "xaxis10": {
         "anchor": "y10",
         "domain": [
          0.275,
          0.45
         ],
         "showgrid": true
        },
        "xaxis11": {
         "anchor": "y11",
         "domain": [
          0.55,
          0.7250000000000001
         ],
         "showgrid": true
        },
        "xaxis12": {
         "anchor": "y12",
         "domain": [
          0.825,
          1
         ],
         "showgrid": true
        },
        "xaxis2": {
         "anchor": "y2",
         "domain": [
          0.275,
          0.45
         ],
         "showgrid": true
        },
        "xaxis3": {
         "anchor": "y3",
         "domain": [
          0.55,
          0.7250000000000001
         ],
         "showgrid": true
        },
        "xaxis4": {
         "anchor": "y4",
         "domain": [
          0.825,
          1
         ],
         "showgrid": true
        },
        "xaxis5": {
         "anchor": "y5",
         "domain": [
          0,
          0.175
         ],
         "showgrid": true
        },
        "xaxis6": {
         "anchor": "y6",
         "domain": [
          0.275,
          0.45
         ],
         "showgrid": true
        },
        "xaxis7": {
         "anchor": "y7",
         "domain": [
          0.55,
          0.7250000000000001
         ],
         "showgrid": true
        },
        "xaxis8": {
         "anchor": "y8",
         "domain": [
          0.825,
          1
         ],
         "showgrid": true
        },
        "xaxis9": {
         "anchor": "y9",
         "domain": [
          0,
          0.175
         ],
         "showgrid": true
        },
        "yaxis": {
         "anchor": "x",
         "domain": [
          0.7555555555555555,
          1
         ],
         "showgrid": true
        },
        "yaxis10": {
         "anchor": "x10",
         "domain": [
          0,
          0.24444444444444446
         ],
         "showgrid": true
        },
        "yaxis11": {
         "anchor": "x11",
         "domain": [
          0,
          0.24444444444444446
         ],
         "showgrid": true
        },
        "yaxis12": {
         "anchor": "x12",
         "domain": [
          0,
          0.24444444444444446
         ],
         "showgrid": true
        },
        "yaxis2": {
         "anchor": "x2",
         "domain": [
          0.7555555555555555,
          1
         ],
         "showgrid": true
        },
        "yaxis3": {
         "anchor": "x3",
         "domain": [
          0.7555555555555555,
          1
         ],
         "showgrid": true
        },
        "yaxis4": {
         "anchor": "x4",
         "domain": [
          0.7555555555555555,
          1
         ],
         "showgrid": true
        },
        "yaxis5": {
         "anchor": "x5",
         "domain": [
          0.37777777777777777,
          0.6222222222222222
         ],
         "showgrid": true
        },
        "yaxis6": {
         "anchor": "x6",
         "domain": [
          0.37777777777777777,
          0.6222222222222222
         ],
         "showgrid": true
        },
        "yaxis7": {
         "anchor": "x7",
         "domain": [
          0.37777777777777777,
          0.6222222222222222
         ],
         "showgrid": true
        },
        "yaxis8": {
         "anchor": "x8",
         "domain": [
          0.37777777777777777,
          0.6222222222222222
         ],
         "showgrid": true
        },
        "yaxis9": {
         "anchor": "x9",
         "domain": [
          0,
          0.24444444444444446
         ],
         "showgrid": true
        }
       }
      }
     },
     "metadata": {},
     "output_type": "display_data"
    }
   ],
   "source": [
    "topic_model.visualize_barchart(custom_labels=True, width=355, top_n_topics=12)"
   ]
  },
  {
   "cell_type": "code",
   "execution_count": 25,
   "metadata": {},
   "outputs": [
    {
     "data": {
      "application/vnd.plotly.v1+json": {
       "config": {
        "plotlyServerURL": "https://plot.ly"
       },
       "data": [
        {
         "hovertext": "<b>Topic 0</b>:mensen_branden_zee_hulp_bas",
         "line": {
          "color": "black",
          "width": 1.5
         },
         "mode": "lines+lines",
         "name": "",
         "opacity": 0.1,
         "type": "scatter",
         "x": [
          1,
          2,
          3,
          4,
          5
         ],
         "y": [
          0.31169563737148737,
          0.29898321194960337,
          0.29566564138101753,
          0.29532982966989973,
          0.29532982966989973
         ]
        },
        {
         "hovertext": "<b>Topic 1</b>:graden_record_oktober_temperatuur_d",
         "line": {
          "color": "black",
          "width": 1.5
         },
         "mode": "lines+lines",
         "name": "",
         "opacity": 0.1,
         "type": "scatter",
         "x": [
          1,
          2,
          3,
          4,
          5
         ],
         "y": [
          0.3934571888197011,
          0.3610411120884214,
          0.34234702091195884,
          0.3381227886557122,
          0.32933504238903555
         ]
        },
        {
         "hovertext": "<b>Topic 2</b>:droogte_water_zomer_nederland_rijn",
         "line": {
          "color": "black",
          "width": 1.5
         },
         "mode": "lines+lines",
         "name": "",
         "opacity": 0.1,
         "type": "scatter",
         "x": [
          1,
          2,
          3,
          4,
          5
         ],
         "y": [
          0.3454558935801798,
          0.32264533180072763,
          0.31189266942337246,
          0.2885353179225355,
          0.2727139629646303
         ]
        },
        {
         "hovertext": "<b>Topic 3</b>:hitte_kun_zorg_kunt_lichaam",
         "line": {
          "color": "black",
          "width": 1.5
         },
         "mode": "lines+lines",
         "name": "",
         "opacity": 0.1,
         "type": "scatter",
         "x": [
          1,
          2,
          3,
          4,
          5
         ],
         "y": [
          0.34391405328831043,
          0.33487952762560574,
          0.31114476112917927,
          0.2990711452752666,
          0.2983764711028873
         ]
        },
        {
         "hovertext": "<b>Topic 4</b>:buien_weerbericht_graden_nacht_zond",
         "line": {
          "color": "black",
          "width": 1.5
         },
         "mode": "lines+lines",
         "name": "",
         "opacity": 0.1,
         "type": "scatter",
         "x": [
          1,
          2,
          3,
          4,
          5
         ],
         "y": [
          0.5073241541761987,
          0.43781298495123866,
          0.4228450791662682,
          0.4173373239779273,
          0.40957518053344627
         ]
        },
        {
         "hovertext": "<b>Topic 5</b>:kunst_italië_tijgermug_overheid_ns",
         "line": {
          "color": "black",
          "width": 1.5
         },
         "mode": "lines+lines",
         "name": "",
         "opacity": 0.1,
         "type": "scatter",
         "x": [
          1,
          2,
          3,
          4,
          5
         ],
         "y": [
          0.43757924581147967,
          0.4169018728183108,
          0.4040552519544964,
          0.39441090891358876,
          0.39441090891358876
         ]
        },
        {
         "hovertext": "<b>Topic 6</b>:straalstroom_lucht_groenland_boven_",
         "line": {
          "color": "black",
          "width": 1.5
         },
         "mode": "lines+lines",
         "name": "",
         "opacity": 0.1,
         "type": "scatter",
         "x": [
          1,
          2,
          3,
          4,
          5
         ],
         "y": [
          0.4190431522183096,
          0.41653177330603414,
          0.35437872843127854,
          0.3313243150324773,
          0.32929180698176064
         ]
        },
        {
         "hovertext": "<b>Topic 7</b>:regionale_hittegolf_dagen_woensdrec",
         "line": {
          "color": "black",
          "width": 1.5
         },
         "mode": "lines+lines",
         "name": "",
         "opacity": 0.1,
         "type": "scatter",
         "x": [
          1,
          2,
          3,
          4,
          5
         ],
         "y": [
          0.6928673976704715,
          0.5961609028661775,
          0.5599004671810961,
          0.5287500127476075,
          0.5003266773369245
         ]
        },
        {
         "hovertext": "<b>Topic 8</b>:hittegolven_knmi_opwarming_onderzoe",
         "line": {
          "color": "black",
          "width": 1.5
         },
         "mode": "lines+lines",
         "name": "",
         "opacity": 0.1,
         "type": "scatter",
         "x": [
          1,
          2,
          3,
          4,
          5
         ],
         "y": [
          0.4464593603635238,
          0.4095047625872605,
          0.38836245256575314,
          0.37169000463011787,
          0.368538915685846
         ]
        },
        {
         "hovertext": "<b>Topic 9</b>:app_oceaan_niño_el_noordatlantische",
         "line": {
          "color": "black",
          "width": 1.5
         },
         "mode": "lines+lines",
         "name": "",
         "opacity": 0.1,
         "type": "scatter",
         "x": [
          1,
          2,
          3,
          4,
          5
         ],
         "y": [
          0.5419745822330516,
          0.4947279228320894,
          0.4642248949571324,
          0.43262701835528966,
          0.3832457488571372
         ]
        },
        {
         "hovertext": "<b>Topic 10</b>:juli_millimeter_viel_maand_augustu",
         "line": {
          "color": "black",
          "width": 1.5
         },
         "mode": "lines+lines",
         "name": "",
         "opacity": 0.1,
         "type": "scatter",
         "x": [
          1,
          2,
          3,
          4,
          5
         ],
         "y": [
          0.5998450389013908,
          0.5922890683922807,
          0.5493853785517435,
          0.5436025684554513,
          0.5084858102746459
         ]
        },
        {
         "hovertext": "<b>Topic 11</b>:aircos_datacenter_datacenters_klou",
         "line": {
          "color": "black",
          "width": 1.5
         },
         "mode": "lines+lines",
         "name": "",
         "opacity": 0.1,
         "type": "scatter",
         "x": [
          1,
          2,
          3,
          4,
          5
         ],
         "y": [
          0.6147107413941605,
          0.46982543769620005,
          0.4283218621677759,
          0.4283218621677759,
          0.4215375230190655
         ]
        }
       ],
       "layout": {
        "height": 500,
        "hoverlabel": {
         "bgcolor": "white",
         "font": {
          "family": "Rockwell",
          "size": 16
         }
        },
        "showlegend": false,
        "template": {
         "data": {
          "bar": [
           {
            "error_x": {
             "color": "#2a3f5f"
            },
            "error_y": {
             "color": "#2a3f5f"
            },
            "marker": {
             "line": {
              "color": "white",
              "width": 0.5
             },
             "pattern": {
              "fillmode": "overlay",
              "size": 10,
              "solidity": 0.2
             }
            },
            "type": "bar"
           }
          ],
          "barpolar": [
           {
            "marker": {
             "line": {
              "color": "white",
              "width": 0.5
             },
             "pattern": {
              "fillmode": "overlay",
              "size": 10,
              "solidity": 0.2
             }
            },
            "type": "barpolar"
           }
          ],
          "carpet": [
           {
            "aaxis": {
             "endlinecolor": "#2a3f5f",
             "gridcolor": "#C8D4E3",
             "linecolor": "#C8D4E3",
             "minorgridcolor": "#C8D4E3",
             "startlinecolor": "#2a3f5f"
            },
            "baxis": {
             "endlinecolor": "#2a3f5f",
             "gridcolor": "#C8D4E3",
             "linecolor": "#C8D4E3",
             "minorgridcolor": "#C8D4E3",
             "startlinecolor": "#2a3f5f"
            },
            "type": "carpet"
           }
          ],
          "choropleth": [
           {
            "colorbar": {
             "outlinewidth": 0,
             "ticks": ""
            },
            "type": "choropleth"
           }
          ],
          "contour": [
           {
            "colorbar": {
             "outlinewidth": 0,
             "ticks": ""
            },
            "colorscale": [
             [
              0,
              "#0d0887"
             ],
             [
              0.1111111111111111,
              "#46039f"
             ],
             [
              0.2222222222222222,
              "#7201a8"
             ],
             [
              0.3333333333333333,
              "#9c179e"
             ],
             [
              0.4444444444444444,
              "#bd3786"
             ],
             [
              0.5555555555555556,
              "#d8576b"
             ],
             [
              0.6666666666666666,
              "#ed7953"
             ],
             [
              0.7777777777777778,
              "#fb9f3a"
             ],
             [
              0.8888888888888888,
              "#fdca26"
             ],
             [
              1,
              "#f0f921"
             ]
            ],
            "type": "contour"
           }
          ],
          "contourcarpet": [
           {
            "colorbar": {
             "outlinewidth": 0,
             "ticks": ""
            },
            "type": "contourcarpet"
           }
          ],
          "heatmap": [
           {
            "colorbar": {
             "outlinewidth": 0,
             "ticks": ""
            },
            "colorscale": [
             [
              0,
              "#0d0887"
             ],
             [
              0.1111111111111111,
              "#46039f"
             ],
             [
              0.2222222222222222,
              "#7201a8"
             ],
             [
              0.3333333333333333,
              "#9c179e"
             ],
             [
              0.4444444444444444,
              "#bd3786"
             ],
             [
              0.5555555555555556,
              "#d8576b"
             ],
             [
              0.6666666666666666,
              "#ed7953"
             ],
             [
              0.7777777777777778,
              "#fb9f3a"
             ],
             [
              0.8888888888888888,
              "#fdca26"
             ],
             [
              1,
              "#f0f921"
             ]
            ],
            "type": "heatmap"
           }
          ],
          "heatmapgl": [
           {
            "colorbar": {
             "outlinewidth": 0,
             "ticks": ""
            },
            "colorscale": [
             [
              0,
              "#0d0887"
             ],
             [
              0.1111111111111111,
              "#46039f"
             ],
             [
              0.2222222222222222,
              "#7201a8"
             ],
             [
              0.3333333333333333,
              "#9c179e"
             ],
             [
              0.4444444444444444,
              "#bd3786"
             ],
             [
              0.5555555555555556,
              "#d8576b"
             ],
             [
              0.6666666666666666,
              "#ed7953"
             ],
             [
              0.7777777777777778,
              "#fb9f3a"
             ],
             [
              0.8888888888888888,
              "#fdca26"
             ],
             [
              1,
              "#f0f921"
             ]
            ],
            "type": "heatmapgl"
           }
          ],
          "histogram": [
           {
            "marker": {
             "pattern": {
              "fillmode": "overlay",
              "size": 10,
              "solidity": 0.2
             }
            },
            "type": "histogram"
           }
          ],
          "histogram2d": [
           {
            "colorbar": {
             "outlinewidth": 0,
             "ticks": ""
            },
            "colorscale": [
             [
              0,
              "#0d0887"
             ],
             [
              0.1111111111111111,
              "#46039f"
             ],
             [
              0.2222222222222222,
              "#7201a8"
             ],
             [
              0.3333333333333333,
              "#9c179e"
             ],
             [
              0.4444444444444444,
              "#bd3786"
             ],
             [
              0.5555555555555556,
              "#d8576b"
             ],
             [
              0.6666666666666666,
              "#ed7953"
             ],
             [
              0.7777777777777778,
              "#fb9f3a"
             ],
             [
              0.8888888888888888,
              "#fdca26"
             ],
             [
              1,
              "#f0f921"
             ]
            ],
            "type": "histogram2d"
           }
          ],
          "histogram2dcontour": [
           {
            "colorbar": {
             "outlinewidth": 0,
             "ticks": ""
            },
            "colorscale": [
             [
              0,
              "#0d0887"
             ],
             [
              0.1111111111111111,
              "#46039f"
             ],
             [
              0.2222222222222222,
              "#7201a8"
             ],
             [
              0.3333333333333333,
              "#9c179e"
             ],
             [
              0.4444444444444444,
              "#bd3786"
             ],
             [
              0.5555555555555556,
              "#d8576b"
             ],
             [
              0.6666666666666666,
              "#ed7953"
             ],
             [
              0.7777777777777778,
              "#fb9f3a"
             ],
             [
              0.8888888888888888,
              "#fdca26"
             ],
             [
              1,
              "#f0f921"
             ]
            ],
            "type": "histogram2dcontour"
           }
          ],
          "mesh3d": [
           {
            "colorbar": {
             "outlinewidth": 0,
             "ticks": ""
            },
            "type": "mesh3d"
           }
          ],
          "parcoords": [
           {
            "line": {
             "colorbar": {
              "outlinewidth": 0,
              "ticks": ""
             }
            },
            "type": "parcoords"
           }
          ],
          "pie": [
           {
            "automargin": true,
            "type": "pie"
           }
          ],
          "scatter": [
           {
            "fillpattern": {
             "fillmode": "overlay",
             "size": 10,
             "solidity": 0.2
            },
            "type": "scatter"
           }
          ],
          "scatter3d": [
           {
            "line": {
             "colorbar": {
              "outlinewidth": 0,
              "ticks": ""
             }
            },
            "marker": {
             "colorbar": {
              "outlinewidth": 0,
              "ticks": ""
             }
            },
            "type": "scatter3d"
           }
          ],
          "scattercarpet": [
           {
            "marker": {
             "colorbar": {
              "outlinewidth": 0,
              "ticks": ""
             }
            },
            "type": "scattercarpet"
           }
          ],
          "scattergeo": [
           {
            "marker": {
             "colorbar": {
              "outlinewidth": 0,
              "ticks": ""
             }
            },
            "type": "scattergeo"
           }
          ],
          "scattergl": [
           {
            "marker": {
             "colorbar": {
              "outlinewidth": 0,
              "ticks": ""
             }
            },
            "type": "scattergl"
           }
          ],
          "scattermapbox": [
           {
            "marker": {
             "colorbar": {
              "outlinewidth": 0,
              "ticks": ""
             }
            },
            "type": "scattermapbox"
           }
          ],
          "scatterpolar": [
           {
            "marker": {
             "colorbar": {
              "outlinewidth": 0,
              "ticks": ""
             }
            },
            "type": "scatterpolar"
           }
          ],
          "scatterpolargl": [
           {
            "marker": {
             "colorbar": {
              "outlinewidth": 0,
              "ticks": ""
             }
            },
            "type": "scatterpolargl"
           }
          ],
          "scatterternary": [
           {
            "marker": {
             "colorbar": {
              "outlinewidth": 0,
              "ticks": ""
             }
            },
            "type": "scatterternary"
           }
          ],
          "surface": [
           {
            "colorbar": {
             "outlinewidth": 0,
             "ticks": ""
            },
            "colorscale": [
             [
              0,
              "#0d0887"
             ],
             [
              0.1111111111111111,
              "#46039f"
             ],
             [
              0.2222222222222222,
              "#7201a8"
             ],
             [
              0.3333333333333333,
              "#9c179e"
             ],
             [
              0.4444444444444444,
              "#bd3786"
             ],
             [
              0.5555555555555556,
              "#d8576b"
             ],
             [
              0.6666666666666666,
              "#ed7953"
             ],
             [
              0.7777777777777778,
              "#fb9f3a"
             ],
             [
              0.8888888888888888,
              "#fdca26"
             ],
             [
              1,
              "#f0f921"
             ]
            ],
            "type": "surface"
           }
          ],
          "table": [
           {
            "cells": {
             "fill": {
              "color": "#EBF0F8"
             },
             "line": {
              "color": "white"
             }
            },
            "header": {
             "fill": {
              "color": "#C8D4E3"
             },
             "line": {
              "color": "white"
             }
            },
            "type": "table"
           }
          ]
         },
         "layout": {
          "annotationdefaults": {
           "arrowcolor": "#2a3f5f",
           "arrowhead": 0,
           "arrowwidth": 1
          },
          "autotypenumbers": "strict",
          "coloraxis": {
           "colorbar": {
            "outlinewidth": 0,
            "ticks": ""
           }
          },
          "colorscale": {
           "diverging": [
            [
             0,
             "#8e0152"
            ],
            [
             0.1,
             "#c51b7d"
            ],
            [
             0.2,
             "#de77ae"
            ],
            [
             0.3,
             "#f1b6da"
            ],
            [
             0.4,
             "#fde0ef"
            ],
            [
             0.5,
             "#f7f7f7"
            ],
            [
             0.6,
             "#e6f5d0"
            ],
            [
             0.7,
             "#b8e186"
            ],
            [
             0.8,
             "#7fbc41"
            ],
            [
             0.9,
             "#4d9221"
            ],
            [
             1,
             "#276419"
            ]
           ],
           "sequential": [
            [
             0,
             "#0d0887"
            ],
            [
             0.1111111111111111,
             "#46039f"
            ],
            [
             0.2222222222222222,
             "#7201a8"
            ],
            [
             0.3333333333333333,
             "#9c179e"
            ],
            [
             0.4444444444444444,
             "#bd3786"
            ],
            [
             0.5555555555555556,
             "#d8576b"
            ],
            [
             0.6666666666666666,
             "#ed7953"
            ],
            [
             0.7777777777777778,
             "#fb9f3a"
            ],
            [
             0.8888888888888888,
             "#fdca26"
            ],
            [
             1,
             "#f0f921"
            ]
           ],
           "sequentialminus": [
            [
             0,
             "#0d0887"
            ],
            [
             0.1111111111111111,
             "#46039f"
            ],
            [
             0.2222222222222222,
             "#7201a8"
            ],
            [
             0.3333333333333333,
             "#9c179e"
            ],
            [
             0.4444444444444444,
             "#bd3786"
            ],
            [
             0.5555555555555556,
             "#d8576b"
            ],
            [
             0.6666666666666666,
             "#ed7953"
            ],
            [
             0.7777777777777778,
             "#fb9f3a"
            ],
            [
             0.8888888888888888,
             "#fdca26"
            ],
            [
             1,
             "#f0f921"
            ]
           ]
          },
          "colorway": [
           "#636efa",
           "#EF553B",
           "#00cc96",
           "#ab63fa",
           "#FFA15A",
           "#19d3f3",
           "#FF6692",
           "#B6E880",
           "#FF97FF",
           "#FECB52"
          ],
          "font": {
           "color": "#2a3f5f"
          },
          "geo": {
           "bgcolor": "white",
           "lakecolor": "white",
           "landcolor": "white",
           "showlakes": true,
           "showland": true,
           "subunitcolor": "#C8D4E3"
          },
          "hoverlabel": {
           "align": "left"
          },
          "hovermode": "closest",
          "mapbox": {
           "style": "light"
          },
          "paper_bgcolor": "white",
          "plot_bgcolor": "white",
          "polar": {
           "angularaxis": {
            "gridcolor": "#EBF0F8",
            "linecolor": "#EBF0F8",
            "ticks": ""
           },
           "bgcolor": "white",
           "radialaxis": {
            "gridcolor": "#EBF0F8",
            "linecolor": "#EBF0F8",
            "ticks": ""
           }
          },
          "scene": {
           "xaxis": {
            "backgroundcolor": "white",
            "gridcolor": "#DFE8F3",
            "gridwidth": 2,
            "linecolor": "#EBF0F8",
            "showbackground": true,
            "ticks": "",
            "zerolinecolor": "#EBF0F8"
           },
           "yaxis": {
            "backgroundcolor": "white",
            "gridcolor": "#DFE8F3",
            "gridwidth": 2,
            "linecolor": "#EBF0F8",
            "showbackground": true,
            "ticks": "",
            "zerolinecolor": "#EBF0F8"
           },
           "zaxis": {
            "backgroundcolor": "white",
            "gridcolor": "#DFE8F3",
            "gridwidth": 2,
            "linecolor": "#EBF0F8",
            "showbackground": true,
            "ticks": "",
            "zerolinecolor": "#EBF0F8"
           }
          },
          "shapedefaults": {
           "line": {
            "color": "#2a3f5f"
           }
          },
          "ternary": {
           "aaxis": {
            "gridcolor": "#DFE8F3",
            "linecolor": "#A2B1C6",
            "ticks": ""
           },
           "baxis": {
            "gridcolor": "#DFE8F3",
            "linecolor": "#A2B1C6",
            "ticks": ""
           },
           "bgcolor": "white",
           "caxis": {
            "gridcolor": "#DFE8F3",
            "linecolor": "#A2B1C6",
            "ticks": ""
           }
          },
          "title": {
           "x": 0.05
          },
          "xaxis": {
           "automargin": true,
           "gridcolor": "#EBF0F8",
           "linecolor": "#EBF0F8",
           "ticks": "",
           "title": {
            "standoff": 15
           },
           "zerolinecolor": "#EBF0F8",
           "zerolinewidth": 2
          },
          "yaxis": {
           "automargin": true,
           "gridcolor": "#EBF0F8",
           "linecolor": "#EBF0F8",
           "ticks": "",
           "title": {
            "standoff": 15
           },
           "zerolinecolor": "#EBF0F8",
           "zerolinewidth": 2
          }
         }
        },
        "title": {
         "font": {
          "color": "Black",
          "size": 22
         },
         "text": "<b>Term score decline per Topic</b>",
         "x": 0.5,
         "xanchor": "center",
         "y": 0.9,
         "yanchor": "top"
        },
        "width": 800,
        "xaxis": {
         "dtick": 2,
         "range": [
          0,
          5
         ],
         "tick0": 1,
         "title": {
          "text": "Term Rank"
         }
        },
        "yaxis": {
         "title": {
          "text": "c-TF-IDF score"
         }
        }
       }
      }
     },
     "metadata": {},
     "output_type": "display_data"
    }
   ],
   "source": [
    "topic_model.visualize_term_rank()"
   ]
  },
  {
   "cell_type": "code",
   "execution_count": 11,
   "metadata": {},
   "outputs": [
    {
     "data": {
      "text/html": [
       "<div>\n",
       "<style scoped>\n",
       "    .dataframe tbody tr th:only-of-type {\n",
       "        vertical-align: middle;\n",
       "    }\n",
       "\n",
       "    .dataframe tbody tr th {\n",
       "        vertical-align: top;\n",
       "    }\n",
       "\n",
       "    .dataframe thead th {\n",
       "        text-align: right;\n",
       "    }\n",
       "</style>\n",
       "<table border=\"1\" class=\"dataframe\">\n",
       "  <thead>\n",
       "    <tr style=\"text-align: right;\">\n",
       "      <th></th>\n",
       "      <th>search_rank</th>\n",
       "      <th>title</th>\n",
       "      <th>source</th>\n",
       "      <th>date</th>\n",
       "      <th>category</th>\n",
       "      <th>url</th>\n",
       "      <th>snippet</th>\n",
       "      <th>article_text</th>\n",
       "      <th>subheadings</th>\n",
       "      <th>tag</th>\n",
       "      <th>img_urls</th>\n",
       "      <th>comments_present</th>\n",
       "      <th>scraped</th>\n",
       "      <th>preprocessed_text</th>\n",
       "      <th>topic</th>\n",
       "      <th>topic_name</th>\n",
       "    </tr>\n",
       "  </thead>\n",
       "  <tbody>\n",
       "    <tr>\n",
       "      <th>0</th>\n",
       "      <td>71</td>\n",
       "      <td>Zware onweersbuien trekken over Nederland | Bi...</td>\n",
       "      <td>NU</td>\n",
       "      <td>2013-07-26</td>\n",
       "      <td>Binnenland</td>\n",
       "      <td>https://www.nu.nl/binnenland/3535382/zware-onw...</td>\n",
       "      <td>Foto's van het zomerweer l Zevende hittegolf s...</td>\n",
       "      <td>Festivals en evenementen moeten dit weekend re...</td>\n",
       "      <td>['Festivals', 'Zwaarste buien', 'Oppassen', 'B...</td>\n",
       "      <td>None</td>\n",
       "      <td>['https://media.nu.nl/m/m1mxwtsa4x7w_wd854/bli...</td>\n",
       "      <td>False</td>\n",
       "      <td>True</td>\n",
       "      <td>festivals evenementen moeten weekend rekening ...</td>\n",
       "      <td>2</td>\n",
       "      <td>Water Crises &amp; Droughts</td>\n",
       "    </tr>\n",
       "    <tr>\n",
       "      <th>1</th>\n",
       "      <td>77</td>\n",
       "      <td>'Overheid laks in aanpak gevaarlijke tijgermug...</td>\n",
       "      <td>NU</td>\n",
       "      <td>2013-07-28</td>\n",
       "      <td>Binnenland</td>\n",
       "      <td>https://www.nu.nl/binnenland/3536841/overheid-...</td>\n",
       "      <td>Het platform is er niet gerust op dat het de o...</td>\n",
       "      <td>De overheid is laks in de aanpak van de uithee...</td>\n",
       "      <td>['Overbodig', 'Knokkelkoorts', 'Lastig te vind...</td>\n",
       "      <td>None</td>\n",
       "      <td>['https://media.nu.nl/m/m1nxc5lal045_wd854/tij...</td>\n",
       "      <td>False</td>\n",
       "      <td>True</td>\n",
       "      <td>overheid laks aanpak uitheemse tijgermug zegt ...</td>\n",
       "      <td>5</td>\n",
       "      <td>Effects &amp; Structural Challenges Of Heatwaves</td>\n",
       "    </tr>\n",
       "    <tr>\n",
       "      <th>2</th>\n",
       "      <td>11</td>\n",
       "      <td>Nederland wordt langzaam net zo warm als Zuid-...</td>\n",
       "      <td>NU</td>\n",
       "      <td>2014-12-12</td>\n",
       "      <td>Nuweekend</td>\n",
       "      <td>https://www.nu.nl/weekend/3951566/nederland-wo...</td>\n",
       "      <td>Geen hittegolf en toch het warmste jaar in (mi...</td>\n",
       "      <td>Geen hittegolf en toch het warmste jaar in (mi...</td>\n",
       "      <td>['Lente leek op zomer', 'Broeikasgassen', 'Voo...</td>\n",
       "      <td>None</td>\n",
       "      <td>['https://media.nu.nl/m/m1oxidmapv50_wd854/zon...</td>\n",
       "      <td>False</td>\n",
       "      <td>True</td>\n",
       "      <td>hittegolf warmste jaar minstens drie eeuwen me...</td>\n",
       "      <td>2</td>\n",
       "      <td>Water Crises &amp; Droughts</td>\n",
       "    </tr>\n",
       "    <tr>\n",
       "      <th>3</th>\n",
       "      <td>34</td>\n",
       "      <td>'Kou doodt veel meer mensen dan warm weer' | W...</td>\n",
       "      <td>NU</td>\n",
       "      <td>2015-05-21</td>\n",
       "      <td>Wetenschap</td>\n",
       "      <td>https://www.nu.nl/wetenschap/4053535/kou-doodt...</td>\n",
       "      <td>Opvallend is ook dat er op de lange termijn me...</td>\n",
       "      <td>Bij koud weer komen meer mensen om het leven d...</td>\n",
       "      <td>['Opvallend', 'Gematigd', 'Maatregelen']</td>\n",
       "      <td>None</td>\n",
       "      <td>['https://media.nu.nl/m/m1oxlplaump1_wd854/chi...</td>\n",
       "      <td>False</td>\n",
       "      <td>True</td>\n",
       "      <td>koud weer komen mensen leven zeer warme weerso...</td>\n",
       "      <td>8</td>\n",
       "      <td>Reseach on and Combating Climate Change</td>\n",
       "    </tr>\n",
       "    <tr>\n",
       "      <th>4</th>\n",
       "      <td>63</td>\n",
       "      <td>'Waterverbruik al met 20 procent toegenomen' |...</td>\n",
       "      <td>NU</td>\n",
       "      <td>2015-06-30</td>\n",
       "      <td>Wonen</td>\n",
       "      <td>https://www.nu.nl/wonen-en-interieur/4078589/w...</td>\n",
       "      <td>De temperatuur in Nederland gaat gestaag omhoo...</td>\n",
       "      <td>De temperatuur in Nederland gaat gestaag omhoo...</td>\n",
       "      <td>[]</td>\n",
       "      <td>None</td>\n",
       "      <td>['https://media.nu.nl/m/m1oxblxaq0sn_wd854/wat...</td>\n",
       "      <td>False</td>\n",
       "      <td>True</td>\n",
       "      <td>temperatuur nederland gaat gestaag omhoog wate...</td>\n",
       "      <td>0</td>\n",
       "      <td>Heat Impacts &amp; Response</td>\n",
       "    </tr>\n",
       "    <tr>\n",
       "      <th>...</th>\n",
       "      <td>...</td>\n",
       "      <td>...</td>\n",
       "      <td>...</td>\n",
       "      <td>...</td>\n",
       "      <td>...</td>\n",
       "      <td>...</td>\n",
       "      <td>...</td>\n",
       "      <td>...</td>\n",
       "      <td>...</td>\n",
       "      <td>...</td>\n",
       "      <td>...</td>\n",
       "      <td>...</td>\n",
       "      <td>...</td>\n",
       "      <td>...</td>\n",
       "      <td>...</td>\n",
       "      <td>...</td>\n",
       "    </tr>\n",
       "    <tr>\n",
       "      <th>90</th>\n",
       "      <td>8</td>\n",
       "      <td>Zeldzame regionale septemberhittegolf een feit...</td>\n",
       "      <td>NU</td>\n",
       "      <td>2023-09-08</td>\n",
       "      <td>Binnenland</td>\n",
       "      <td>https://www.nu.nl/binnenland/6280029/zeldzame-...</td>\n",
       "      <td>Dit betekent dat het vijf dagen op rij warm is...</td>\n",
       "      <td>Na een warm begin van de dag is er vrijdag off...</td>\n",
       "      <td>['Deze week is ongekend warm', 'Vooralsnog gee...</td>\n",
       "      <td>None</td>\n",
       "      <td>['https://media.nu.nl/m/7e1xridafznh_wd854/zel...</td>\n",
       "      <td>True</td>\n",
       "      <td>True</td>\n",
       "      <td>warm begin dag vrijdag officieel sprake region...</td>\n",
       "      <td>7</td>\n",
       "      <td>Heatwaves in September</td>\n",
       "    </tr>\n",
       "    <tr>\n",
       "      <th>91</th>\n",
       "      <td>27</td>\n",
       "      <td>Weerbericht: De (werk)week eindigt net zo trop...</td>\n",
       "      <td>NU</td>\n",
       "      <td>2023-09-08</td>\n",
       "      <td>Binnenland</td>\n",
       "      <td>https://www.nu.nl/binnenland/6279983/weerberic...</td>\n",
       "      <td>Het is al zoveel dagen mooi weer dat er region...</td>\n",
       "      <td>Vrijdag wordt opnieuw een zonovergoten dag met...</td>\n",
       "      <td>[]</td>\n",
       "      <td>None</td>\n",
       "      <td>['https://media.nu.nl/m/4gfxp1favdx4_wd854/ijs...</td>\n",
       "      <td>True</td>\n",
       "      <td>True</td>\n",
       "      <td>vrijdag opnieuw zonovergoten dag hoge temperat...</td>\n",
       "      <td>4</td>\n",
       "      <td>Weather Forecasts &amp; Nighttime</td>\n",
       "    </tr>\n",
       "    <tr>\n",
       "      <th>92</th>\n",
       "      <td>6</td>\n",
       "      <td>eerste regionale hittegolf van zeven dagen in ...</td>\n",
       "      <td>NU</td>\n",
       "      <td>2023-09-10</td>\n",
       "      <td>Binnenland</td>\n",
       "      <td>https://www.nu.nl/binnenland/6280284/nieuw-wee...</td>\n",
       "      <td>De herfst staat voor de deur, maar op de valre...</td>\n",
       "      <td>De herfst staat voor de deur, maar op de valre...</td>\n",
       "      <td>['Landelijke hittegolf blijft waarschijnlijk u...</td>\n",
       "      <td>None</td>\n",
       "      <td>['https://media.nu.nl/m/f00x20nak52h_wd854/nie...</td>\n",
       "      <td>True</td>\n",
       "      <td>True</td>\n",
       "      <td>herfst staat deur valreep nederland hitterecor...</td>\n",
       "      <td>7</td>\n",
       "      <td>Heatwaves in September</td>\n",
       "    </tr>\n",
       "    <tr>\n",
       "      <th>93</th>\n",
       "      <td>45</td>\n",
       "      <td>Zomerweer doet stap terug, wisselvallige week ...</td>\n",
       "      <td>NU</td>\n",
       "      <td>2023-09-10</td>\n",
       "      <td>Weerbericht</td>\n",
       "      <td>https://www.nu.nl/weerbericht/6280289/zomerwee...</td>\n",
       "      <td>Toch wordt komende week ook voor de oostelijke...</td>\n",
       "      <td>Na een prachtige nazomerweek slaat het weer om...</td>\n",
       "      <td>[]</td>\n",
       "      <td>None</td>\n",
       "      <td>['https://media.nu.nl/m/5ykxf4ea9gej_wd854/zom...</td>\n",
       "      <td>True</td>\n",
       "      <td>True</td>\n",
       "      <td>prachtige nazomerweek slaat weer komende dagen...</td>\n",
       "      <td>4</td>\n",
       "      <td>Weather Forecasts &amp; Nighttime</td>\n",
       "    </tr>\n",
       "    <tr>\n",
       "      <th>94</th>\n",
       "      <td>21</td>\n",
       "      <td>Zeven tropische dagen op rij: 'heetste week va...</td>\n",
       "      <td>NU</td>\n",
       "      <td>2023-09-11</td>\n",
       "      <td>Klimaat</td>\n",
       "      <td>https://www.nu.nl/klimaat/6280388/zeven-tropis...</td>\n",
       "      <td>Net als in juni is er ook deze september opnie...</td>\n",
       "      <td>Vandaag zijn voor de zevende dag op rij lokaal...</td>\n",
       "      <td>[]</td>\n",
       "      <td>None</td>\n",
       "      <td>['https://media.nu.nl/m/r8oxn4aapadx_wd854/zev...</td>\n",
       "      <td>True</td>\n",
       "      <td>True</td>\n",
       "      <td>vandaag zevende dag rij lokaal tropische tempe...</td>\n",
       "      <td>10</td>\n",
       "      <td>Summer Months &amp; Rainfall</td>\n",
       "    </tr>\n",
       "  </tbody>\n",
       "</table>\n",
       "<p>95 rows × 16 columns</p>\n",
       "</div>"
      ],
      "text/plain": [
       "    search_rank                                              title source  \\\n",
       "0            71  Zware onweersbuien trekken over Nederland | Bi...     NU   \n",
       "1            77  'Overheid laks in aanpak gevaarlijke tijgermug...     NU   \n",
       "2            11  Nederland wordt langzaam net zo warm als Zuid-...     NU   \n",
       "3            34  'Kou doodt veel meer mensen dan warm weer' | W...     NU   \n",
       "4            63  'Waterverbruik al met 20 procent toegenomen' |...     NU   \n",
       "..          ...                                                ...    ...   \n",
       "90            8  Zeldzame regionale septemberhittegolf een feit...     NU   \n",
       "91           27  Weerbericht: De (werk)week eindigt net zo trop...     NU   \n",
       "92            6  eerste regionale hittegolf van zeven dagen in ...     NU   \n",
       "93           45  Zomerweer doet stap terug, wisselvallige week ...     NU   \n",
       "94           21  Zeven tropische dagen op rij: 'heetste week va...     NU   \n",
       "\n",
       "         date     category                                                url  \\\n",
       "0  2013-07-26   Binnenland  https://www.nu.nl/binnenland/3535382/zware-onw...   \n",
       "1  2013-07-28   Binnenland  https://www.nu.nl/binnenland/3536841/overheid-...   \n",
       "2  2014-12-12    Nuweekend  https://www.nu.nl/weekend/3951566/nederland-wo...   \n",
       "3  2015-05-21   Wetenschap  https://www.nu.nl/wetenschap/4053535/kou-doodt...   \n",
       "4  2015-06-30        Wonen  https://www.nu.nl/wonen-en-interieur/4078589/w...   \n",
       "..        ...          ...                                                ...   \n",
       "90 2023-09-08   Binnenland  https://www.nu.nl/binnenland/6280029/zeldzame-...   \n",
       "91 2023-09-08   Binnenland  https://www.nu.nl/binnenland/6279983/weerberic...   \n",
       "92 2023-09-10   Binnenland  https://www.nu.nl/binnenland/6280284/nieuw-wee...   \n",
       "93 2023-09-10  Weerbericht  https://www.nu.nl/weerbericht/6280289/zomerwee...   \n",
       "94 2023-09-11      Klimaat  https://www.nu.nl/klimaat/6280388/zeven-tropis...   \n",
       "\n",
       "                                              snippet  \\\n",
       "0   Foto's van het zomerweer l Zevende hittegolf s...   \n",
       "1   Het platform is er niet gerust op dat het de o...   \n",
       "2   Geen hittegolf en toch het warmste jaar in (mi...   \n",
       "3   Opvallend is ook dat er op de lange termijn me...   \n",
       "4   De temperatuur in Nederland gaat gestaag omhoo...   \n",
       "..                                                ...   \n",
       "90  Dit betekent dat het vijf dagen op rij warm is...   \n",
       "91  Het is al zoveel dagen mooi weer dat er region...   \n",
       "92  De herfst staat voor de deur, maar op de valre...   \n",
       "93  Toch wordt komende week ook voor de oostelijke...   \n",
       "94  Net als in juni is er ook deze september opnie...   \n",
       "\n",
       "                                         article_text  \\\n",
       "0   Festivals en evenementen moeten dit weekend re...   \n",
       "1   De overheid is laks in de aanpak van de uithee...   \n",
       "2   Geen hittegolf en toch het warmste jaar in (mi...   \n",
       "3   Bij koud weer komen meer mensen om het leven d...   \n",
       "4   De temperatuur in Nederland gaat gestaag omhoo...   \n",
       "..                                                ...   \n",
       "90  Na een warm begin van de dag is er vrijdag off...   \n",
       "91  Vrijdag wordt opnieuw een zonovergoten dag met...   \n",
       "92  De herfst staat voor de deur, maar op de valre...   \n",
       "93  Na een prachtige nazomerweek slaat het weer om...   \n",
       "94  Vandaag zijn voor de zevende dag op rij lokaal...   \n",
       "\n",
       "                                          subheadings   tag  \\\n",
       "0   ['Festivals', 'Zwaarste buien', 'Oppassen', 'B...  None   \n",
       "1   ['Overbodig', 'Knokkelkoorts', 'Lastig te vind...  None   \n",
       "2   ['Lente leek op zomer', 'Broeikasgassen', 'Voo...  None   \n",
       "3            ['Opvallend', 'Gematigd', 'Maatregelen']  None   \n",
       "4                                                  []  None   \n",
       "..                                                ...   ...   \n",
       "90  ['Deze week is ongekend warm', 'Vooralsnog gee...  None   \n",
       "91                                                 []  None   \n",
       "92  ['Landelijke hittegolf blijft waarschijnlijk u...  None   \n",
       "93                                                 []  None   \n",
       "94                                                 []  None   \n",
       "\n",
       "                                             img_urls comments_present  \\\n",
       "0   ['https://media.nu.nl/m/m1mxwtsa4x7w_wd854/bli...            False   \n",
       "1   ['https://media.nu.nl/m/m1nxc5lal045_wd854/tij...            False   \n",
       "2   ['https://media.nu.nl/m/m1oxidmapv50_wd854/zon...            False   \n",
       "3   ['https://media.nu.nl/m/m1oxlplaump1_wd854/chi...            False   \n",
       "4   ['https://media.nu.nl/m/m1oxblxaq0sn_wd854/wat...            False   \n",
       "..                                                ...              ...   \n",
       "90  ['https://media.nu.nl/m/7e1xridafznh_wd854/zel...             True   \n",
       "91  ['https://media.nu.nl/m/4gfxp1favdx4_wd854/ijs...             True   \n",
       "92  ['https://media.nu.nl/m/f00x20nak52h_wd854/nie...             True   \n",
       "93  ['https://media.nu.nl/m/5ykxf4ea9gej_wd854/zom...             True   \n",
       "94  ['https://media.nu.nl/m/r8oxn4aapadx_wd854/zev...             True   \n",
       "\n",
       "    scraped                                  preprocessed_text  topic  \\\n",
       "0      True  festivals evenementen moeten weekend rekening ...      2   \n",
       "1      True  overheid laks aanpak uitheemse tijgermug zegt ...      5   \n",
       "2      True  hittegolf warmste jaar minstens drie eeuwen me...      2   \n",
       "3      True  koud weer komen mensen leven zeer warme weerso...      8   \n",
       "4      True  temperatuur nederland gaat gestaag omhoog wate...      0   \n",
       "..      ...                                                ...    ...   \n",
       "90     True  warm begin dag vrijdag officieel sprake region...      7   \n",
       "91     True  vrijdag opnieuw zonovergoten dag hoge temperat...      4   \n",
       "92     True  herfst staat deur valreep nederland hitterecor...      7   \n",
       "93     True  prachtige nazomerweek slaat weer komende dagen...      4   \n",
       "94     True  vandaag zevende dag rij lokaal tropische tempe...     10   \n",
       "\n",
       "                                      topic_name  \n",
       "0                        Water Crises & Droughts  \n",
       "1   Effects & Structural Challenges Of Heatwaves  \n",
       "2                        Water Crises & Droughts  \n",
       "3        Reseach on and Combating Climate Change  \n",
       "4                        Heat Impacts & Response  \n",
       "..                                           ...  \n",
       "90                        Heatwaves in September  \n",
       "91                 Weather Forecasts & Nighttime  \n",
       "92                        Heatwaves in September  \n",
       "93                 Weather Forecasts & Nighttime  \n",
       "94                      Summer Months & Rainfall  \n",
       "\n",
       "[95 rows x 16 columns]"
      ]
     },
     "metadata": {},
     "output_type": "display_data"
    }
   ],
   "source": [
    "df_articles['topic'] = topics\n",
    "\n",
    "df_articles['topic_name'] = None\n",
    "\n",
    "for index, row in df_articles.iterrows():\n",
    "    df_articles.iloc[index, -1] = topic_model.custom_labels_[row['topic']]\n",
    "    \n",
    "# for count in range (len(topic_model.get_topics())):\n",
    "#     df_articles[df_articles['topic'] == count]['topic names'] = topic_model.custom_labels_[count]\n",
    "\n",
    "display(df_articles)\n",
    "df_articles.to_pickle('./nu_article_topics.pkl')"
   ]
  }
 ],
 "metadata": {
  "kernelspec": {
   "display_name": "base",
   "language": "python",
   "name": "python3"
  },
  "language_info": {
   "codemirror_mode": {
    "name": "ipython",
    "version": 3
   },
   "file_extension": ".py",
   "mimetype": "text/x-python",
   "name": "python",
   "nbconvert_exporter": "python",
   "pygments_lexer": "ipython3",
   "version": "3.11.5"
  }
 },
 "nbformat": 4,
 "nbformat_minor": 2
}
