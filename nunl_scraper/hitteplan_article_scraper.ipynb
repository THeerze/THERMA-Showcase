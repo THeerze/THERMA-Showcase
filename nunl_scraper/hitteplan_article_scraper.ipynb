{
 "cells": [
  {
   "cell_type": "markdown",
   "metadata": {},
   "source": [
    "# Imports"
   ]
  },
  {
   "cell_type": "code",
   "execution_count": 3,
   "metadata": {},
   "outputs": [],
   "source": [
    "import requests\n",
    "from bs4 import BeautifulSoup\n",
    "import pandas as pd"
   ]
  },
  {
   "cell_type": "markdown",
   "metadata": {},
   "source": [
    "# Scraping Article Titles & URLs"
   ]
  },
  {
   "cell_type": "code",
   "execution_count": 39,
   "metadata": {},
   "outputs": [],
   "source": [
    "url = 'https://www.nu.nl/zoeken?q=nationaal%20hitteplan&page=1'\n",
    "response = requests.get(url)\n",
    "html = response.text\n",
    "soup = BeautifulSoup(html, \"html.parser\")\n",
    "\n",
    "articles = soup.select('section.columns--no-sidebar.columns div.columns__main')[0]\n",
    "\n",
    "titles = articles.select('span.item-title__text')\n",
    "urls = articles.find_all('a')\n",
    "\n",
    "list_titles = []\n",
    "list_urls = []\n",
    "\n",
    "for title in titles:\n",
    "    list_titles.append(title.text)\n",
    "\n",
    "for url in urls:\n",
    "    list_urls.append(url['href'])\n",
    "\n",
    "df_hitteplan = pd.DataFrame({'titles':list_titles, 'url':list_urls})\n",
    "df_hitteplan['scraped'] = False"
   ]
  },
  {
   "cell_type": "markdown",
   "metadata": {},
   "source": [
    "# To Pickle"
   ]
  },
  {
   "cell_type": "code",
   "execution_count": 40,
   "metadata": {},
   "outputs": [],
   "source": [
    "df_hitteplan.to_pickle('./hitteplan_urls.df.pkl')\n",
    "\n",
    "df_comments_initial = pd.DataFrame(columns=[\"url\", \"username\", \"expertise\", \"timestamp\", \"comment_text\", \"likes\"])\n",
    "df_comments_initial.to_pickle(\"hitteplan_comments.df.pkl\")"
   ]
  }
 ],
 "metadata": {
  "kernelspec": {
   "display_name": "base",
   "language": "python",
   "name": "python3"
  },
  "language_info": {
   "codemirror_mode": {
    "name": "ipython",
    "version": 3
   },
   "file_extension": ".py",
   "mimetype": "text/x-python",
   "name": "python",
   "nbconvert_exporter": "python",
   "pygments_lexer": "ipython3",
   "version": "3.11.5"
  }
 },
 "nbformat": 4,
 "nbformat_minor": 2
}
