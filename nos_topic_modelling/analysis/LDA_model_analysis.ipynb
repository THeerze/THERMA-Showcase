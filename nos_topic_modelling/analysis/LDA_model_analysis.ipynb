{
 "cells": [
  {
   "cell_type": "code",
   "execution_count": 2,
   "metadata": {},
   "outputs": [
    {
     "name": "stderr",
     "output_type": "stream",
     "text": [
      "[nltk_data] Downloading package stopwords to /Users/tom/nltk_data...\n",
      "[nltk_data]   Package stopwords is already up-to-date!\n",
      "[nltk_data] Downloading package wordnet to /Users/tom/nltk_data...\n",
      "[nltk_data]   Package wordnet is already up-to-date!\n"
     ]
    },
    {
     "data": {
      "text/plain": [
       "True"
      ]
     },
     "execution_count": 2,
     "metadata": {},
     "output_type": "execute_result"
    }
   ],
   "source": [
    "import numpy as np\n",
    "import pandas as pd\n",
    "import matplotlib.pyplot as plt\n",
    "from sklearn.feature_extraction.text import CountVectorizer\n",
    "import gensim\n",
    "from gensim import corpora, models\n",
    "import nltk\n",
    "nltk.download('stopwords')\n",
    "nltk.download('wordnet')"
   ]
  },
  {
   "cell_type": "code",
   "execution_count": 64,
   "metadata": {},
   "outputs": [
    {
     "name": "stdout",
     "output_type": "stream",
     "text": [
      "(1439, 8)\n"
     ]
    },
    {
     "data": {
      "text/html": [
       "<div>\n",
       "<style scoped>\n",
       "    .dataframe tbody tr th:only-of-type {\n",
       "        vertical-align: middle;\n",
       "    }\n",
       "\n",
       "    .dataframe tbody tr th {\n",
       "        vertical-align: top;\n",
       "    }\n",
       "\n",
       "    .dataframe thead th {\n",
       "        text-align: right;\n",
       "    }\n",
       "</style>\n",
       "<table border=\"1\" class=\"dataframe\">\n",
       "  <thead>\n",
       "    <tr style=\"text-align: right;\">\n",
       "      <th></th>\n",
       "      <th>title</th>\n",
       "      <th>url</th>\n",
       "      <th>date</th>\n",
       "      <th>tag</th>\n",
       "      <th>collections</th>\n",
       "      <th>text</th>\n",
       "      <th>subheadings</th>\n",
       "      <th>image_urls</th>\n",
       "    </tr>\n",
       "  </thead>\n",
       "  <tbody>\n",
       "    <tr>\n",
       "      <th>0</th>\n",
       "      <td>Zuid-Franse druiven groeien door klimaatverand...</td>\n",
       "      <td>https://nos.nl/artikel/2481980-zuid-franse-dru...</td>\n",
       "      <td>2023-07-08</td>\n",
       "      <td>NaN</td>\n",
       "      <td>['Economie']</td>\n",
       "      <td>Tegen de heuvels rond Maastricht werden vijfti...</td>\n",
       "      <td>['Einde aan uienteelt']</td>\n",
       "      <td>['https://cdn.nos.nl/image/2023/07/08/985272/1...</td>\n",
       "    </tr>\n",
       "    <tr>\n",
       "      <th>1</th>\n",
       "      <td>Steeds meer mensen een airco, maar experts zie...</td>\n",
       "      <td>https://nos.nl/artikel/2481925-steeds-meer-men...</td>\n",
       "      <td>2023-07-07</td>\n",
       "      <td>NaN</td>\n",
       "      <td>['Binnenland']</td>\n",
       "      <td>Op hete dagen zijn mobiele airco's in winkels ...</td>\n",
       "      <td>NaN</td>\n",
       "      <td>['https://cdn.nos.nl/image/2023/07/07/985126/1...</td>\n",
       "    </tr>\n",
       "    <tr>\n",
       "      <th>2</th>\n",
       "      <td>Hofplein in Rotterdam op de schop: minder auto...</td>\n",
       "      <td>https://nos.nl/artikel/2479795-hofplein-in-rot...</td>\n",
       "      <td>2023-06-21</td>\n",
       "      <td>NaN</td>\n",
       "      <td>['In samenwerking met', 'Rijnmond', 'Regionaal...</td>\n",
       "      <td>Het Hofplein in het centrum van Rotterdam gaat...</td>\n",
       "      <td>['Kosten hoger dan verwacht']</td>\n",
       "      <td>['https://cdn.nos.nl/image/2023/06/21/980329/1...</td>\n",
       "    </tr>\n",
       "    <tr>\n",
       "      <th>3</th>\n",
       "      <td>'Klimaatverandering kan desastreuze gezondheid...</td>\n",
       "      <td>https://nos.nl/artikel/2477696-klimaatverander...</td>\n",
       "      <td>2023-06-04</td>\n",
       "      <td>Klimaat</td>\n",
       "      <td>['Collectie', 'Klimaat', 'Binnenland', 'Buiten...</td>\n",
       "      <td>Dat klimaatverandering kan leiden tot bijvoorb...</td>\n",
       "      <td>['Directe en indirecte gevolgen', \"'Toch wel e...</td>\n",
       "      <td>['https://cdn.nos.nl/image/2023/06/04/975519/1...</td>\n",
       "    </tr>\n",
       "    <tr>\n",
       "      <th>4</th>\n",
       "      <td>Varkens in slachthuizen lijden onnodig, NVWA g...</td>\n",
       "      <td>https://nos.nl/nieuwsuur/artikel/2471637-varke...</td>\n",
       "      <td>2023-04-16</td>\n",
       "      <td>NaN</td>\n",
       "      <td>['Nieuwsuur', 'Binnenland']</td>\n",
       "      <td>Vanaf volgend jaar gaat de overheid optreden t...</td>\n",
       "      <td>['Vechten', 'Hittestress']</td>\n",
       "      <td>['https://cdn.nos.nl/image/2023/04/16/961199/1...</td>\n",
       "    </tr>\n",
       "  </tbody>\n",
       "</table>\n",
       "</div>"
      ],
      "text/plain": [
       "                                               title  \\\n",
       "0  Zuid-Franse druiven groeien door klimaatverand...   \n",
       "1  Steeds meer mensen een airco, maar experts zie...   \n",
       "2  Hofplein in Rotterdam op de schop: minder auto...   \n",
       "3  'Klimaatverandering kan desastreuze gezondheid...   \n",
       "4  Varkens in slachthuizen lijden onnodig, NVWA g...   \n",
       "\n",
       "                                                 url        date      tag  \\\n",
       "0  https://nos.nl/artikel/2481980-zuid-franse-dru...  2023-07-08      NaN   \n",
       "1  https://nos.nl/artikel/2481925-steeds-meer-men...  2023-07-07      NaN   \n",
       "2  https://nos.nl/artikel/2479795-hofplein-in-rot...  2023-06-21      NaN   \n",
       "3  https://nos.nl/artikel/2477696-klimaatverander...  2023-06-04  Klimaat   \n",
       "4  https://nos.nl/nieuwsuur/artikel/2471637-varke...  2023-04-16      NaN   \n",
       "\n",
       "                                         collections  \\\n",
       "0                                       ['Economie']   \n",
       "1                                     ['Binnenland']   \n",
       "2  ['In samenwerking met', 'Rijnmond', 'Regionaal...   \n",
       "3  ['Collectie', 'Klimaat', 'Binnenland', 'Buiten...   \n",
       "4                        ['Nieuwsuur', 'Binnenland']   \n",
       "\n",
       "                                                text  \\\n",
       "0  Tegen de heuvels rond Maastricht werden vijfti...   \n",
       "1  Op hete dagen zijn mobiele airco's in winkels ...   \n",
       "2  Het Hofplein in het centrum van Rotterdam gaat...   \n",
       "3  Dat klimaatverandering kan leiden tot bijvoorb...   \n",
       "4  Vanaf volgend jaar gaat de overheid optreden t...   \n",
       "\n",
       "                                         subheadings  \\\n",
       "0                            ['Einde aan uienteelt']   \n",
       "1                                                NaN   \n",
       "2                      ['Kosten hoger dan verwacht']   \n",
       "3  ['Directe en indirecte gevolgen', \"'Toch wel e...   \n",
       "4                         ['Vechten', 'Hittestress']   \n",
       "\n",
       "                                          image_urls  \n",
       "0  ['https://cdn.nos.nl/image/2023/07/08/985272/1...  \n",
       "1  ['https://cdn.nos.nl/image/2023/07/07/985126/1...  \n",
       "2  ['https://cdn.nos.nl/image/2023/06/21/980329/1...  \n",
       "3  ['https://cdn.nos.nl/image/2023/06/04/975519/1...  \n",
       "4  ['https://cdn.nos.nl/image/2023/04/16/961199/1...  "
      ]
     },
     "execution_count": 64,
     "metadata": {},
     "output_type": "execute_result"
    }
   ],
   "source": [
    "df= pd.read_csv('nos_keywords_hittegolf.csv')\n",
    "df.drop('Unnamed: 0', axis=1, inplace=True)\n",
    "df.dropna(subset=['text'] ,inplace=True)\n",
    "print(df.shape)\n",
    "df.head()"
   ]
  },
  {
   "cell_type": "code",
   "execution_count": 65,
   "metadata": {},
   "outputs": [],
   "source": [
    "def collection_to_list(collections):\n",
    "    if isinstance(collections, str):\n",
    "        collection_list = eval(collections)\n",
    "        if 'Binnenland' in collection_list:\n",
    "            return True\n",
    "        else:\n",
    "            return False\n",
    "\n",
    "df['Binnenland'] = df['collections'].apply(collection_to_list)"
   ]
  },
  {
   "cell_type": "code",
   "execution_count": 66,
   "metadata": {},
   "outputs": [
    {
     "data": {
      "text/plain": [
       "Binnenland\n",
       "False    722\n",
       "True     702\n",
       "Name: count, dtype: int64"
      ]
     },
     "execution_count": 66,
     "metadata": {},
     "output_type": "execute_result"
    }
   ],
   "source": [
    "df['Binnenland'].value_counts()"
   ]
  },
  {
   "cell_type": "code",
   "execution_count": 67,
   "metadata": {},
   "outputs": [
    {
     "name": "stdout",
     "output_type": "stream",
     "text": [
      "(702, 9)\n",
      "(722, 9)\n"
     ]
    }
   ],
   "source": [
    "df_binnenland = df[df['Binnenland'] == True]\n",
    "print(df_binnenland.shape)\n",
    "df_buitenland = df[df['Binnenland'] == False]\n",
    "print(df_buitenland.shape)"
   ]
  },
  {
   "cell_type": "code",
   "execution_count": 75,
   "metadata": {},
   "outputs": [
    {
     "name": "stdout",
     "output_type": "stream",
     "text": [
      "['hete', 'dagen', 'mobiele', 'airco', 'winkels', 'slepen', 'steed', 'nemen', 'vaste', 'airco', 'huis', 'totaal', 'procent', 'huishoudens', 'vaste', 'mobiele', 'airco', 'procent', 'overweegt', 'schaffen', 'blijkt', 'allemaal', 'recente', 'cijfers', 'voorlichtingsbureau', 'milieu', 'centraal', 'voornaamste', 'redenen', 'airco', 'nemen', 'beter', 'slapen', 'nachts', 'aantal', 'vaste', 'neemt', 'gestaag', 'toe', 'lieten', 'airco', 'installeren', 'vorig', 'kwamen', 'ruim', 'blijkt', 'cijfers', 'cbs', 'verkoop', 'mobiele', 'airco', 'willen', 'winkels', 'precieze', 'aantallen', 'geven', 'zeggen', 'enorme', 'stijging', 'zien', 'airco', 'verkocht', 'woordvoerder', 'mediamarkt', 'saturn', 'milieu', 'centraal', 'groot', 'voorstander', 'airco', 'organisatie', 'waarschuwt', 'kosten', 'klimaatschade', 'hoge', 'energiegebruik', 'apparaten', 'mobiele', 'airco', 'verbruikt', 'twintig', 'keer', 'stroom', 'bijvoorbeeld', 'ventilator', 'stroomverbruik', 'uitstoot', 'verschillende', 'koelapparaten', 'aankoop', 'flink', 'teleur', 'stellen', 'kopen', 'mobiele', 'airco', 'heet', 'tropische', 'dagen', 'eigenlijk', 'joanneke', 'jongh', 'afvoerslang', 'airco', 'vaak', 'raam', 'open', 'warmte', 'gewoon', 'binnen', 'hozen', 'lekke', 'boot', 'zinloos', 'installateurs', 'zien', 'steed', 'airco', 'verwarming', 'winter', 'gebruiken', 'scheelt', 'gasverbruik', 'kosten', 'twee', 'kamers', 'verwarmt', 'plaats', 'hele', 'huis', 'stroomverbruik', 'zomer', 'natuurlijk', 'extra', 'milieu', 'centraal', 'werken', 'goede', 'muurisolatie', 'zonwering', 'buiten', 'beste', 'huis', 'combinatie', 'geeft', 'procent', 'minder', 'kans', 'oververhitting', 'jongh', 'airco', 'nodig', 'tip', 'klimaatverandering', 'komen', 'hittegolven', 'vaker', 'intenser', 'daarmee', 'neemt', 'hittestress', 'huis', 'toe', 'rondgang', 'verschillende', 'ggd', 'blijkt', 'bijna', 'helft', 'moeilijk', 'verkoeling', 'vindt', 'huis', 'vooral', 'stedelingen', 'ouderen', 'armere', 'jongvolwassenen', 'last', 'steekproef', 'milieu', 'centraal', 'beeld', 'procent', 'last', 'huis', 'tien', 'geleden', 'ggd', 'roepen', 'gemeenten', 'provincies', 'woningcorporaties', 'maatregelen', 'treffen', 'gezondheidsproblemen', 'voorkomen', 'wijzen', 'bijvoorbeeld', 'plaatsen', 'zonwering', 'goede', 'ventilatieluiken', 'comfortabele', 'koele', 'woning', 'meest', 'gegeven', 'reden', 'aankoop', 'airco', 'problemen', 'slapen', 'voorstellen', 'echt', 'slapen', 'uitkomst', 'hoogleraar', 'fysiologie', 'maria', 'hopman', 'zorg', 'hele', 'tijd', 'airco', 'zit', 'blootstelt', 'warmte', 'went', 'legt', 'hopman', 'paar', 'dagen', 'past', 'lichaam', 'zodat', 'beter', 'bestand', 'bent', 'hoge', 'sneller', 'zweten', 'waardoor', 'afkoelt', 'maakt', 'bloedvolume', 'waardoor', 'hersenen', 'beter', 'doorbloeden', 'bijvoorbeeld', 'minder', 'snel', 'duizelig', 'wereldwijd', 'energieverbruik', 'airco', 'groot', 'groeiend', 'probleem', 'waarschuwde', 'internationaal', 'energieagentschap', 'rapport', 'future', 'cooling', 'explosieve', 'toename', 'airco', 'vooral', 'china', 'india', 'verwachting', 'aantal', 'airco', 'ongeveer', 'verdrievoudigen', 'miljard', 'daarvoor', 'evenveel', 'stroom', 'nodig', 'totale', 'elektriciteitsgebruik', 'v', 'eu', 'japan', 'saman', 'binnenland']\n",
      "The corpus contains 702 documents and 21052 unique tokens.\n"
     ]
    }
   ],
   "source": [
    "import nltk\n",
    "from nltk.corpus import stopwords\n",
    "from nltk.tokenize import word_tokenize\n",
    "import string\n",
    "\n",
    "from nltk.stem import WordNetLemmatizer\n",
    "from gensim import corpora\n",
    "from gensim.models.ldamodel import LdaModel\n",
    "\n",
    "lemmatizer = WordNetLemmatizer()\n",
    "custom_stopwords = set(['temperaturen', 'graden', 'jaar', 'we', 'mensen', 'zegt', 'wel', 'gaat', 'wk', 'uur', 'weer', 'nederland', 'gaan', \n",
    "                         'volgens', 'heel', 'komt', 'hitte', 'temperatuur', 'hittegolf'])\n",
    "\n",
    "def preprocess_text(text):\n",
    "    stop_words = set(stopwords.words('dutch'))\n",
    "    lemmatizer = WordNetLemmatizer()\n",
    "    \n",
    "    text = str(text)\n",
    "    text = text.lower()\n",
    "\n",
    "    tokens = nltk.word_tokenize(text)\n",
    "    tokens = [token for token in tokens if token not in stop_words and token not in custom_stopwords and token.isalpha()]\n",
    "    \n",
    "    lemmatized = [lemmatizer.lemmatize(token) for token in tokens]\n",
    "\n",
    "    return lemmatized\n",
    "\n",
    "# YOUR CODE HERE\n",
    "texts = df_binnenland['text'].tolist()\n",
    "processed_texts = [preprocess_text(text) for text in texts]\n",
    "print(processed_texts[0])\n",
    "\n",
    "dictionary = corpora.Dictionary(processed_texts)\n",
    "corpus = [dictionary.doc2bow(text) for text in processed_texts]\n",
    "\n",
    "tfidf_model = models.TfidfModel(corpus=corpus)\n",
    "corpus_tfidf = tfidf_model[corpus]\n",
    "\n",
    "print(f\"The corpus contains {len(corpus)} documents and {len(dictionary)} unique tokens.\")"
   ]
  },
  {
   "cell_type": "code",
   "execution_count": 78,
   "metadata": {},
   "outputs": [],
   "source": [
    "num_topics = 20\n",
    "lda_model = LdaModel(corpus=corpus_tfidf, id2word=dictionary, num_topics=num_topics)"
   ]
  },
  {
   "cell_type": "code",
   "execution_count": 79,
   "metadata": {},
   "outputs": [
    {
     "name": "stdout",
     "output_type": "stream",
     "text": [
      "Topic: 0 \n",
      "Words: 0.001*\"blauwalg\" + 0.001*\"klaassen\" + 0.001*\"water\" + 0.000*\"uien\" + 0.000*\"energie\" + 0.000*\"aeb\" + 0.000*\"vissen\" + 0.000*\"steed\" + 0.000*\"regen\" + 0.000*\"goederentreinen\"\n",
      "Topic: 1 \n",
      "Words: 0.001*\"warmtenet\" + 0.001*\"kans\" + 0.001*\"vitens\" + 0.001*\"hennepkwekerijen\" + 0.000*\"bilt\" + 0.000*\"rapport\" + 0.000*\"gletsjers\" + 0.000*\"hittegolven\" + 0.000*\"opwarming\" + 0.000*\"ferroli\"\n",
      "Topic: 2 \n",
      "Words: 0.001*\"september\" + 0.001*\"bilt\" + 0.001*\"zware\" + 0.001*\"onweer\" + 0.001*\"dagen\" + 0.001*\"tropische\" + 0.001*\"zomerse\" + 0.001*\"waterdamp\" + 0.001*\"juli\" + 0.001*\"code\"\n",
      "Topic: 3 \n",
      "Words: 0.001*\"vulkaan\" + 0.001*\"weerbericht\" + 0.000*\"severin\" + 0.000*\"henriquez\" + 0.000*\"mitch\" + 0.000*\"kerken\" + 0.000*\"hitteplan\" + 0.000*\"cot\" + 0.000*\"tijgermug\" + 0.000*\"ijs\"\n",
      "Topic: 4 \n",
      "Words: 0.001*\"bilt\" + 0.001*\"landelijke\" + 0.001*\"gemeten\" + 0.001*\"storm\" + 0.001*\"dennis\" + 0.001*\"container\" + 0.001*\"laboratoria\" + 0.001*\"rond\" + 0.000*\"warmer\" + 0.000*\"vandaag\"\n",
      "Topic: 5 \n",
      "Words: 0.001*\"dagen\" + 0.001*\"prorail\" + 0.001*\"mei\" + 0.001*\"rij\" + 0.001*\"bilt\" + 0.001*\"aanstekers\" + 0.000*\"procent\" + 0.000*\"vierdaagse\" + 0.000*\"tropische\" + 0.000*\"hoger\"\n",
      "Topic: 6 \n",
      "Words: 0.001*\"zonkracht\" + 0.001*\"record\" + 0.001*\"kwik\" + 0.001*\"bilt\" + 0.001*\"afval\" + 0.000*\"festival\" + 0.000*\"vandaag\" + 0.000*\"rijst\" + 0.000*\"dagen\" + 0.000*\"zon\"\n",
      "Topic: 7 \n",
      "Words: 0.001*\"droogte\" + 0.001*\"brandweer\" + 0.001*\"biomassa\" + 0.001*\"water\" + 0.001*\"geul\" + 0.000*\"knmi\" + 0.000*\"gevoelstemperatuur\" + 0.000*\"kasten\" + 0.000*\"waterschap\" + 0.000*\"lucht\"\n",
      "Topic: 8 \n",
      "Words: 0.001*\"hitteplan\" + 0.001*\"rivm\" + 0.001*\"mosdiertjes\" + 0.001*\"extra\" + 0.001*\"ouderen\" + 0.001*\"glas\" + 0.001*\"voldoende\" + 0.000*\"morgen\" + 0.000*\"dieren\" + 0.000*\"dagen\"\n",
      "Topic: 9 \n",
      "Words: 0.001*\"warmtepomp\" + 0.001*\"tropisch\" + 0.001*\"bilt\" + 0.001*\"warme\" + 0.001*\"hitteplan\" + 0.001*\"dagen\" + 0.001*\"tropische\" + 0.001*\"plan\" + 0.001*\"warm\" + 0.001*\"bosbranden\"\n",
      "Topic: 10 \n",
      "Words: 0.001*\"biomassa\" + 0.000*\"vrijheid\" + 0.000*\"kovacs\" + 0.000*\"golf\" + 0.000*\"ser\" + 0.000*\"energieakkoord\" + 0.000*\"tegels\" + 0.000*\"oversterfte\" + 0.000*\"permafrost\" + 0.000*\"straling\"\n",
      "Topic: 11 \n",
      "Words: 0.001*\"sneeuw\" + 0.001*\"iglo\" + 0.001*\"buien\" + 0.001*\"gemeenten\" + 0.001*\"lente\" + 0.000*\"verhoef\" + 0.000*\"mtw\" + 0.000*\"neerslag\" + 0.000*\"knmi\" + 0.000*\"klimaatverandering\"\n",
      "Topic: 12 \n",
      "Words: 0.001*\"water\" + 0.001*\"bilt\" + 0.001*\"zomer\" + 0.001*\"juli\" + 0.000*\"tropisch\" + 0.000*\"dagen\" + 0.000*\"vandaag\" + 0.000*\"winter\" + 0.000*\"dag\" + 0.000*\"warm\"\n",
      "Topic: 13 \n",
      "Words: 0.001*\"vierdaagse\" + 0.001*\"drone\" + 0.001*\"september\" + 0.001*\"gas\" + 0.001*\"rivm\" + 0.001*\"nijmeegse\" + 0.001*\"ggd\" + 0.000*\"deelnemers\" + 0.000*\"warm\" + 0.000*\"dionne\"\n",
      "Topic: 14 \n",
      "Words: 0.001*\"wandelaars\" + 0.001*\"airco\" + 0.000*\"koning\" + 0.000*\"vierdaagse\" + 0.000*\"gisteren\" + 0.000*\"lara\" + 0.000*\"land\" + 0.000*\"ambulancedienst\" + 0.000*\"oldenborgh\" + 0.000*\"waddenzee\"\n",
      "Topic: 15 \n",
      "Words: 0.001*\"biomassa\" + 0.001*\"boa\" + 0.001*\"bijen\" + 0.001*\"juli\" + 0.000*\"bilt\" + 0.000*\"muggen\" + 0.000*\"vries\" + 0.000*\"foppen\" + 0.000*\"gemiddelde\" + 0.000*\"smog\"\n",
      "Topic: 16 \n",
      "Words: 0.001*\"dagen\" + 0.001*\"september\" + 0.001*\"bilt\" + 0.001*\"maand\" + 0.001*\"record\" + 0.001*\"augustus\" + 0.001*\"juni\" + 0.001*\"week\" + 0.001*\"gemiddelde\" + 0.001*\"dag\"\n",
      "Topic: 17 \n",
      "Words: 0.001*\"dagen\" + 0.001*\"bilt\" + 0.001*\"record\" + 0.001*\"knmi\" + 0.001*\"afgelopen\" + 0.001*\"blijft\" + 0.001*\"weekend\" + 0.001*\"code\" + 0.001*\"boven\" + 0.000*\"brand\"\n",
      "Topic: 18 \n",
      "Words: 0.001*\"oceaan\" + 0.001*\"water\" + 0.001*\"zeespiegel\" + 0.000*\"warmer\" + 0.000*\"vandaag\" + 0.000*\"knmi\" + 0.000*\"dagen\" + 0.000*\"ouderen\" + 0.000*\"zee\" + 0.000*\"plantages\"\n",
      "Topic: 19 \n",
      "Words: 0.001*\"ijs\" + 0.000*\"zomer\" + 0.000*\"frans\" + 0.000*\"gas\" + 0.000*\"kinderen\" + 0.000*\"crok\" + 0.000*\"zonnepanelen\" + 0.000*\"rivm\" + 0.000*\"water\" + 0.000*\"gebouw\"\n"
     ]
    }
   ],
   "source": [
    "# Extract topic distributions for each document \n",
    "doc_topics = [lda_model.get_document_topics(bow) for bow in corpus]\n",
    "\n",
    "# extract word distribution for each topic\n",
    "word_topics = lda_model.print_topics()\n",
    "\n",
    "# word distribution within topics\n",
    "for idx, topic in word_topics:\n",
    "    print('Topic: {} \\nWords: {}'.format(idx, topic))"
   ]
  },
  {
   "cell_type": "code",
   "execution_count": 72,
   "metadata": {},
   "outputs": [
    {
     "name": "stdout",
     "output_type": "stream",
     "text": [
      "[{'Number of topics': 4, 'u_mass': -0.9620197557630068, 'c_v': 0.3256856244395763}, {'Number of topics': 6, 'u_mass': -0.9968491711454858, 'c_v': 0.33274515169199753}, {'Number of topics': 8, 'u_mass': -0.9871637994633989, 'c_v': 0.31177117521728315}, {'Number of topics': 10, 'u_mass': -0.9938672390573297, 'c_v': 0.32486531886503306}, {'Number of topics': 12, 'u_mass': -1.0168091607142893, 'c_v': 0.31320553935485956}, {'Number of topics': 14, 'u_mass': -1.0304638768531575, 'c_v': 0.3128321380986181}, {'Number of topics': 16, 'u_mass': -1.0277830990905041, 'c_v': 0.3244228784293877}, {'Number of topics': 18, 'u_mass': -1.045123179293221, 'c_v': 0.32033118938454214}, {'Number of topics': 20, 'u_mass': -1.0065815699243952, 'c_v': 0.3267267967579131}, {'Number of topics': 22, 'u_mass': -1.0476064895914918, 'c_v': 0.33184926516797897}, {'Number of topics': 24, 'u_mass': -1.0703467370185453, 'c_v': 0.32776522976795525}, {'Number of topics': 26, 'u_mass': -1.0651722213985964, 'c_v': 0.327694257805429}, {'Number of topics': 28, 'u_mass': -1.0782285549446102, 'c_v': 0.3276668034582008}]\n"
     ]
    },
    {
     "data": {
      "image/png": "[encoded data removed]",
      "text/plain": [
       "<Figure size 720x360 with 1 Axes>"
      ]
     },
     "metadata": {
      "needs_background": "light"
     },
     "output_type": "display_data"
    },
    {
     "data": {
      "image/png": "[encoded data removed]",
      "text/plain": [
       "<Figure size 720x360 with 1 Axes>"
      ]
     },
     "metadata": {
      "needs_background": "light"
     },
     "output_type": "display_data"
    }
   ],
   "source": [
    "from gensim.models.coherencemodel import CoherenceModel\n",
    "\n",
    "# Function to compute coherence score\n",
    "def compute_coherence(dictionary, corpus, texts, limit, start, step):\n",
    "    # YOUR CODE HERE\n",
    "    coherence_values = []\n",
    "    model_list = []\n",
    "\n",
    "    for num_topics in range(start, limit, step):\n",
    "        # topic model for num_topics\n",
    "        lda_model = LdaModel(corpus=corpus, id2word=dictionary, num_topics=num_topics)\n",
    "        model_list.append(lda_model)\n",
    "        \n",
    "        u_mass = CoherenceModel(model=lda_model, corpus=corpus, coherence='u_mass').get_coherence()\n",
    "        c_v = CoherenceModel(model=lda_model, texts=texts, coherence='c_v').get_coherence()\n",
    "        #c_uci = CoherenceModel(model=lda_model, texts=texts, dictionary=dictionary, coherence='c_uci').get_coherence()\n",
    "        #c_npmi = CoherenceModel(model=lda_model, texts=texts, dictionary=dictionary, coherence='c_npmi').get_coherence()\n",
    "\n",
    "        coherence_values.append({\"Number of topics\": num_topics, \n",
    "                                 \"u_mass\": u_mass, \n",
    "                                 \"c_v\": c_v, \n",
    "                                 #\"c_uci\": c_uci, \n",
    "                                 #\"c_npmi\": c_npmi\n",
    "                                 })\n",
    "\n",
    "    return model_list, coherence_values\n",
    "    \n",
    "\n",
    "# Applying the function to our dataset\n",
    "model_list, coherence_values = compute_coherence(dictionary=dictionary, corpus=corpus, texts=processed_texts, start=4, limit=30, step=2)\n",
    "print (coherence_values)\n",
    "\n",
    "# Plotting coherence scores\n",
    "# YOUR CODE HERE\n",
    "coherence_df = pd.DataFrame(coherence_values)\n",
    "coherence_df.plot(x=\"Number of topics\", y=[\"c_v\"], figsize=(10,5))\n",
    "plt.show()\n",
    "coherence_df.plot(x=\"Number of topics\", y=[\"u_mass\"], figsize=(10,5))\n",
    "plt.show()"
   ]
  },
  {
   "cell_type": "code",
   "execution_count": null,
   "metadata": {},
   "outputs": [],
   "source": []
  }
 ],
 "metadata": {
  "kernelspec": {
   "display_name": "base",
   "language": "python",
   "name": "python3"
  },
  "language_info": {
   "codemirror_mode": {
    "name": "ipython",
    "version": 3
   },
   "file_extension": ".py",
   "mimetype": "text/x-python",
   "name": "python",
   "nbconvert_exporter": "python",
   "pygments_lexer": "ipython3",
   "version": "3.9.12"
  }
 },
 "nbformat": 4,
 "nbformat_minor": 2
}
