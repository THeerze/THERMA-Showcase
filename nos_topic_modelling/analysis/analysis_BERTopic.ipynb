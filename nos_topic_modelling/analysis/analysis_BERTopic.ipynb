{
 "cells": [
  {
   "cell_type": "markdown",
   "metadata": {},
   "source": [
    "<a id=1></a>\n",
    "## Load the data and preprocess it"
   ]
  },
  {
   "cell_type": "code",
   "execution_count": 1,
   "metadata": {},
   "outputs": [],
   "source": [
    "import pandas as pd"
   ]
  },
  {
   "cell_type": "code",
   "execution_count": 6,
   "metadata": {},
   "outputs": [
    {
     "name": "stdout",
     "output_type": "stream",
     "text": [
      "(1439, 8)\n"
     ]
    },
    {
     "data": {
      "text/html": [
       "<div>\n",
       "<style scoped>\n",
       "    .dataframe tbody tr th:only-of-type {\n",
       "        vertical-align: middle;\n",
       "    }\n",
       "\n",
       "    .dataframe tbody tr th {\n",
       "        vertical-align: top;\n",
       "    }\n",
       "\n",
       "    .dataframe thead th {\n",
       "        text-align: right;\n",
       "    }\n",
       "</style>\n",
       "<table border=\"1\" class=\"dataframe\">\n",
       "  <thead>\n",
       "    <tr style=\"text-align: right;\">\n",
       "      <th></th>\n",
       "      <th>title</th>\n",
       "      <th>url</th>\n",
       "      <th>date</th>\n",
       "      <th>tag</th>\n",
       "      <th>collections</th>\n",
       "      <th>text</th>\n",
       "      <th>subheadings</th>\n",
       "      <th>image_urls</th>\n",
       "    </tr>\n",
       "  </thead>\n",
       "  <tbody>\n",
       "    <tr>\n",
       "      <th>0</th>\n",
       "      <td>Zuid-Franse druiven groeien door klimaatverand...</td>\n",
       "      <td>https://nos.nl/artikel/2481980-zuid-franse-dru...</td>\n",
       "      <td>2023-07-08</td>\n",
       "      <td>NaN</td>\n",
       "      <td>['Economie']</td>\n",
       "      <td>Tegen de heuvels rond Maastricht werden vijfti...</td>\n",
       "      <td>['Einde aan uienteelt']</td>\n",
       "      <td>[{'image_url': 'https://cdn.nos.nl/image/2023/...</td>\n",
       "    </tr>\n",
       "    <tr>\n",
       "      <th>1</th>\n",
       "      <td>Steeds meer mensen een airco, maar experts zie...</td>\n",
       "      <td>https://nos.nl/artikel/2481925-steeds-meer-men...</td>\n",
       "      <td>2023-07-07</td>\n",
       "      <td>NaN</td>\n",
       "      <td>['Binnenland']</td>\n",
       "      <td>Op hete dagen zijn mobiele airco's in winkels ...</td>\n",
       "      <td>NaN</td>\n",
       "      <td>[{'image_url': 'https://cdn.nos.nl/image/2023/...</td>\n",
       "    </tr>\n",
       "    <tr>\n",
       "      <th>2</th>\n",
       "      <td>Hofplein in Rotterdam op de schop: minder auto...</td>\n",
       "      <td>https://nos.nl/artikel/2479795-hofplein-in-rot...</td>\n",
       "      <td>2023-06-21</td>\n",
       "      <td>NaN</td>\n",
       "      <td>['In samenwerking met', 'Rijnmond', 'Regionaal...</td>\n",
       "      <td>Het Hofplein in het centrum van Rotterdam gaat...</td>\n",
       "      <td>['Kosten hoger dan verwacht']</td>\n",
       "      <td>[{'image_url': 'https://cdn.nos.nl/image/2023/...</td>\n",
       "    </tr>\n",
       "    <tr>\n",
       "      <th>3</th>\n",
       "      <td>'Klimaatverandering kan desastreuze gezondheid...</td>\n",
       "      <td>https://nos.nl/artikel/2477696-klimaatverander...</td>\n",
       "      <td>2023-06-04</td>\n",
       "      <td>Klimaat</td>\n",
       "      <td>['Collectie', 'Klimaat', 'Binnenland', 'Buiten...</td>\n",
       "      <td>Dat klimaatverandering kan leiden tot bijvoorb...</td>\n",
       "      <td>['Directe en indirecte gevolgen', \"'Toch wel e...</td>\n",
       "      <td>[{'image_url': 'https://cdn.nos.nl/image/2023/...</td>\n",
       "    </tr>\n",
       "    <tr>\n",
       "      <th>4</th>\n",
       "      <td>Varkens in slachthuizen lijden onnodig, NVWA g...</td>\n",
       "      <td>https://nos.nl/nieuwsuur/artikel/2471637-varke...</td>\n",
       "      <td>2023-04-16</td>\n",
       "      <td>NaN</td>\n",
       "      <td>['Nieuwsuur', 'Binnenland']</td>\n",
       "      <td>Vanaf volgend jaar gaat de overheid optreden t...</td>\n",
       "      <td>['Vechten', 'Hittestress']</td>\n",
       "      <td>[{'image_url': 'https://cdn.nos.nl/image/2023/...</td>\n",
       "    </tr>\n",
       "  </tbody>\n",
       "</table>\n",
       "</div>"
      ],
      "text/plain": [
       "                                               title  \\\n",
       "0  Zuid-Franse druiven groeien door klimaatverand...   \n",
       "1  Steeds meer mensen een airco, maar experts zie...   \n",
       "2  Hofplein in Rotterdam op de schop: minder auto...   \n",
       "3  'Klimaatverandering kan desastreuze gezondheid...   \n",
       "4  Varkens in slachthuizen lijden onnodig, NVWA g...   \n",
       "\n",
       "                                                 url        date      tag  \\\n",
       "0  https://nos.nl/artikel/2481980-zuid-franse-dru...  2023-07-08      NaN   \n",
       "1  https://nos.nl/artikel/2481925-steeds-meer-men...  2023-07-07      NaN   \n",
       "2  https://nos.nl/artikel/2479795-hofplein-in-rot...  2023-06-21      NaN   \n",
       "3  https://nos.nl/artikel/2477696-klimaatverander...  2023-06-04  Klimaat   \n",
       "4  https://nos.nl/nieuwsuur/artikel/2471637-varke...  2023-04-16      NaN   \n",
       "\n",
       "                                         collections  \\\n",
       "0                                       ['Economie']   \n",
       "1                                     ['Binnenland']   \n",
       "2  ['In samenwerking met', 'Rijnmond', 'Regionaal...   \n",
       "3  ['Collectie', 'Klimaat', 'Binnenland', 'Buiten...   \n",
       "4                        ['Nieuwsuur', 'Binnenland']   \n",
       "\n",
       "                                                text  \\\n",
       "0  Tegen de heuvels rond Maastricht werden vijfti...   \n",
       "1  Op hete dagen zijn mobiele airco's in winkels ...   \n",
       "2  Het Hofplein in het centrum van Rotterdam gaat...   \n",
       "3  Dat klimaatverandering kan leiden tot bijvoorb...   \n",
       "4  Vanaf volgend jaar gaat de overheid optreden t...   \n",
       "\n",
       "                                         subheadings  \\\n",
       "0                            ['Einde aan uienteelt']   \n",
       "1                                                NaN   \n",
       "2                      ['Kosten hoger dan verwacht']   \n",
       "3  ['Directe en indirecte gevolgen', \"'Toch wel e...   \n",
       "4                         ['Vechten', 'Hittestress']   \n",
       "\n",
       "                                          image_urls  \n",
       "0  [{'image_url': 'https://cdn.nos.nl/image/2023/...  \n",
       "1  [{'image_url': 'https://cdn.nos.nl/image/2023/...  \n",
       "2  [{'image_url': 'https://cdn.nos.nl/image/2023/...  \n",
       "3  [{'image_url': 'https://cdn.nos.nl/image/2023/...  \n",
       "4  [{'image_url': 'https://cdn.nos.nl/image/2023/...  "
      ]
     },
     "execution_count": 6,
     "metadata": {},
     "output_type": "execute_result"
    }
   ],
   "source": [
    "df = pd.read_csv('../analysis/data/nos_hittegolf.csv')\n",
    "df.drop('Unnamed: 0', axis=1, inplace=True)\n",
    "df.dropna(subset=['text'] ,inplace=True)\n",
    "df.reset_index(drop=True, inplace=True)\n",
    "print(df.shape)\n",
    "df.head()"
   ]
  },
  {
   "cell_type": "code",
   "execution_count": 7,
   "metadata": {},
   "outputs": [],
   "source": [
    "import re\n",
    "\n",
    "def clean_text(text):\n",
    "    # Remove URLs\n",
    "    text = re.sub(r'http\\S+', '', text)\n",
    "    # Remove hashtags (but keep the word following the hashtag)\n",
    "    text = re.sub(r'#', '', text)\n",
    "    #Remove additional white spaces\n",
    "    text = re.sub(r'\\s+', ' ', text).strip()\n",
    "    # Remove numbers\n",
    "    #text = re.sub(r'\\d+', '', text)\n",
    "    return text"
   ]
  },
  {
   "cell_type": "code",
   "execution_count": 8,
   "metadata": {},
   "outputs": [
    {
     "name": "stdout",
     "output_type": "stream",
     "text": [
      "Tegen de heuvels rond Maastricht werden vijftig jaar geleden de eerste wijnranken aangelegd. Toen werd er nog met scepsis tegen wijnbouw in Nederland aangekeken. Inmiddels is het zelfs voor de Moezel- en Elzasdruiven, zoals Müller-Thurgau, Riesling en Pinot Gris, te warm geworden op het zuidelijk deel van wijngaard. Sinds dit jaar worden er daarom in Maastricht ook op grote schaal Viognier-druiven geteeld, afkomstig uit het Rhônedal in Zuid-Frankrijk: \"We moeten echt druivensoorten gaan zoeken die normaal veel zuidelijker aangeplant worden, omdat de klassieke soorten die we hier in het verleden hadden bijna overrijp gaan worden\", zegt Mathieu Hulst, eigenaar van de Apostelhoeve in Maastricht. Samen met zijn zonen Gilbert en Robin en een beetje hulp van vader en oprichter Hugo runt Mathieu één van de oudste wijngaarden in Nederland. Mathieu ziet met eigen ogen de snelheid van de klimaatverandering en het effect hiervan op de wijngaard. \"Het gaat veel harder dan de meeste mensen denken.\" Hij ziet het ook aan het tijdstip waarop de druiven geoogst worden. \"Geen haar op ons hoofd die er vroeger aan dacht om voor 10 oktober met de oogst te beginnen. Tegenwoordig is dat al de eerste week van september of eind augustus. Een vervroeging van zes weken in een hele korte periode. Dat is gigantisch.\" Ook een lange periode van droogte, zoals in de afgelopen weken, schept uitdagingen. Waar vader Hugo vijftig jaar geleden blij was met elk zonnestraaltje, kijken Mathieu en zonen steeds vaker uit naar regen. Een heel irrigatiesysteem moet sinds een aantal jaren zorgen voor voldoende water voor de druiven. De effecten van klimaatverandering beperken zich niet tot de wijnbouw, zegt Gerard van der Linden van de Wageningen Universiteit. Hij is gespecialiseerd in hittestress in de landbouw. \"We zien dat de zomers warmer worden en we hebben langere droge periodes. De bermen zijn hartstikke geel. Dat hadden we in Nederland in deze periode zelden of nooit. Het weer dat zuidelijk van ons lag, komt onze kant op.\" Einde aan uienteelt De veranderingen leiden tot grote veranderingen in de landbouw. Droogte en verzilting dreigen een einde te maken aan de uienteelt in Zeeland. Naast mais voor veevoer kan er nu ook zoete mais voor menselijke consumptie geteeld gaan worden. Voor de aardappelteelt zijn op termijn waarschijnlijk andere rassen nodig. Van der Linden ziet ook ruimte voor zonnebloemvelden in Zuid-Nederland. Niet alleen het weer, maar ook het landschap in Nederland gaat dan steeds meer op Frankrijk lijken. \"Een uitdaging\", zo omschrijft Mathieu Hulst de klimaatverandering voor zijn bedrijf. Economie\n"
     ]
    }
   ],
   "source": [
    "df['text'] = df['text'].apply(clean_text)\n",
    "print (df['text'][0])"
   ]
  },
  {
   "cell_type": "markdown",
   "metadata": {},
   "source": [
    "<a id=2></a>\n",
    "## Run BERTopic"
   ]
  },
  {
   "cell_type": "code",
   "execution_count": 118,
   "metadata": {},
   "outputs": [
    {
     "name": "stderr",
     "output_type": "stream",
     "text": [
      "[nltk_data] Downloading package stopwords to /Users/tom/nltk_data...\n",
      "[nltk_data]   Package stopwords is already up-to-date!\n"
     ]
    }
   ],
   "source": [
    "import nltk\n",
    "nltk.download('stopwords')\n",
    "from nltk.corpus import stopwords\n",
    "stop_words = stopwords.words('dutch')"
   ]
  },
  {
   "cell_type": "code",
   "execution_count": null,
   "metadata": {},
   "outputs": [],
   "source": [
    "from bertopic import BERTopic\n",
    "from sklearn.feature_extraction.text import CountVectorizer\n",
    "from bertopic.vectorizers import ClassTfidfTransformer\n",
    "from sentence_transformers import SentenceTransformer\n",
    "from umap import UMAP\n",
    "\n",
    "# Load dutch BERT model\n",
    "embedding_model = SentenceTransformer('GroNLP/bert-base-dutch-cased')\n",
    "embeddings = embedding_model.encode(df['text'], show_progress_bar=True)\n",
    "\n",
    "# Create UMAP model\n",
    "umap_model = UMAP(n_neighbors=15, n_components=5, min_dist=0.0, metric='cosine', random_state=42)\n",
    "\n",
    "# CountVectorizer\n",
    "vectorizer_model = CountVectorizer(stop_words=stop_words, min_df=2, ngram_range=(1, 2))\n",
    "\n",
    "# Create c-TF-IDF vectorizer\n",
    "ctfidf_model = ClassTfidfTransformer(reduce_frequent_words=True)"
   ]
  },
  {
   "cell_type": "code",
   "execution_count": 120,
   "metadata": {},
   "outputs": [
    {
     "name": "stderr",
     "output_type": "stream",
     "text": [
      "2023-12-06 12:14:59,134 - BERTopic - Reduced dimensionality\n",
      "2023-12-06 12:14:59,165 - BERTopic - Clustered reduced embeddings\n"
     ]
    }
   ],
   "source": [
    "from bertopic import BERTopic\n",
    "\n",
    "topic_model = BERTopic(\n",
    "\n",
    "  # Pipeline models\n",
    "  embedding_model=embedding_model,\n",
    "  umap_model=umap_model,\n",
    "  #hdbscan_model=hdbscan_model,\n",
    "  vectorizer_model=vectorizer_model,\n",
    "  ctfidf_model = ClassTfidfTransformer(reduce_frequent_words=True),\n",
    "  #representation_model=KeyBERTInspired(),\n",
    "\n",
    "  # Hyperparameters\n",
    "  #top_n_words=10,\n",
    "  #nr_topics=\"auto\",\n",
    "  verbose=True\n",
    ")\n",
    "\n",
    "topics, probs = topic_model.fit_transform(df['text'], embeddings=embeddings)"
   ]
  },
  {
   "cell_type": "code",
   "execution_count": 12,
   "metadata": {},
   "outputs": [],
   "source": [
    "#topic_model = BERTopic.load(\"../analysis/topic_models/topic_model_hittegolf\")"
   ]
  },
  {
   "cell_type": "markdown",
   "metadata": {},
   "source": [
    "<a id=3></a>\n",
    "## Merge and label topics"
   ]
  },
  {
   "cell_type": "code",
   "execution_count": 15,
   "metadata": {},
   "outputs": [
    {
     "data": {
      "text/html": [
       "<div>\n",
       "<style scoped>\n",
       "    .dataframe tbody tr th:only-of-type {\n",
       "        vertical-align: middle;\n",
       "    }\n",
       "\n",
       "    .dataframe tbody tr th {\n",
       "        vertical-align: top;\n",
       "    }\n",
       "\n",
       "    .dataframe thead th {\n",
       "        text-align: right;\n",
       "    }\n",
       "</style>\n",
       "<table border=\"1\" class=\"dataframe\">\n",
       "  <thead>\n",
       "    <tr style=\"text-align: right;\">\n",
       "      <th></th>\n",
       "      <th>Topic</th>\n",
       "      <th>Count</th>\n",
       "      <th>Name</th>\n",
       "      <th>CustomName</th>\n",
       "      <th>Representation</th>\n",
       "      <th>Representative_Docs</th>\n",
       "    </tr>\n",
       "  </thead>\n",
       "  <tbody>\n",
       "    <tr>\n",
       "      <th>0</th>\n",
       "      <td>-1</td>\n",
       "      <td>376</td>\n",
       "      <td>-1_mensen_zegt_hitte_volgens</td>\n",
       "      <td>-1_mensen_zegt_hitte_volgens</td>\n",
       "      <td>[mensen, zegt, hitte, volgens, we, water, wel,...</td>\n",
       "      <td>[De komende dagen wordt het nog weer even flin...</td>\n",
       "    </tr>\n",
       "    <tr>\n",
       "      <th>1</th>\n",
       "      <td>0</td>\n",
       "      <td>149</td>\n",
       "      <td>0_graden_bilt_dagen_25 graden</td>\n",
       "      <td>Weather &amp; Temperature</td>\n",
       "      <td>[graden, bilt, dagen, 25 graden, 30 graden, 25...</td>\n",
       "      <td>[Hoewel 2015 nog niet is afgelopen, is het nu ...</td>\n",
       "    </tr>\n",
       "    <tr>\n",
       "      <th>2</th>\n",
       "      <td>1</td>\n",
       "      <td>145</td>\n",
       "      <td>1_branden_vuur_bosbranden_brand</td>\n",
       "      <td>Wildfires</td>\n",
       "      <td>[branden, vuur, bosbranden, brand, geëvacueerd...</td>\n",
       "      <td>[Er lijkt de komende dagen nog geen einde te k...</td>\n",
       "    </tr>\n",
       "    <tr>\n",
       "      <th>3</th>\n",
       "      <td>2</td>\n",
       "      <td>112</td>\n",
       "      <td>2_wk_voetbal_wedstrijd_spelen</td>\n",
       "      <td>Sports &amp; Athletes</td>\n",
       "      <td>[wk, voetbal, wedstrijd, spelen, ajax, club, t...</td>\n",
       "      <td>[Als Pierre Vermeulen zich dan toch met iemand...</td>\n",
       "    </tr>\n",
       "    <tr>\n",
       "      <th>4</th>\n",
       "      <td>3</td>\n",
       "      <td>105</td>\n",
       "      <td>3_gas_energie_waterstof_biomassa</td>\n",
       "      <td>Electricity</td>\n",
       "      <td>[gas, energie, waterstof, biomassa, aardgas, d...</td>\n",
       "      <td>[In 2030 moeten we bijna de helft minder CO2 u...</td>\n",
       "    </tr>\n",
       "    <tr>\n",
       "      <th>5</th>\n",
       "      <td>4</td>\n",
       "      <td>104</td>\n",
       "      <td>4_ijs_opwarming_aarde_klimaatverandering</td>\n",
       "      <td>Climate change</td>\n",
       "      <td>[ijs, opwarming, aarde, klimaatverandering, oc...</td>\n",
       "      <td>[Italië, Spanje en Frankrijk, maar ook Duitsla...</td>\n",
       "    </tr>\n",
       "    <tr>\n",
       "      <th>6</th>\n",
       "      <td>5</td>\n",
       "      <td>74</td>\n",
       "      <td>5_gemist_fijne_vandaag_kun vandaag</td>\n",
       "      <td>NOS morning report</td>\n",
       "      <td>[gemist, fijne, vandaag, kun vandaag, overzich...</td>\n",
       "      <td>[Goedemorgen! De voorlopige resultaten van de ...</td>\n",
       "    </tr>\n",
       "    <tr>\n",
       "      <th>7</th>\n",
       "      <td>6</td>\n",
       "      <td>46</td>\n",
       "      <td>6_droogte_water_waterschappen_waterschap</td>\n",
       "      <td>Water &amp; Droughts</td>\n",
       "      <td>[droogte, water, waterschappen, waterschap, ri...</td>\n",
       "      <td>[Het is droog en warm in Nederland, en voorlop...</td>\n",
       "    </tr>\n",
       "    <tr>\n",
       "      <th>8</th>\n",
       "      <td>7</td>\n",
       "      <td>45</td>\n",
       "      <td>7_muggen_vliet_blauwalg_hooikoorts</td>\n",
       "      <td>Ecological Impact</td>\n",
       "      <td>[muggen, vliet, blauwalg, hooikoorts, overlast...</td>\n",
       "      <td>[Jaar na jaar trekt de tijgermug vanuit Zuid-E...</td>\n",
       "    </tr>\n",
       "    <tr>\n",
       "      <th>9</th>\n",
       "      <td>8</td>\n",
       "      <td>42</td>\n",
       "      <td>8_vierdaagse_deelnemers_organisatie_bezoekers</td>\n",
       "      <td>Events</td>\n",
       "      <td>[vierdaagse, deelnemers, organisatie, bezoeker...</td>\n",
       "      <td>[Het was de afgelopen dagen al zonnig en warm ...</td>\n",
       "    </tr>\n",
       "    <tr>\n",
       "      <th>10</th>\n",
       "      <td>9</td>\n",
       "      <td>29</td>\n",
       "      <td>9_dieren_varkens_nvwa_boa</td>\n",
       "      <td>Animal Welfare</td>\n",
       "      <td>[dieren, varkens, nvwa, boa, hittestress, wakk...</td>\n",
       "      <td>[Er zijn strengere wetten en voorschriften nod...</td>\n",
       "    </tr>\n",
       "    <tr>\n",
       "      <th>11</th>\n",
       "      <td>10</td>\n",
       "      <td>29</td>\n",
       "      <td>10_koning_alexander_willem alexander_koningin</td>\n",
       "      <td>10_koning_alexander_willem alexander_koningin</td>\n",
       "      <td>[koning, alexander, willem alexander, koningin...</td>\n",
       "      <td>[Wij vieren Kerstmis in een bewogen tijd. In h...</td>\n",
       "    </tr>\n",
       "    <tr>\n",
       "      <th>12</th>\n",
       "      <td>11</td>\n",
       "      <td>25</td>\n",
       "      <td>11_rivm_hitteplan_nationaal hitteplan_ouderen</td>\n",
       "      <td>Public Health &amp; Vulnerable Populations</td>\n",
       "      <td>[rivm, hitteplan, nationaal hitteplan, ouderen...</td>\n",
       "      <td>[Het RIVM heeft in verband met de warmte het N...</td>\n",
       "    </tr>\n",
       "    <tr>\n",
       "      <th>13</th>\n",
       "      <td>12</td>\n",
       "      <td>25</td>\n",
       "      <td>12_airco_treinen_wel_zegt woordvoerder</td>\n",
       "      <td>Heatwave Adaptation Strategies in Spaces</td>\n",
       "      <td>[airco, treinen, wel, zegt woordvoerder, zegt,...</td>\n",
       "      <td>[In Frankrijk geldt momenteel voor negentien d...</td>\n",
       "    </tr>\n",
       "    <tr>\n",
       "      <th>14</th>\n",
       "      <td>13</td>\n",
       "      <td>21</td>\n",
       "      <td>13_40 graden_graden_40_hitte</td>\n",
       "      <td>Extreme heat conditions</td>\n",
       "      <td>[40 graden, graden, 40, hitte, hittegolf, gebr...</td>\n",
       "      <td>[De hittegolf die grote delen van Zuid-Europa ...</td>\n",
       "    </tr>\n",
       "    <tr>\n",
       "      <th>15</th>\n",
       "      <td>14</td>\n",
       "      <td>21</td>\n",
       "      <td>14_huishoudens_airco_gas_procent</td>\n",
       "      <td>Household Energy Efficiency and Costs</td>\n",
       "      <td>[huishoudens, airco, gas, procent, euro, milie...</td>\n",
       "      <td>[Ondanks de toegenomen aandacht voor het milie...</td>\n",
       "    </tr>\n",
       "    <tr>\n",
       "      <th>16</th>\n",
       "      <td>15</td>\n",
       "      <td>16</td>\n",
       "      <td>15_wegen_zandvoort_stranden_strand</td>\n",
       "      <td>Congestion at tourist spots and beaches</td>\n",
       "      <td>[wegen, zandvoort, stranden, strand, bloemenda...</td>\n",
       "      <td>[Op verschillende plekken in het land zijn van...</td>\n",
       "    </tr>\n",
       "    <tr>\n",
       "      <th>17</th>\n",
       "      <td>16</td>\n",
       "      <td>15</td>\n",
       "      <td>16_nieuwsuurbinnenland_nieuwsuur_gast_boek</td>\n",
       "      <td>Media coverage on climate crisis</td>\n",
       "      <td>[nieuwsuurbinnenland, nieuwsuur, gast, boek, s...</td>\n",
       "      <td>[Ziekenhuizen binden strijd aan tegen 'medicij...</td>\n",
       "    </tr>\n",
       "    <tr>\n",
       "      <th>18</th>\n",
       "      <td>17</td>\n",
       "      <td>14</td>\n",
       "      <td>17_nasa_maan_raket_capsule</td>\n",
       "      <td>17_nasa_maan_raket_capsule</td>\n",
       "      <td>[nasa, maan, raket, capsule, sonde, lancering,...</td>\n",
       "      <td>[ESA is er helemaal klaar voor. Vannacht rond ...</td>\n",
       "    </tr>\n",
       "    <tr>\n",
       "      <th>19</th>\n",
       "      <td>18</td>\n",
       "      <td>12</td>\n",
       "      <td>18_karachi_dodental_india_andhra pradesh</td>\n",
       "      <td>Natural disasters</td>\n",
       "      <td>[karachi, dodental, india, andhra pradesh, and...</td>\n",
       "      <td>[De nu al twee weken durende hittegolf in Japa...</td>\n",
       "    </tr>\n",
       "    <tr>\n",
       "      <th>20</th>\n",
       "      <td>19</td>\n",
       "      <td>12</td>\n",
       "      <td>19_gemeenten_deltacommissaris_kluck_groen</td>\n",
       "      <td>Climate adaption (gemeenten)</td>\n",
       "      <td>[gemeenten, deltacommissaris, kluck, groen, vr...</td>\n",
       "      <td>[Natuurbranden in Nederland zullen steeds vake...</td>\n",
       "    </tr>\n",
       "    <tr>\n",
       "      <th>21</th>\n",
       "      <td>20</td>\n",
       "      <td>11</td>\n",
       "      <td>20_pfas_vaccin_5g_koffie</td>\n",
       "      <td>20_pfas_vaccin_5g_koffie</td>\n",
       "      <td>[pfas, vaccin, 5g, koffie, straling, vaccins, ...</td>\n",
       "      <td>[De komst van het langverwachte snelle mobiele...</td>\n",
       "    </tr>\n",
       "    <tr>\n",
       "      <th>22</th>\n",
       "      <td>21</td>\n",
       "      <td>11</td>\n",
       "      <td>21_wijn_druiven_vissen_vissers</td>\n",
       "      <td>Impact on Agriculture</td>\n",
       "      <td>[wijn, druiven, vissen, vissers, oder, rijst, ...</td>\n",
       "      <td>[Het is al maanden extreem warm in Zuid-Europa...</td>\n",
       "    </tr>\n",
       "  </tbody>\n",
       "</table>\n",
       "</div>"
      ],
      "text/plain": [
       "    Topic  Count                                           Name  \\\n",
       "0      -1    376                   -1_mensen_zegt_hitte_volgens   \n",
       "1       0    149                  0_graden_bilt_dagen_25 graden   \n",
       "2       1    145                1_branden_vuur_bosbranden_brand   \n",
       "3       2    112                  2_wk_voetbal_wedstrijd_spelen   \n",
       "4       3    105               3_gas_energie_waterstof_biomassa   \n",
       "5       4    104       4_ijs_opwarming_aarde_klimaatverandering   \n",
       "6       5     74             5_gemist_fijne_vandaag_kun vandaag   \n",
       "7       6     46       6_droogte_water_waterschappen_waterschap   \n",
       "8       7     45             7_muggen_vliet_blauwalg_hooikoorts   \n",
       "9       8     42  8_vierdaagse_deelnemers_organisatie_bezoekers   \n",
       "10      9     29                      9_dieren_varkens_nvwa_boa   \n",
       "11     10     29  10_koning_alexander_willem alexander_koningin   \n",
       "12     11     25  11_rivm_hitteplan_nationaal hitteplan_ouderen   \n",
       "13     12     25         12_airco_treinen_wel_zegt woordvoerder   \n",
       "14     13     21                   13_40 graden_graden_40_hitte   \n",
       "15     14     21               14_huishoudens_airco_gas_procent   \n",
       "16     15     16             15_wegen_zandvoort_stranden_strand   \n",
       "17     16     15     16_nieuwsuurbinnenland_nieuwsuur_gast_boek   \n",
       "18     17     14                     17_nasa_maan_raket_capsule   \n",
       "19     18     12       18_karachi_dodental_india_andhra pradesh   \n",
       "20     19     12      19_gemeenten_deltacommissaris_kluck_groen   \n",
       "21     20     11                       20_pfas_vaccin_5g_koffie   \n",
       "22     21     11                 21_wijn_druiven_vissen_vissers   \n",
       "\n",
       "                                       CustomName  \\\n",
       "0                    -1_mensen_zegt_hitte_volgens   \n",
       "1                           Weather & Temperature   \n",
       "2                                       Wildfires   \n",
       "3                               Sports & Athletes   \n",
       "4                                     Electricity   \n",
       "5                                  Climate change   \n",
       "6                              NOS morning report   \n",
       "7                                Water & Droughts   \n",
       "8                               Ecological Impact   \n",
       "9                                          Events   \n",
       "10                                 Animal Welfare   \n",
       "11  10_koning_alexander_willem alexander_koningin   \n",
       "12         Public Health & Vulnerable Populations   \n",
       "13       Heatwave Adaptation Strategies in Spaces   \n",
       "14                        Extreme heat conditions   \n",
       "15          Household Energy Efficiency and Costs   \n",
       "16        Congestion at tourist spots and beaches   \n",
       "17               Media coverage on climate crisis   \n",
       "18                     17_nasa_maan_raket_capsule   \n",
       "19                              Natural disasters   \n",
       "20                   Climate adaption (gemeenten)   \n",
       "21                       20_pfas_vaccin_5g_koffie   \n",
       "22                          Impact on Agriculture   \n",
       "\n",
       "                                       Representation  \\\n",
       "0   [mensen, zegt, hitte, volgens, we, water, wel,...   \n",
       "1   [graden, bilt, dagen, 25 graden, 30 graden, 25...   \n",
       "2   [branden, vuur, bosbranden, brand, geëvacueerd...   \n",
       "3   [wk, voetbal, wedstrijd, spelen, ajax, club, t...   \n",
       "4   [gas, energie, waterstof, biomassa, aardgas, d...   \n",
       "5   [ijs, opwarming, aarde, klimaatverandering, oc...   \n",
       "6   [gemist, fijne, vandaag, kun vandaag, overzich...   \n",
       "7   [droogte, water, waterschappen, waterschap, ri...   \n",
       "8   [muggen, vliet, blauwalg, hooikoorts, overlast...   \n",
       "9   [vierdaagse, deelnemers, organisatie, bezoeker...   \n",
       "10  [dieren, varkens, nvwa, boa, hittestress, wakk...   \n",
       "11  [koning, alexander, willem alexander, koningin...   \n",
       "12  [rivm, hitteplan, nationaal hitteplan, ouderen...   \n",
       "13  [airco, treinen, wel, zegt woordvoerder, zegt,...   \n",
       "14  [40 graden, graden, 40, hitte, hittegolf, gebr...   \n",
       "15  [huishoudens, airco, gas, procent, euro, milie...   \n",
       "16  [wegen, zandvoort, stranden, strand, bloemenda...   \n",
       "17  [nieuwsuurbinnenland, nieuwsuur, gast, boek, s...   \n",
       "18  [nasa, maan, raket, capsule, sonde, lancering,...   \n",
       "19  [karachi, dodental, india, andhra pradesh, and...   \n",
       "20  [gemeenten, deltacommissaris, kluck, groen, vr...   \n",
       "21  [pfas, vaccin, 5g, koffie, straling, vaccins, ...   \n",
       "22  [wijn, druiven, vissen, vissers, oder, rijst, ...   \n",
       "\n",
       "                                  Representative_Docs  \n",
       "0   [De komende dagen wordt het nog weer even flin...  \n",
       "1   [Hoewel 2015 nog niet is afgelopen, is het nu ...  \n",
       "2   [Er lijkt de komende dagen nog geen einde te k...  \n",
       "3   [Als Pierre Vermeulen zich dan toch met iemand...  \n",
       "4   [In 2030 moeten we bijna de helft minder CO2 u...  \n",
       "5   [Italië, Spanje en Frankrijk, maar ook Duitsla...  \n",
       "6   [Goedemorgen! De voorlopige resultaten van de ...  \n",
       "7   [Het is droog en warm in Nederland, en voorlop...  \n",
       "8   [Jaar na jaar trekt de tijgermug vanuit Zuid-E...  \n",
       "9   [Het was de afgelopen dagen al zonnig en warm ...  \n",
       "10  [Er zijn strengere wetten en voorschriften nod...  \n",
       "11  [Wij vieren Kerstmis in een bewogen tijd. In h...  \n",
       "12  [Het RIVM heeft in verband met de warmte het N...  \n",
       "13  [In Frankrijk geldt momenteel voor negentien d...  \n",
       "14  [De hittegolf die grote delen van Zuid-Europa ...  \n",
       "15  [Ondanks de toegenomen aandacht voor het milie...  \n",
       "16  [Op verschillende plekken in het land zijn van...  \n",
       "17  [Ziekenhuizen binden strijd aan tegen 'medicij...  \n",
       "18  [ESA is er helemaal klaar voor. Vannacht rond ...  \n",
       "19  [De nu al twee weken durende hittegolf in Japa...  \n",
       "20  [Natuurbranden in Nederland zullen steeds vake...  \n",
       "21  [De komst van het langverwachte snelle mobiele...  \n",
       "22  [Het is al maanden extreem warm in Zuid-Europa...  "
      ]
     },
     "execution_count": 15,
     "metadata": {},
     "output_type": "execute_result"
    }
   ],
   "source": [
    "# look at the most frequent topics\n",
    "freq = topic_model.get_topic_info()\n",
    "freq"
   ]
  },
  {
   "cell_type": "code",
   "execution_count": 9,
   "metadata": {},
   "outputs": [],
   "source": [
    "# 1 and 18 - Wildfires, 15 and 16 - Events, 7, 8 and 9 - Sports & Athletes\n",
    "topic_model.merge_topics(docs=df['text'], topics_to_merge=[[1, 18],[15, 16],[7, 8, 9]])"
   ]
  },
  {
   "cell_type": "code",
   "execution_count": 10,
   "metadata": {},
   "outputs": [],
   "source": [
    "# label the topics\n",
    "topic_model.set_topic_labels({0: 'Weather & Temperature', 1: 'Wildfires', 2: 'Sports & Athletes', 3: 'Electricity', 4: 'Climate change', 5: 'NOS Wakeup call', 6: 'Water & Droughts', 7: 'Ecological Impact',\n",
    "                              8: 'Events', 9: 'Animal Welfare', 11: 'Public Health & Vulnerable Populations', 12: 'Heatwave Adaptation Strategies in Spaces', 13: 'Extreme heat conditions', \n",
    "                              14: 'Household Energy Efficiency and Costs', 15: 'Congestion at tourist spots and beaches', 16: 'Media coverage on climate crisis', 18: 'Natural disasters', 19: 'Climate adaption (gemeenten)',\n",
    "                              21: 'Impact on Agriculture'})"
   ]
  },
  {
   "cell_type": "code",
   "execution_count": 135,
   "metadata": {},
   "outputs": [
    {
     "name": "stderr",
     "output_type": "stream",
     "text": [
      "2023-12-06 14:36:52,800 - BERTopic - Reduced dimensionality\n"
     ]
    },
    {
     "name": "stderr",
     "output_type": "stream",
     "text": [
      "2023-12-06 14:36:52,835 - BERTopic - Predicted clusters\n"
     ]
    },
    {
     "data": {
      "text/html": [
       "<div>\n",
       "<style scoped>\n",
       "    .dataframe tbody tr th:only-of-type {\n",
       "        vertical-align: middle;\n",
       "    }\n",
       "\n",
       "    .dataframe tbody tr th {\n",
       "        vertical-align: top;\n",
       "    }\n",
       "\n",
       "    .dataframe thead th {\n",
       "        text-align: right;\n",
       "    }\n",
       "</style>\n",
       "<table border=\"1\" class=\"dataframe\">\n",
       "  <thead>\n",
       "    <tr style=\"text-align: right;\">\n",
       "      <th></th>\n",
       "      <th>title</th>\n",
       "      <th>url</th>\n",
       "      <th>date</th>\n",
       "      <th>tag</th>\n",
       "      <th>collections</th>\n",
       "      <th>text</th>\n",
       "      <th>subheadings</th>\n",
       "      <th>image_urls</th>\n",
       "      <th>topic</th>\n",
       "      <th>topic_prob</th>\n",
       "    </tr>\n",
       "  </thead>\n",
       "  <tbody>\n",
       "    <tr>\n",
       "      <th>0</th>\n",
       "      <td>Zuid-Franse druiven groeien door klimaatverand...</td>\n",
       "      <td>https://nos.nl/artikel/2481980-zuid-franse-dru...</td>\n",
       "      <td>2023-07-08</td>\n",
       "      <td>NaN</td>\n",
       "      <td>['Economie']</td>\n",
       "      <td>Tegen de heuvels rond Maastricht werden vijfti...</td>\n",
       "      <td>['Einde aan uienteelt']</td>\n",
       "      <td>[{'image_url': 'https://cdn.nos.nl/image/2023/...</td>\n",
       "      <td>21</td>\n",
       "      <td>1.000000</td>\n",
       "    </tr>\n",
       "    <tr>\n",
       "      <th>1</th>\n",
       "      <td>Steeds meer mensen een airco, maar experts zie...</td>\n",
       "      <td>https://nos.nl/artikel/2481925-steeds-meer-men...</td>\n",
       "      <td>2023-07-07</td>\n",
       "      <td>NaN</td>\n",
       "      <td>['Binnenland']</td>\n",
       "      <td>Op hete dagen zijn mobiele airco's in winkels ...</td>\n",
       "      <td>NaN</td>\n",
       "      <td>[{'image_url': 'https://cdn.nos.nl/image/2023/...</td>\n",
       "      <td>14</td>\n",
       "      <td>0.947161</td>\n",
       "    </tr>\n",
       "    <tr>\n",
       "      <th>2</th>\n",
       "      <td>Hofplein in Rotterdam op de schop: minder auto...</td>\n",
       "      <td>https://nos.nl/artikel/2479795-hofplein-in-rot...</td>\n",
       "      <td>2023-06-21</td>\n",
       "      <td>NaN</td>\n",
       "      <td>['In samenwerking met', 'Rijnmond', 'Regionaal...</td>\n",
       "      <td>Het Hofplein in het centrum van Rotterdam gaat...</td>\n",
       "      <td>['Kosten hoger dan verwacht']</td>\n",
       "      <td>[{'image_url': 'https://cdn.nos.nl/image/2023/...</td>\n",
       "      <td>-1</td>\n",
       "      <td>0.000000</td>\n",
       "    </tr>\n",
       "    <tr>\n",
       "      <th>3</th>\n",
       "      <td>'Klimaatverandering kan desastreuze gezondheid...</td>\n",
       "      <td>https://nos.nl/artikel/2477696-klimaatverander...</td>\n",
       "      <td>2023-06-04</td>\n",
       "      <td>Klimaat</td>\n",
       "      <td>['Collectie', 'Klimaat', 'Binnenland', 'Buiten...</td>\n",
       "      <td>Dat klimaatverandering kan leiden tot bijvoorb...</td>\n",
       "      <td>['Directe en indirecte gevolgen', \"'Toch wel e...</td>\n",
       "      <td>[{'image_url': 'https://cdn.nos.nl/image/2023/...</td>\n",
       "      <td>19</td>\n",
       "      <td>1.000000</td>\n",
       "    </tr>\n",
       "    <tr>\n",
       "      <th>4</th>\n",
       "      <td>Varkens in slachthuizen lijden onnodig, NVWA g...</td>\n",
       "      <td>https://nos.nl/nieuwsuur/artikel/2471637-varke...</td>\n",
       "      <td>2023-04-16</td>\n",
       "      <td>NaN</td>\n",
       "      <td>['Nieuwsuur', 'Binnenland']</td>\n",
       "      <td>Vanaf volgend jaar gaat de overheid optreden t...</td>\n",
       "      <td>['Vechten', 'Hittestress']</td>\n",
       "      <td>[{'image_url': 'https://cdn.nos.nl/image/2023/...</td>\n",
       "      <td>9</td>\n",
       "      <td>0.968941</td>\n",
       "    </tr>\n",
       "  </tbody>\n",
       "</table>\n",
       "</div>"
      ],
      "text/plain": [
       "                                               title  \\\n",
       "0  Zuid-Franse druiven groeien door klimaatverand...   \n",
       "1  Steeds meer mensen een airco, maar experts zie...   \n",
       "2  Hofplein in Rotterdam op de schop: minder auto...   \n",
       "3  'Klimaatverandering kan desastreuze gezondheid...   \n",
       "4  Varkens in slachthuizen lijden onnodig, NVWA g...   \n",
       "\n",
       "                                                 url        date      tag  \\\n",
       "0  https://nos.nl/artikel/2481980-zuid-franse-dru...  2023-07-08      NaN   \n",
       "1  https://nos.nl/artikel/2481925-steeds-meer-men...  2023-07-07      NaN   \n",
       "2  https://nos.nl/artikel/2479795-hofplein-in-rot...  2023-06-21      NaN   \n",
       "3  https://nos.nl/artikel/2477696-klimaatverander...  2023-06-04  Klimaat   \n",
       "4  https://nos.nl/nieuwsuur/artikel/2471637-varke...  2023-04-16      NaN   \n",
       "\n",
       "                                         collections  \\\n",
       "0                                       ['Economie']   \n",
       "1                                     ['Binnenland']   \n",
       "2  ['In samenwerking met', 'Rijnmond', 'Regionaal...   \n",
       "3  ['Collectie', 'Klimaat', 'Binnenland', 'Buiten...   \n",
       "4                        ['Nieuwsuur', 'Binnenland']   \n",
       "\n",
       "                                                text  \\\n",
       "0  Tegen de heuvels rond Maastricht werden vijfti...   \n",
       "1  Op hete dagen zijn mobiele airco's in winkels ...   \n",
       "2  Het Hofplein in het centrum van Rotterdam gaat...   \n",
       "3  Dat klimaatverandering kan leiden tot bijvoorb...   \n",
       "4  Vanaf volgend jaar gaat de overheid optreden t...   \n",
       "\n",
       "                                         subheadings  \\\n",
       "0                            ['Einde aan uienteelt']   \n",
       "1                                                NaN   \n",
       "2                      ['Kosten hoger dan verwacht']   \n",
       "3  ['Directe en indirecte gevolgen', \"'Toch wel e...   \n",
       "4                         ['Vechten', 'Hittestress']   \n",
       "\n",
       "                                          image_urls  topic  topic_prob  \n",
       "0  [{'image_url': 'https://cdn.nos.nl/image/2023/...     21    1.000000  \n",
       "1  [{'image_url': 'https://cdn.nos.nl/image/2023/...     14    0.947161  \n",
       "2  [{'image_url': 'https://cdn.nos.nl/image/2023/...     -1    0.000000  \n",
       "3  [{'image_url': 'https://cdn.nos.nl/image/2023/...     19    1.000000  \n",
       "4  [{'image_url': 'https://cdn.nos.nl/image/2023/...      9    0.968941  "
      ]
     },
     "execution_count": 135,
     "metadata": {},
     "output_type": "execute_result"
    }
   ],
   "source": [
    "# update topics and probabilities\n",
    "topics, probs = topic_model.transform(df['text'], embeddings=embeddings)\n",
    "df['topic'] = topics\n",
    "df['topic_prob'] = probs\n",
    "df.to_pickle('../analysis/topic_models/nos_hittegolf.pkl')\n",
    "topic_model.save(\"../analysis/topic_models/topic_model_hittegolf\")\n",
    "df.head()"
   ]
  },
  {
   "cell_type": "code",
   "execution_count": 27,
   "metadata": {},
   "outputs": [
    {
     "data": {
      "text/plain": [
       "19"
      ]
     },
     "execution_count": 27,
     "metadata": {},
     "output_type": "execute_result"
    }
   ],
   "source": [
    "relevant_topics = [0, 1, 2, 3, 4, 5, 6, 7, 8, 9, 11, 12, 13, 14, 15, 16, 18, 19, 21]\n",
    "len(relevant_topics)"
   ]
  },
  {
   "cell_type": "code",
   "execution_count": 114,
   "metadata": {},
   "outputs": [
    {
     "data": {
      "text/plain": [
       "[('hitte', 0.3202790767235373),\n",
       " ('india', 0.2979810076674646),\n",
       " ('stad', 0.2977154209375169),\n",
       " ('moskou', 0.26613744818892904),\n",
       " ('zonnesteek', 0.25905067173573576),\n",
       " ('th', 0.25593556518960925),\n",
       " ('inwoners', 0.24553297849685626),\n",
       " ('ahmedabad', 0.24106352074727902),\n",
       " ('chongqing', 0.24106352074727902),\n",
       " ('vegas', 0.23978456434735554)]"
      ]
     },
     "metadata": {},
     "output_type": "display_data"
    },
    {
     "data": {
      "text/plain": [
       "'Lorenzo Pierson heeft een kleed over het hek naast zijn tentje gehangen. Midden op de dag, met de zon recht boven th Street in Phoenix in de Amerikaanse staat Arizona, geeft het een streepje schaduw. \"Afgelopen week hadden we drie doden op rij\", zegt hij. De hitte is de daklozen die hier in tenten langs de weg wonen te veel geworden. Twee keer in de week moet het hele tentenkampje aan de kant, dan rijdt er een bezemwagen door th Street. \"Soms blijft er dan een tentje staan, en gaat de politie kijken wat er aan de hand is\", zegt Pierson. \"Dan vinden ze het lichaam.\" In  vielen er in Maricopa County, waarin Phoenix ligt,  doden als direct gevolg van de hitte. Dit jaar zit de stad half juli al boven dat aantal. Opnieuw worden er hitterecords gebroken in de heetste stad van Amerika. Het westen van het land gaat door de vierde hittegolf van dit seizoen. Na de heetste juni ooit gemeten, is ook juli nu al historisch. Koelen van april tot oktober Als Stacey Champion komt aanrijden in th Street is er bijna niemand te zien. Maar zodra ze de eerste pakken water begint uit te laden, gaan de tentjes open en stroomt de straat vol. Stacey noemt zichzelf een \\'hitteactivist\\', ze knokt voor meer aandacht voor het dodelijke probleem dat hitte heet. \"Hitte is een sluipmoordenaar, het gebeurt vanbinnen. Je organen vallen uit, je zakt weg, niemand heeft in de gaten dat je doodgaat.\" Onder de daklozen van th Street is dat probleem het meest acuut, maar bijna de helft van de hittedoden valt binnenshuis. \"Een airconditioning redt hier letterlijk je leven\", zegt Stacey. Maar er worden nu ieder jaar hitterecords gebroken. \"Daardoor moet je nu van april tot oktober koelen, en dat kunnen sommige mensen gewoon niet meer betalen. Ze zetten hun airconditioning uit en komen om het leven.\" Dat Phoenix opwarmt, bevestigt ook warmteonderzoeker David Sailor van de Universiteit van Arizona. De stad raakt vooral \\'s nachts de warmte niet meer kwijt, legt hij uit. Al het asfalt, beton en de daken slaan de hitte op en als \\'s ochtend de zon weer opkomt, begint de dag al warmer. Zo worden nieuwe pieken bereikt. \"Het wordt heter in de stad\", zegt Sailor, \"en dat heeft steeds grotere negatieve gevolgen voor de inwoners.\" Reflecterend asfalt Hij zoekt de oplossing in aanpassingen aan het oppervlak in stedelijk gebied. Op de hoek van East Garfield Street en th Street laat hij een proef zien met weerkaatsend asfalt. Het is wat gladder en is aan de bovenkant lichtgrijs. Sailor wijst met een thermometer op de straat: \" graden Celsius. Dat is behoorlijk heet, maar normaal asfalt kan op een hete zomerdag  graden worden.\" \"Een gewone asfaltweg reflecteert maar  procent van de energie van de zon. Dit oppervlak meer dan  procent\", legt Sailor uit. \"Als we dit met genoeg wegen doen, en met parkeerplaatsen en daken van gebouwen, kunnen we het oppervlak van de stad  graden koeler maken. Zo wordt de lucht ook koeler en dat heeft grote invloed op energiegebruik en gebruik van water in de stad.\" Maar de echte oplossing zit in de natuur, zegt Sailor. Wijken waar veel bomen staan en gras in de tuinen ligt, zijn koeler. \"Dat scheelt zo  tot  graden op een hete dag.\" Daarmee is het verhaal van de hitte ook een verhaal van welvaartsverschillen. In de rijke buitenwijken van Phoenix is geld voor irrigatie en beplanting. Daar zie je in grote delen van de stad, ook in de middenklassewijken, weinig van terug. \"Het is een verschil van dag en nacht\", zegt hitteactivist Stacey Champion. Ze wijst op een boomstronk langs de kant van th Street. \"Hier hebben ze de bomen omgehakt, zodat mensen hier niet kunnen verblijven. En zo is het overal in de armere buurten: nergens schaduw, geen plek om te zitten, zelfs in de bushokjes is geen schaduw.\" Het toont volgens Stacey aan dat de hitte nog altijd niet gezien wordt als een noodsituatie, terwijl er veel mensen aan overlijden. \"Als je midden in de winterkou iemand ziet liggen op straat, controleer je meteen of die persoon nog leeft en ga je hulp halen\", zegt ze. \"Zo kijken we niet naar hitte, en het is hoog tijd dat dit verandert.\" Lorenzo Pierson trekt een matrasje zijn tent in. De zon staat nu zo hoog dat er nergens in de straat meer schaduw te zien is. \"Ik doe hem aan beide kanten open, dat is de verkoeling\", zegt hij terwijl hij naar binnen kruipt. th Street wordt langzaam weer stiller. Iedereen verdwijnt in de tentjes, in afwachting van de avond als het weer een paar graden koeler wordt in de stad. Buitenland'"
      ]
     },
     "metadata": {},
     "output_type": "display_data"
    }
   ],
   "source": [
    "# print words in topic 0\n",
    "topic_n = 17\n",
    "display(topic_model.get_topic(topic_n))\n",
    "display(topic_model.get_representative_docs(topic_n)[0])"
   ]
  },
  {
   "cell_type": "markdown",
   "metadata": {},
   "source": [
    "<a id=4></a>\n",
    "## Visualise topics"
   ]
  },
  {
   "cell_type": "code",
   "execution_count": 26,
   "metadata": {},
   "outputs": [
    {
     "data": {
      "application/vnd.plotly.v1+json": {
       "config": {
        "plotlyServerURL": "https://plotly.com"
       },
       "data": [
        {
         "marker": {
          "color": "#D55E00"
         },
         "orientation": "h",
         "type": "bar",
         "x": [
          0.26069367104939123,
          0.2623178982305751,
          0.27530844585473396,
          0.3110647174771886,
          0.3177225611537894
         ],
         "xaxis": "x",
         "y": [
          "30 graden  ",
          "25 graden  ",
          "dagen  ",
          "bilt  ",
          "graden  "
         ],
         "yaxis": "y"
        },
        {
         "marker": {
          "color": "#0072B2"
         },
         "orientation": "h",
         "type": "bar",
         "x": [
          0.280899315902072,
          0.3106620395309826,
          0.3380837006528194,
          0.34166494516019563,
          0.35311212558652877
         ],
         "xaxis": "x2",
         "y": [
          "geëvacueerd  ",
          "brand  ",
          "bosbranden  ",
          "vuur  ",
          "branden  "
         ],
         "yaxis": "y2"
        },
        {
         "marker": {
          "color": "#CC79A7"
         },
         "orientation": "h",
         "type": "bar",
         "x": [
          0.24185852599040383,
          0.24743594849651843,
          0.2635565539137352,
          0.2732848336170371,
          0.2989563175712649
         ],
         "xaxis": "x3",
         "y": [
          "ajax  ",
          "spelen  ",
          "wedstrijd  ",
          "voetbal  ",
          "wk  "
         ],
         "yaxis": "y3"
        },
        {
         "marker": {
          "color": "#E69F00"
         },
         "orientation": "h",
         "type": "bar",
         "x": [
          0.2652596733272949,
          0.28126732616798394,
          0.2882375675739051,
          0.30103327018423526,
          0.3377503475971554
         ],
         "xaxis": "x4",
         "y": [
          "aardgas  ",
          "biomassa  ",
          "waterstof  ",
          "energie  ",
          "gas  "
         ],
         "yaxis": "y4"
        },
        {
         "marker": {
          "color": "#56B4E9"
         },
         "orientation": "h",
         "type": "bar",
         "x": [
          0.23742550839731524,
          0.2526423198781284,
          0.25771839526089874,
          0.2828963300927558,
          0.28928146246968983
         ],
         "xaxis": "x5",
         "y": [
          "oceaan  ",
          "klimaatverandering  ",
          "aarde  ",
          "opwarming  ",
          "ijs  "
         ],
         "yaxis": "y5"
        },
        {
         "marker": {
          "color": "#009E73"
         },
         "orientation": "h",
         "type": "bar",
         "x": [
          0.27203732105208434,
          0.2733271651246731,
          0.2778997175159274,
          0.2815114196207117,
          0.29347712268548776
         ],
         "xaxis": "x6",
         "y": [
          "overzicht  ",
          "kun vandaag  ",
          "vandaag  ",
          "fijne  ",
          "gemist  "
         ],
         "yaxis": "y6"
        },
        {
         "marker": {
          "color": "#F0E442"
         },
         "orientation": "h",
         "type": "bar",
         "x": [
          0.23050232441192606,
          0.23434321084734563,
          0.23831456536948345,
          0.29324186551001447,
          0.31623150981705156
         ],
         "xaxis": "x7",
         "y": [
          "rijkswaterstaat  ",
          "waterschap  ",
          "waterschappen  ",
          "water  ",
          "droogte  "
         ],
         "yaxis": "y7"
        },
        {
         "marker": {
          "color": "#D55E00"
         },
         "orientation": "h",
         "type": "bar",
         "x": [
          0.29082763480760504,
          0.29595681980344657,
          0.3079043527033987,
          0.37645878096124374,
          0.3946771239239238
         ],
         "xaxis": "x8",
         "y": [
          "overlast  ",
          "hooikoorts  ",
          "blauwalg  ",
          "vliet  ",
          "muggen  "
         ],
         "yaxis": "y8"
        }
       ],
       "layout": {
        "annotations": [
         {
          "font": {
           "size": 16
          },
          "showarrow": false,
          "text": "Weather & Temperature",
          "x": 0.0875,
          "xanchor": "center",
          "xref": "paper",
          "y": 1,
          "yanchor": "bottom",
          "yref": "paper"
         },
         {
          "font": {
           "size": 16
          },
          "showarrow": false,
          "text": "Wildfires",
          "x": 0.36250000000000004,
          "xanchor": "center",
          "xref": "paper",
          "y": 1,
          "yanchor": "bottom",
          "yref": "paper"
         },
         {
          "font": {
           "size": 16
          },
          "showarrow": false,
          "text": "Sports & Athletes",
          "x": 0.6375000000000001,
          "xanchor": "center",
          "xref": "paper",
          "y": 1,
          "yanchor": "bottom",
          "yref": "paper"
         },
         {
          "font": {
           "size": 16
          },
          "showarrow": false,
          "text": "Electricity",
          "x": 0.9125,
          "xanchor": "center",
          "xref": "paper",
          "y": 1,
          "yanchor": "bottom",
          "yref": "paper"
         },
         {
          "font": {
           "size": 16
          },
          "showarrow": false,
          "text": "Climate change",
          "x": 0.0875,
          "xanchor": "center",
          "xref": "paper",
          "y": 0.4,
          "yanchor": "bottom",
          "yref": "paper"
         },
         {
          "font": {
           "size": 16
          },
          "showarrow": false,
          "text": "NOS morning report",
          "x": 0.36250000000000004,
          "xanchor": "center",
          "xref": "paper",
          "y": 0.4,
          "yanchor": "bottom",
          "yref": "paper"
         },
         {
          "font": {
           "size": 16
          },
          "showarrow": false,
          "text": "Water & Droughts",
          "x": 0.6375000000000001,
          "xanchor": "center",
          "xref": "paper",
          "y": 0.4,
          "yanchor": "bottom",
          "yref": "paper"
         },
         {
          "font": {
           "size": 16
          },
          "showarrow": false,
          "text": "Ecological Impact",
          "x": 0.9125,
          "xanchor": "center",
          "xref": "paper",
          "y": 0.4,
          "yanchor": "bottom",
          "yref": "paper"
         }
        ],
        "height": 500,
        "hoverlabel": {
         "bgcolor": "white",
         "font": {
          "family": "Rockwell",
          "size": 16
         }
        },
        "showlegend": false,
        "template": {
         "data": {
          "bar": [
           {
            "error_x": {
             "color": "#2a3f5f"
            },
            "error_y": {
             "color": "#2a3f5f"
            },
            "marker": {
             "line": {
              "color": "white",
              "width": 0.5
             },
             "pattern": {
              "fillmode": "overlay",
              "size": 10,
              "solidity": 0.2
             }
            },
            "type": "bar"
           }
          ],
          "barpolar": [
           {
            "marker": {
             "line": {
              "color": "white",
              "width": 0.5
             },
             "pattern": {
              "fillmode": "overlay",
              "size": 10,
              "solidity": 0.2
             }
            },
            "type": "barpolar"
           }
          ],
          "carpet": [
           {
            "aaxis": {
             "endlinecolor": "#2a3f5f",
             "gridcolor": "#C8D4E3",
             "linecolor": "#C8D4E3",
             "minorgridcolor": "#C8D4E3",
             "startlinecolor": "#2a3f5f"
            },
            "baxis": {
             "endlinecolor": "#2a3f5f",
             "gridcolor": "#C8D4E3",
             "linecolor": "#C8D4E3",
             "minorgridcolor": "#C8D4E3",
             "startlinecolor": "#2a3f5f"
            },
            "type": "carpet"
           }
          ],
          "choropleth": [
           {
            "colorbar": {
             "outlinewidth": 0,
             "ticks": ""
            },
            "type": "choropleth"
           }
          ],
          "contour": [
           {
            "colorbar": {
             "outlinewidth": 0,
             "ticks": ""
            },
            "colorscale": [
             [
              0,
              "#0d0887"
             ],
             [
              0.1111111111111111,
              "#46039f"
             ],
             [
              0.2222222222222222,
              "#7201a8"
             ],
             [
              0.3333333333333333,
              "#9c179e"
             ],
             [
              0.4444444444444444,
              "#bd3786"
             ],
             [
              0.5555555555555556,
              "#d8576b"
             ],
             [
              0.6666666666666666,
              "#ed7953"
             ],
             [
              0.7777777777777778,
              "#fb9f3a"
             ],
             [
              0.8888888888888888,
              "#fdca26"
             ],
             [
              1,
              "#f0f921"
             ]
            ],
            "type": "contour"
           }
          ],
          "contourcarpet": [
           {
            "colorbar": {
             "outlinewidth": 0,
             "ticks": ""
            },
            "type": "contourcarpet"
           }
          ],
          "heatmap": [
           {
            "colorbar": {
             "outlinewidth": 0,
             "ticks": ""
            },
            "colorscale": [
             [
              0,
              "#0d0887"
             ],
             [
              0.1111111111111111,
              "#46039f"
             ],
             [
              0.2222222222222222,
              "#7201a8"
             ],
             [
              0.3333333333333333,
              "#9c179e"
             ],
             [
              0.4444444444444444,
              "#bd3786"
             ],
             [
              0.5555555555555556,
              "#d8576b"
             ],
             [
              0.6666666666666666,
              "#ed7953"
             ],
             [
              0.7777777777777778,
              "#fb9f3a"
             ],
             [
              0.8888888888888888,
              "#fdca26"
             ],
             [
              1,
              "#f0f921"
             ]
            ],
            "type": "heatmap"
           }
          ],
          "heatmapgl": [
           {
            "colorbar": {
             "outlinewidth": 0,
             "ticks": ""
            },
            "colorscale": [
             [
              0,
              "#0d0887"
             ],
             [
              0.1111111111111111,
              "#46039f"
             ],
             [
              0.2222222222222222,
              "#7201a8"
             ],
             [
              0.3333333333333333,
              "#9c179e"
             ],
             [
              0.4444444444444444,
              "#bd3786"
             ],
             [
              0.5555555555555556,
              "#d8576b"
             ],
             [
              0.6666666666666666,
              "#ed7953"
             ],
             [
              0.7777777777777778,
              "#fb9f3a"
             ],
             [
              0.8888888888888888,
              "#fdca26"
             ],
             [
              1,
              "#f0f921"
             ]
            ],
            "type": "heatmapgl"
           }
          ],
          "histogram": [
           {
            "marker": {
             "pattern": {
              "fillmode": "overlay",
              "size": 10,
              "solidity": 0.2
             }
            },
            "type": "histogram"
           }
          ],
          "histogram2d": [
           {
            "colorbar": {
             "outlinewidth": 0,
             "ticks": ""
            },
            "colorscale": [
             [
              0,
              "#0d0887"
             ],
             [
              0.1111111111111111,
              "#46039f"
             ],
             [
              0.2222222222222222,
              "#7201a8"
             ],
             [
              0.3333333333333333,
              "#9c179e"
             ],
             [
              0.4444444444444444,
              "#bd3786"
             ],
             [
              0.5555555555555556,
              "#d8576b"
             ],
             [
              0.6666666666666666,
              "#ed7953"
             ],
             [
              0.7777777777777778,
              "#fb9f3a"
             ],
             [
              0.8888888888888888,
              "#fdca26"
             ],
             [
              1,
              "#f0f921"
             ]
            ],
            "type": "histogram2d"
           }
          ],
          "histogram2dcontour": [
           {
            "colorbar": {
             "outlinewidth": 0,
             "ticks": ""
            },
            "colorscale": [
             [
              0,
              "#0d0887"
             ],
             [
              0.1111111111111111,
              "#46039f"
             ],
             [
              0.2222222222222222,
              "#7201a8"
             ],
             [
              0.3333333333333333,
              "#9c179e"
             ],
             [
              0.4444444444444444,
              "#bd3786"
             ],
             [
              0.5555555555555556,
              "#d8576b"
             ],
             [
              0.6666666666666666,
              "#ed7953"
             ],
             [
              0.7777777777777778,
              "#fb9f3a"
             ],
             [
              0.8888888888888888,
              "#fdca26"
             ],
             [
              1,
              "#f0f921"
             ]
            ],
            "type": "histogram2dcontour"
           }
          ],
          "mesh3d": [
           {
            "colorbar": {
             "outlinewidth": 0,
             "ticks": ""
            },
            "type": "mesh3d"
           }
          ],
          "parcoords": [
           {
            "line": {
             "colorbar": {
              "outlinewidth": 0,
              "ticks": ""
             }
            },
            "type": "parcoords"
           }
          ],
          "pie": [
           {
            "automargin": true,
            "type": "pie"
           }
          ],
          "scatter": [
           {
            "fillpattern": {
             "fillmode": "overlay",
             "size": 10,
             "solidity": 0.2
            },
            "type": "scatter"
           }
          ],
          "scatter3d": [
           {
            "line": {
             "colorbar": {
              "outlinewidth": 0,
              "ticks": ""
             }
            },
            "marker": {
             "colorbar": {
              "outlinewidth": 0,
              "ticks": ""
             }
            },
            "type": "scatter3d"
           }
          ],
          "scattercarpet": [
           {
            "marker": {
             "colorbar": {
              "outlinewidth": 0,
              "ticks": ""
             }
            },
            "type": "scattercarpet"
           }
          ],
          "scattergeo": [
           {
            "marker": {
             "colorbar": {
              "outlinewidth": 0,
              "ticks": ""
             }
            },
            "type": "scattergeo"
           }
          ],
          "scattergl": [
           {
            "marker": {
             "colorbar": {
              "outlinewidth": 0,
              "ticks": ""
             }
            },
            "type": "scattergl"
           }
          ],
          "scattermapbox": [
           {
            "marker": {
             "colorbar": {
              "outlinewidth": 0,
              "ticks": ""
             }
            },
            "type": "scattermapbox"
           }
          ],
          "scatterpolar": [
           {
            "marker": {
             "colorbar": {
              "outlinewidth": 0,
              "ticks": ""
             }
            },
            "type": "scatterpolar"
           }
          ],
          "scatterpolargl": [
           {
            "marker": {
             "colorbar": {
              "outlinewidth": 0,
              "ticks": ""
             }
            },
            "type": "scatterpolargl"
           }
          ],
          "scatterternary": [
           {
            "marker": {
             "colorbar": {
              "outlinewidth": 0,
              "ticks": ""
             }
            },
            "type": "scatterternary"
           }
          ],
          "surface": [
           {
            "colorbar": {
             "outlinewidth": 0,
             "ticks": ""
            },
            "colorscale": [
             [
              0,
              "#0d0887"
             ],
             [
              0.1111111111111111,
              "#46039f"
             ],
             [
              0.2222222222222222,
              "#7201a8"
             ],
             [
              0.3333333333333333,
              "#9c179e"
             ],
             [
              0.4444444444444444,
              "#bd3786"
             ],
             [
              0.5555555555555556,
              "#d8576b"
             ],
             [
              0.6666666666666666,
              "#ed7953"
             ],
             [
              0.7777777777777778,
              "#fb9f3a"
             ],
             [
              0.8888888888888888,
              "#fdca26"
             ],
             [
              1,
              "#f0f921"
             ]
            ],
            "type": "surface"
           }
          ],
          "table": [
           {
            "cells": {
             "fill": {
              "color": "#EBF0F8"
             },
             "line": {
              "color": "white"
             }
            },
            "header": {
             "fill": {
              "color": "#C8D4E3"
             },
             "line": {
              "color": "white"
             }
            },
            "type": "table"
           }
          ]
         },
         "layout": {
          "annotationdefaults": {
           "arrowcolor": "#2a3f5f",
           "arrowhead": 0,
           "arrowwidth": 1
          },
          "autotypenumbers": "strict",
          "coloraxis": {
           "colorbar": {
            "outlinewidth": 0,
            "ticks": ""
           }
          },
          "colorscale": {
           "diverging": [
            [
             0,
             "#8e0152"
            ],
            [
             0.1,
             "#c51b7d"
            ],
            [
             0.2,
             "#de77ae"
            ],
            [
             0.3,
             "#f1b6da"
            ],
            [
             0.4,
             "#fde0ef"
            ],
            [
             0.5,
             "#f7f7f7"
            ],
            [
             0.6,
             "#e6f5d0"
            ],
            [
             0.7,
             "#b8e186"
            ],
            [
             0.8,
             "#7fbc41"
            ],
            [
             0.9,
             "#4d9221"
            ],
            [
             1,
             "#276419"
            ]
           ],
           "sequential": [
            [
             0,
             "#0d0887"
            ],
            [
             0.1111111111111111,
             "#46039f"
            ],
            [
             0.2222222222222222,
             "#7201a8"
            ],
            [
             0.3333333333333333,
             "#9c179e"
            ],
            [
             0.4444444444444444,
             "#bd3786"
            ],
            [
             0.5555555555555556,
             "#d8576b"
            ],
            [
             0.6666666666666666,
             "#ed7953"
            ],
            [
             0.7777777777777778,
             "#fb9f3a"
            ],
            [
             0.8888888888888888,
             "#fdca26"
            ],
            [
             1,
             "#f0f921"
            ]
           ],
           "sequentialminus": [
            [
             0,
             "#0d0887"
            ],
            [
             0.1111111111111111,
             "#46039f"
            ],
            [
             0.2222222222222222,
             "#7201a8"
            ],
            [
             0.3333333333333333,
             "#9c179e"
            ],
            [
             0.4444444444444444,
             "#bd3786"
            ],
            [
             0.5555555555555556,
             "#d8576b"
            ],
            [
             0.6666666666666666,
             "#ed7953"
            ],
            [
             0.7777777777777778,
             "#fb9f3a"
            ],
            [
             0.8888888888888888,
             "#fdca26"
            ],
            [
             1,
             "#f0f921"
            ]
           ]
          },
          "colorway": [
           "#636efa",
           "#EF553B",
           "#00cc96",
           "#ab63fa",
           "#FFA15A",
           "#19d3f3",
           "#FF6692",
           "#B6E880",
           "#FF97FF",
           "#FECB52"
          ],
          "font": {
           "color": "#2a3f5f"
          },
          "geo": {
           "bgcolor": "white",
           "lakecolor": "white",
           "landcolor": "white",
           "showlakes": true,
           "showland": true,
           "subunitcolor": "#C8D4E3"
          },
          "hoverlabel": {
           "align": "left"
          },
          "hovermode": "closest",
          "mapbox": {
           "style": "light"
          },
          "paper_bgcolor": "white",
          "plot_bgcolor": "white",
          "polar": {
           "angularaxis": {
            "gridcolor": "#EBF0F8",
            "linecolor": "#EBF0F8",
            "ticks": ""
           },
           "bgcolor": "white",
           "radialaxis": {
            "gridcolor": "#EBF0F8",
            "linecolor": "#EBF0F8",
            "ticks": ""
           }
          },
          "scene": {
           "xaxis": {
            "backgroundcolor": "white",
            "gridcolor": "#DFE8F3",
            "gridwidth": 2,
            "linecolor": "#EBF0F8",
            "showbackground": true,
            "ticks": "",
            "zerolinecolor": "#EBF0F8"
           },
           "yaxis": {
            "backgroundcolor": "white",
            "gridcolor": "#DFE8F3",
            "gridwidth": 2,
            "linecolor": "#EBF0F8",
            "showbackground": true,
            "ticks": "",
            "zerolinecolor": "#EBF0F8"
           },
           "zaxis": {
            "backgroundcolor": "white",
            "gridcolor": "#DFE8F3",
            "gridwidth": 2,
            "linecolor": "#EBF0F8",
            "showbackground": true,
            "ticks": "",
            "zerolinecolor": "#EBF0F8"
           }
          },
          "shapedefaults": {
           "line": {
            "color": "#2a3f5f"
           }
          },
          "ternary": {
           "aaxis": {
            "gridcolor": "#DFE8F3",
            "linecolor": "#A2B1C6",
            "ticks": ""
           },
           "baxis": {
            "gridcolor": "#DFE8F3",
            "linecolor": "#A2B1C6",
            "ticks": ""
           },
           "bgcolor": "white",
           "caxis": {
            "gridcolor": "#DFE8F3",
            "linecolor": "#A2B1C6",
            "ticks": ""
           }
          },
          "title": {
           "x": 0.05
          },
          "xaxis": {
           "automargin": true,
           "gridcolor": "#EBF0F8",
           "linecolor": "#EBF0F8",
           "ticks": "",
           "title": {
            "standoff": 15
           },
           "zerolinecolor": "#EBF0F8",
           "zerolinewidth": 2
          },
          "yaxis": {
           "automargin": true,
           "gridcolor": "#EBF0F8",
           "linecolor": "#EBF0F8",
           "ticks": "",
           "title": {
            "standoff": 15
           },
           "zerolinecolor": "#EBF0F8",
           "zerolinewidth": 2
          }
         }
        },
        "title": {
         "font": {
          "color": "Black",
          "size": 22
         },
         "text": "<b>8 most frequent topics</b>",
         "x": 0.5,
         "xanchor": "center",
         "yanchor": "top"
        },
        "width": 1000,
        "xaxis": {
         "anchor": "y",
         "domain": [
          0,
          0.175
         ],
         "showgrid": true
        },
        "xaxis2": {
         "anchor": "y2",
         "domain": [
          0.275,
          0.45
         ],
         "showgrid": true
        },
        "xaxis3": {
         "anchor": "y3",
         "domain": [
          0.55,
          0.7250000000000001
         ],
         "showgrid": true
        },
        "xaxis4": {
         "anchor": "y4",
         "domain": [
          0.825,
          1
         ],
         "showgrid": true
        },
        "xaxis5": {
         "anchor": "y5",
         "domain": [
          0,
          0.175
         ],
         "showgrid": true
        },
        "xaxis6": {
         "anchor": "y6",
         "domain": [
          0.275,
          0.45
         ],
         "showgrid": true
        },
        "xaxis7": {
         "anchor": "y7",
         "domain": [
          0.55,
          0.7250000000000001
         ],
         "showgrid": true
        },
        "xaxis8": {
         "anchor": "y8",
         "domain": [
          0.825,
          1
         ],
         "showgrid": true
        },
        "yaxis": {
         "anchor": "x",
         "domain": [
          0.6000000000000001,
          1
         ],
         "showgrid": true
        },
        "yaxis2": {
         "anchor": "x2",
         "domain": [
          0.6000000000000001,
          1
         ],
         "showgrid": true
        },
        "yaxis3": {
         "anchor": "x3",
         "domain": [
          0.6000000000000001,
          1
         ],
         "showgrid": true
        },
        "yaxis4": {
         "anchor": "x4",
         "domain": [
          0.6000000000000001,
          1
         ],
         "showgrid": true
        },
        "yaxis5": {
         "anchor": "x5",
         "domain": [
          0,
          0.4
         ],
         "showgrid": true
        },
        "yaxis6": {
         "anchor": "x6",
         "domain": [
          0,
          0.4
         ],
         "showgrid": true
        },
        "yaxis7": {
         "anchor": "x7",
         "domain": [
          0,
          0.4
         ],
         "showgrid": true
        },
        "yaxis8": {
         "anchor": "x8",
         "domain": [
          0,
          0.4
         ],
         "showgrid": true
        }
       }
      }
     },
     "metadata": {},
     "output_type": "display_data"
    }
   ],
   "source": [
    "# bar char of the most frequent topics\n",
    "topic_model.visualize_barchart(top_n_topics=8, custom_labels=True, title='<b>8 most frequent topics</b>')"
   ]
  },
  {
   "cell_type": "code",
   "execution_count": 128,
   "metadata": {},
   "outputs": [
    {
     "name": "stderr",
     "output_type": "stream",
     "text": [
      "0it [00:00, ?it/s]"
     ]
    },
    {
     "name": "stderr",
     "output_type": "stream",
     "text": [
      "14it [00:02,  6.39it/s]\n"
     ]
    },
    {
     "data": {
      "application/vnd.plotly.v1+json": {
       "config": {
        "plotlyServerURL": "https://plotly.com"
       },
       "data": [
        {
         "hoverinfo": "text",
         "hovertext": [
          "<b>Topic 0</b><br>Words: 2011, 1906, natste, herfst, millimeter",
          "<b>Topic 0</b><br>Words: elfstedentocht, koudegolven, quist, sneeuwdek, 1997",
          "<b>Topic 0</b><br>Words: 25 graden, graden, bilt, 25, buien",
          "<b>Topic 0</b><br>Words: graden, zachte, bilt, zuidenwind, zachte lucht",
          "<b>Topic 0</b><br>Words: graden, bilt, record, mm, temperatuur",
          "<b>Topic 0</b><br>Words: bilt, zomerse, weerplaza, graden, 25 graden",
          "<b>Topic 0</b><br>Words: zonkracht, zomerse, zomerse dagen, hoge zonkracht, dagen",
          "<b>Topic 0</b><br>Words: bilt, graden, dagen, hittegolf, weerplaza",
          "<b>Topic 0</b><br>Words: graden, bilt, dagen, 25, 25 graden",
          "<b>Topic 0</b><br>Words: bilt, graden, dagen, hiemstra, hittegolf",
          "<b>Topic 0</b><br>Words: weerbericht, tropische dag, juni, graden, tropische",
          "<b>Topic 0</b><br>Words: graden, bilt, kuipers munneke, munneke, kuipers",
          "<b>Topic 0</b><br>Words: september, juni, graden, poly, maand"
         ],
         "marker": {
          "color": "#E69F00"
         },
         "mode": "lines",
         "name": "Weather & Temperature",
         "type": "scatter",
         "x": [
          2011,
          2012,
          2013,
          2014,
          2015,
          2016,
          2017,
          2018,
          2019,
          2020,
          2021,
          2022,
          2023
         ],
         "y": [
          4,
          2,
          19,
          12,
          14,
          17,
          7,
          18,
          13,
          18,
          8,
          10,
          7
         ]
        },
        {
         "hoverinfo": "text",
         "hovertext": [
          "<b>Topic 1</b><br>Words: rusland, moskou, 000 hectare, branden, russische",
          "<b>Topic 1</b><br>Words: depot, mijnwerkers, vermist, granaten, ramp",
          "<b>Topic 1</b><br>Words: bosbranden, vuur, bossen, brand, canarische",
          "<b>Topic 1</b><br>Words: tasmanië, woeden, bosbranden, sydney, australië",
          "<b>Topic 1</b><br>Words: black, australische, vleermuizen, rand stad, catastrofe",
          "<b>Topic 1</b><br>Words: tornado, alabama, mississippi, australia, south australia",
          "<b>Topic 1</b><br>Words: vuur, madeira, alberta, portugese, stad",
          "<b>Topic 1</b><br>Words: bosbranden, vuur, branden, portugal, californië",
          "<b>Topic 1</b><br>Words: vuur, bosbranden, brand, brandweer, griekse",
          "<b>Topic 1</b><br>Words: corine, man, natuurbranden, huizen, brand",
          "<b>Topic 1</b><br>Words: branden, bosbranden, vlammen, vuur, brand",
          "<b>Topic 1</b><br>Words: branden, vuur, bosbranden, geëvacueerd, brand",
          "<b>Topic 1</b><br>Words: branden, brand, vuur, bosbranden, geëvacueerd",
          "<b>Topic 1</b><br>Words: branden, bosbranden, natuurbranden, hectare, vuur"
         ],
         "marker": {
          "color": "#56B4E9"
         },
         "mode": "lines",
         "name": "Wildfires",
         "type": "scatter",
         "x": [
          2010,
          2011,
          2012,
          2013,
          2014,
          2015,
          2016,
          2017,
          2018,
          2019,
          2020,
          2021,
          2022,
          2023
         ],
         "y": [
          3,
          3,
          6,
          10,
          3,
          4,
          9,
          14,
          13,
          8,
          9,
          23,
          25,
          15
         ]
        },
        {
         "hoverinfo": "text",
         "hovertext": [
          "<b>Topic 2</b><br>Words: problemen warmte, zwaar hoge, amerikaan wel, jarige amerikaanse, vanwege problemen",
          "<b>Topic 2</b><br>Words: west duitsland, ek, verlenging, wales, butter",
          "<b>Topic 2</b><br>Words: ritsma, allround, boedapest, tien kilometer, elf jaar",
          "<b>Topic 2</b><br>Words: loting, pot, wk, fifa, blatter",
          "<b>Topic 2</b><br>Words: hofs, vitesse, voetbal, wk, wk voetbal",
          "<b>Topic 2</b><br>Words: wk, qatar, fifa, blatter, wk 2022",
          "<b>Topic 2</b><br>Words: wielrennen, az, wk, bidons, race",
          "<b>Topic 2</b><br>Words: wk, homeruns, series, saudi, spelers",
          "<b>Topic 2</b><br>Words: pablo, olde, boekhoorn, spelers, ajax",
          "<b>Topic 2</b><br>Words: league, marathon, voetbal, az, club",
          "<b>Topic 2</b><br>Words: vermeulen, saint germain, germain, paris, 000 meter",
          "<b>Topic 2</b><br>Words: hassan, tokio, olympisch, meter, 000 meter",
          "<b>Topic 2</b><br>Words: jansen, wk, marathon, krol, voetbal",
          "<b>Topic 2</b><br>Words: race, verstappen, singapore, saudi, games"
         ],
         "marker": {
          "color": "#009E73"
         },
         "mode": "lines",
         "name": "Sports & Athletes",
         "type": "scatter",
         "x": [
          2010,
          2011,
          2012,
          2013,
          2014,
          2015,
          2016,
          2017,
          2018,
          2019,
          2020,
          2021,
          2022,
          2023
         ],
         "y": [
          1,
          3,
          1,
          3,
          10,
          5,
          7,
          7,
          12,
          18,
          5,
          10,
          17,
          13
         ]
        },
        {
         "hoverinfo": "text",
         "hovertext": [
          "<b>Topic 3</b><br>Words: energie, duurzame energie, duurzame, gebouw, regeerakkoord",
          "<b>Topic 3</b><br>Words: centrale, noor, olie, organismen, houdbaar",
          "<b>Topic 3</b><br>Words: startups, marktleider, verkoop, energie, partijen",
          "<b>Topic 3</b><br>Words: energieakkoord, windmolens, denemarken, nijpels, bouw",
          "<b>Topic 3</b><br>Words: kamp, container, restwarmte, energieneutraal, energieakkoord",
          "<b>Topic 3</b><br>Words: aardgas, restwarmte, huizen, verwarmd, 2050",
          "<b>Topic 3</b><br>Words: kabinet, nieuwe kabinet, nieuwe, co2, energie",
          "<b>Topic 3</b><br>Words: gas, warmtepomp, cv, aardgas, cv ketel",
          "<b>Topic 3</b><br>Words: warmtenet, gas, afval, biomassa, miljard",
          "<b>Topic 3</b><br>Words: biomassa, warmtenet, industrie, nieuwbouwwoningen, woningen",
          "<b>Topic 3</b><br>Words: waterstof, shell, co2, energie, vattenfall",
          "<b>Topic 3</b><br>Words: waterstof, energie, elektriciteit, gas, jetten",
          "<b>Topic 3</b><br>Words: huishoudens, afval, energiearmoede, vulkaan, warmtepomp"
         ],
         "marker": {
          "color": "#F0E442"
         },
         "mode": "lines",
         "name": "Electricity",
         "type": "scatter",
         "x": [
          2010,
          2012,
          2013,
          2014,
          2015,
          2016,
          2017,
          2018,
          2019,
          2020,
          2021,
          2022,
          2023
         ],
         "y": [
          5,
          3,
          4,
          3,
          6,
          5,
          4,
          19,
          14,
          10,
          11,
          12,
          9
         ]
        },
        {
         "hoverinfo": "text",
         "hovertext": [
          "<b>Topic 4</b><br>Words: vellinga, niño, el niño, el, pier vellinga",
          "<b>Topic 4</b><br>Words: poolgebied, bay, plaatsje, willen binnen, ontstaansgeschiedenis",
          "<b>Topic 4</b><br>Words: hansen, verband, 60 jaar, jaar allemaal, rechtstreeks verband",
          "<b>Topic 4</b><br>Words: noordpool, expeditie, opwarming, aarde, ijs",
          "<b>Topic 4</b><br>Words: smelten, waterdamp, ijs, ijskappen, opwarming",
          "<b>Topic 4</b><br>Words: permafrost, ema, vonk, dooit, taalas",
          "<b>Topic 4</b><br>Words: opwarming, gletsjers, antarctica, smelten, gletsjer",
          "<b>Topic 4</b><br>Words: gevoelstemperatuur, ilo, hittegolven, oldenborgh, luchttemperatuur",
          "<b>Topic 4</b><br>Words: siberië, ijs, opwarming, zee ijs, permafrost",
          "<b>Topic 4</b><br>Words: klimaatverandering, zeespiegelstijging, ipcc, klimaat, rapport",
          "<b>Topic 4</b><br>Words: ijs, klimaatverandering, opwarming, aarde, ipcc",
          "<b>Topic 4</b><br>Words: oceaan, ijs, zee ijs, niño, el niño"
         ],
         "marker": {
          "color": "#D55E00"
         },
         "mode": "lines",
         "name": "Climate change",
         "type": "scatter",
         "x": [
          2010,
          2011,
          2012,
          2015,
          2016,
          2017,
          2018,
          2019,
          2020,
          2021,
          2022,
          2023
         ],
         "y": [
          3,
          2,
          1,
          5,
          11,
          4,
          7,
          8,
          11,
          12,
          13,
          27
         ]
        },
        {
         "hoverinfo": "text",
         "hovertext": [
          "<b>Topic 5</b><br>Words: gemist, tweede kerstdag, rellen, kerstdag, ziggo",
          "<b>Topic 5</b><br>Words: ali, muhammad ali, muhammad, festival, thailand",
          "<b>Topic 5</b><br>Words: trump, president, dumoulin, fijne, jarige",
          "<b>Topic 5</b><br>Words: gemist, situatie spoor, kun vandaag, overzicht, fijne",
          "<b>Topic 5</b><br>Words: vandaag, situatie spoor, kun vandaag, fijne, gemist",
          "<b>Topic 5</b><br>Words: kun vandaag, fijne, gemist, vandaag, beiroet",
          "<b>Topic 5</b><br>Words: check, ga weg, dienstregeling, kun vandaag, fijne",
          "<b>Topic 5</b><br>Words: overzicht, ga weg, dienstregeling, fijne, gemist",
          "<b>Topic 5</b><br>Words: ballon, eerst weer, rutte, ga weg, kun vandaag"
         ],
         "marker": {
          "color": "#0072B2"
         },
         "mode": "lines",
         "name": "Wakeup call",
         "type": "scatter",
         "x": [
          2015,
          2016,
          2017,
          2018,
          2019,
          2020,
          2021,
          2022,
          2023
         ],
         "y": [
          5,
          6,
          7,
          13,
          8,
          8,
          6,
          12,
          9
         ]
        },
        {
         "hoverinfo": "text",
         "hovertext": [
          "<b>Topic 6</b><br>Words: vissen, dode, vissterfte, happen, juist regio",
          "<b>Topic 6</b><br>Words: geul, tankwagens, texel, waterschap, waterkwaliteit",
          "<b>Topic 6</b><br>Words: ritje, haag rotterdam, uur wachten, voetbad, bindmiddel",
          "<b>Topic 6</b><br>Words: dijken, vitens, brug, friesland, waterbedrijf",
          "<b>Topic 6</b><br>Words: droogte, water, waterschappen, rijkswaterstaat, boeren",
          "<b>Topic 6</b><br>Words: brug, bruggen, merwedebrug, uitzet, werkzaamheden",
          "<b>Topic 6</b><br>Words: kruit, vast houden, water, 2018, droge",
          "<b>Topic 6</b><br>Words: droogte, water, rijn, rivieren, waterschap",
          "<b>Topic 6</b><br>Words: zoet water, zoet, sande, rijnland, dijkgraaf"
         ],
         "marker": {
          "color": "#CC79A7"
         },
         "mode": "lines",
         "name": "Water & Droughts",
         "type": "scatter",
         "x": [
          2010,
          2013,
          2015,
          2017,
          2018,
          2020,
          2021,
          2022,
          2023
         ],
         "y": [
          1,
          2,
          3,
          6,
          17,
          2,
          2,
          12,
          1
         ]
        },
        {
         "hoverinfo": "text",
         "hovertext": [
          "<b>Topic 7</b><br>Words: bijen, bloei, stuifmeel, pollen, grassen",
          "<b>Topic 7</b><br>Words: kenniscentrum, eikenprocessierupsen, rupsen, ei, toe geleid",
          "<b>Topic 7</b><br>Words: aangetroffen, aziatische tijgermug, autobanden, aziatische, muggen",
          "<b>Topic 7</b><br>Words: muggen, rups, nvwa, aankomende, nvwa gaat",
          "<b>Topic 7</b><br>Words: biologische, bijen, last, pollen, bloeien",
          "<b>Topic 7</b><br>Words: muggen, mes, anti, graspollen, stekkers",
          "<b>Topic 7</b><br>Words: tijgermug, vliet, mug, vestigt, permanent",
          "<b>Topic 7</b><br>Words: muggen, planten, vliet, insecten, zegt vliet",
          "<b>Topic 7</b><br>Words: klachten, rups, slangen, vliet, eikenprocessierupsen",
          "<b>Topic 7</b><br>Words: vliegen, container, overlast, ongedierte, wespen",
          "<b>Topic 7</b><br>Words: iglo, hooikoorts, hooikoortspatiënten, ameland, klachten",
          "<b>Topic 7</b><br>Words: blauwalg, vlinders, vliet, muggen, zegt bioloog",
          "<b>Topic 7</b><br>Words: tijgermug, muggen, blauwalg, mug, bijen"
         ],
         "marker": {
          "color": "#E69F00"
         },
         "mode": "lines",
         "name": "Ecological Impact",
         "type": "scatter",
         "x": [
          2011,
          2012,
          2013,
          2014,
          2015,
          2016,
          2017,
          2018,
          2019,
          2020,
          2021,
          2022,
          2023
         ],
         "y": [
          2,
          1,
          1,
          2,
          4,
          2,
          1,
          10,
          7,
          4,
          4,
          3,
          4
         ]
        },
        {
         "hoverinfo": "text",
         "hovertext": [
          "<b>Topic 8</b><br>Words: schermen, cafés, laten behandelen, wedstrijd, vierdaagse",
          "<b>Topic 8</b><br>Words: flesjes, bezoekers, bezoekers gewaarschuwd, water toegestaan, toiletten gratis",
          "<b>Topic 8</b><br>Words: deelnemers, 000 deelnemers, anwb, vierdaagse, nijmegen",
          "<b>Topic 8</b><br>Words: pinkpop, organisatie, smeets, rolling, reddingsbrigade",
          "<b>Topic 8</b><br>Words: waterpunten, bezoekers, langs parcours, parcours, utrecht",
          "<b>Topic 8</b><br>Words: vierdaagse, lopers, deelnemers, wandelaars, kilometer",
          "<b>Topic 8</b><br>Words: muiderberg, amsterdam tussen, a1 richting, houd rekening, richting amsterdam",
          "<b>Topic 8</b><br>Words: sheeran, duitse stad, hamburg, concert, mensen afgekomen",
          "<b>Topic 8</b><br>Words: deelnemers, organisatie, vierdaagse, lisa, afgelast",
          "<b>Topic 8</b><br>Words: vries, theater, afscheid, carré, theater carré",
          "<b>Topic 8</b><br>Words: vierdaagse, wandelaars, wijchen, editie, pinkpop",
          "<b>Topic 8</b><br>Words: verheggen, deelnemers, ironman, vluchteling, desert"
         ],
         "marker": {
          "color": "#56B4E9"
         },
         "mode": "lines",
         "name": "Events",
         "type": "scatter",
         "x": [
          2010,
          2012,
          2013,
          2014,
          2015,
          2016,
          2017,
          2018,
          2019,
          2021,
          2022,
          2023
         ],
         "y": [
          4,
          1,
          3,
          5,
          7,
          7,
          1,
          1,
          4,
          1,
          5,
          3
         ]
        },
        {
         "hoverinfo": "text",
         "hovertext": [
          "<b>Topic 9</b><br>Words: federatie, onveilige, ongelukken, 90 procent, ontstaan binnenland",
          "<b>Topic 9</b><br>Words: koeien, melk, melkveehouders, stress, lto",
          "<b>Topic 9</b><br>Words: zalm, boetes, vogelpoep, etiketten, overtredingen",
          "<b>Topic 9</b><br>Words: schans, stal, stallen, dieren, blijft klimaat",
          "<b>Topic 9</b><br>Words: dieren, varkens, troost, timmermans, ingeladen",
          "<b>Topic 9</b><br>Words: fabrieken, chemelot, storing, geleen, industrieterrein",
          "<b>Topic 9</b><br>Words: nefit, nvwa, lto, cv ketels, rtl nieuws",
          "<b>Topic 9</b><br>Words: dieren, nvwa, tata, varkens, ventilatie",
          "<b>Topic 9</b><br>Words: boa, schapen, leraren, dieren, grapperhaus",
          "<b>Topic 9</b><br>Words: dieren, hittestress, vee, vervoerd, eyes on",
          "<b>Topic 9</b><br>Words: kermis, pony, tilburgse, dieren, pluimveehouders",
          "<b>Topic 9</b><br>Words: varkens, wakker dier, nvwa, mengen, wakker"
         ],
         "marker": {
          "color": "#009E73"
         },
         "mode": "lines",
         "name": "Animal Welfare",
         "type": "scatter",
         "x": [
          2012,
          2013,
          2014,
          2015,
          2016,
          2017,
          2018,
          2019,
          2020,
          2021,
          2022,
          2023
         ],
         "y": [
          1,
          1,
          1,
          1,
          3,
          1,
          4,
          6,
          5,
          2,
          3,
          1
         ]
        },
        {
         "hoverinfo": "text",
         "hovertext": [
          "<b>Topic 11</b><br>Words: hitteschouw, rivm, adviezen, hitteplan, werking",
          "<b>Topic 11</b><br>Words: hitteplan, nationaal hitteplan, rivm, kwetsbare groepen, groepen",
          "<b>Topic 11</b><br>Words: rivm, waterfonteinen, wapenen hitte, start tour, nationaal hitteplan",
          "<b>Topic 11</b><br>Words: rivm, hitteplan, kind auto, uitdroging, nationaal hitteplan",
          "<b>Topic 11</b><br>Words: rivm, hitteplan, zorgbehoevenden, inspanning, lichamelijke inspanning",
          "<b>Topic 11</b><br>Words: rivm, ouderen, kwetsbare, hitteplan, rode kruis",
          "<b>Topic 11</b><br>Words: hitteplan, chronisch zieken, chronisch, zieken, hitteplan werking",
          "<b>Topic 11</b><br>Words: bruggen, rivm, smogwaarschuwing, hitteplan, beweegbare",
          "<b>Topic 11</b><br>Words: waarschuwt rivm, smog, luchtvervuiling, irritatie, keel",
          "<b>Topic 11</b><br>Words: rivm, smogwaarschuwing, hitteplan, nationaal hitteplan, koel"
         ],
         "marker": {
          "color": "#F0E442"
         },
         "mode": "lines",
         "name": "Public Health & Vulnerable Populations",
         "type": "scatter",
         "x": [
          2010,
          2013,
          2015,
          2016,
          2017,
          2018,
          2019,
          2020,
          2021,
          2022
         ],
         "y": [
          1,
          4,
          2,
          3,
          2,
          3,
          3,
          2,
          1,
          4
         ]
        },
        {
         "hoverinfo": "text",
         "hovertext": [
          "<b>Topic 12</b><br>Words: bush, winkel, kathedraal, openen, vreemd",
          "<b>Topic 12</b><br>Words: ramadan, nieuwjaar, den berg, kopen, openingstijden",
          "<b>Topic 12</b><br>Words: vrijheid, horecagelegenheden, winkels, mooi weer, heijn",
          "<b>Topic 12</b><br>Words: treinen, wissels, rijden, noorwegen, procent treinen",
          "<b>Topic 12</b><br>Words: pizzabakker, zwembad, willemsen, komkommer, roberts",
          "<b>Topic 12</b><br>Words: kinderen, bosch, werken hitte, werk, hitte zegt",
          "<b>Topic 12</b><br>Words: kantoor, thuis, medewerkers, werkgevers, werknemers",
          "<b>Topic 12</b><br>Words: airco, hoekstra, slapen, lekker slapen, aanvraag",
          "<b>Topic 12</b><br>Words: slapen, koffers, bed, drukte, spanje",
          "<b>Topic 12</b><br>Words: camping, nobel, boekingen, vakantie, sunweb"
         ],
         "marker": {
          "color": "#D55E00"
         },
         "mode": "lines",
         "name": "Heatwave Adaptation Strategies in Spaces",
         "type": "scatter",
         "x": [
          2013,
          2015,
          2016,
          2017,
          2018,
          2019,
          2020,
          2021,
          2022,
          2023
         ],
         "y": [
          1,
          4,
          4,
          2,
          4,
          1,
          2,
          1,
          3,
          3
         ]
        },
        {
         "hoverinfo": "text",
         "hovertext": [
          "<b>Topic 13</b><br>Words: zelfs 38, temperatuur bereikte, water zitten, drinken binnenland, buiten moskou",
          "<b>Topic 13</b><br>Words: sjanghai, halve marathon, marathon, las vegas, vegas",
          "<b>Topic 13</b><br>Words: duitsland, hitterecord, beieren, 40 graden, frankrijk",
          "<b>Topic 13</b><br>Words: sydney, beleeft, meisje, graden celsius, celsius",
          "<b>Topic 13</b><br>Words: american, airlines, toestellen, kurkdroog, phoenix",
          "<b>Topic 13</b><br>Words: australische, grote australische, south, adelaide, 50 graden",
          "<b>Topic 13</b><br>Words: british columbia, british, columbia, grote oceaan, oregon",
          "<b>Topic 13</b><br>Words: weerorganisatie, 40 graden, wmo, 41 graden, boven 40"
         ],
         "marker": {
          "color": "#0072B2"
         },
         "mode": "lines",
         "name": "Extreme heat conditions",
         "type": "scatter",
         "x": [
          2010,
          2013,
          2015,
          2016,
          2017,
          2019,
          2021,
          2023
         ],
         "y": [
          2,
          3,
          4,
          2,
          4,
          3,
          2,
          1
         ]
        },
        {
         "hoverinfo": "text",
         "hovertext": [
          "<b>Topic 14</b><br>Words: cola, daalde, miljard dollar, dollar, winst",
          "<b>Topic 14</b><br>Words: bloemen planten, bloemen, exportwaarde, lichtpuntje, omzetstijging procent",
          "<b>Topic 14</b><br>Words: airco ventilatoren, waterbedrijven, miljard liter, ventilatoren, airco",
          "<b>Topic 14</b><br>Words: nieuwenhuizen, budget, anbo, geld, energie",
          "<b>Topic 14</b><br>Words: zonnepanelen, opbrengst, besparen, euro per, milieu centraal",
          "<b>Topic 14</b><br>Words: engels, klimaatverbond, klimaatverbond nederland, zonnepanelen, opbrengst",
          "<b>Topic 14</b><br>Words: glas, enkel, hoekstra, verhuurder, dubbel",
          "<b>Topic 14</b><br>Words: gasprijs, gas, euro, terras, prijs",
          "<b>Topic 14</b><br>Words: airco, gasverbruik, minder gas, huishoudens, ledverlichting"
         ],
         "marker": {
          "color": "#CC79A7"
         },
         "mode": "lines",
         "name": "Household Energy Efficiency and Costs",
         "type": "scatter",
         "x": [
          2012,
          2014,
          2015,
          2017,
          2018,
          2019,
          2021,
          2022,
          2023
         ],
         "y": [
          1,
          1,
          1,
          3,
          2,
          2,
          2,
          4,
          5
         ]
        },
        {
         "hoverinfo": "text",
         "hovertext": [
          "<b>Topic 15</b><br>Words: zandvoort, grootste drukte, recreatieplassen, strandfiles, duitsland oostenrijk",
          "<b>Topic 15</b><br>Words: anwb, oostenrijk, snelwegen, file, schade wegdek",
          "<b>Topic 15</b><br>Words: doordat lucht, omroep, tilburg, kust, genomen vanwege",
          "<b>Topic 15</b><br>Words: stranden, extra treinen, zandvoort, tropische dag, vliegbasis gilze",
          "<b>Topic 15</b><br>Words: strand, zandvoort, stranden, bloemendaal, strand komen",
          "<b>Topic 15</b><br>Words: sneeuwen, noordelijke provincies, sneeuwjacht, ijzel, oranje af",
          "<b>Topic 15</b><br>Words: fans, ziggo dome, dome, eilish, zaterdagmiddag",
          "<b>Topic 15</b><br>Words: panda, hardloopevenement, woensdrecht, dag eerste, dierenpark"
         ],
         "marker": {
          "color": "#E69F00"
         },
         "mode": "lines",
         "name": "Congestion at tourist spots and beaches",
         "type": "scatter",
         "x": [
          2013,
          2015,
          2017,
          2019,
          2020,
          2021,
          2022,
          2023
         ],
         "y": [
          1,
          3,
          2,
          3,
          4,
          1,
          1,
          1
         ]
        },
        {
         "hoverinfo": "text",
         "hovertext": [
          "<b>Topic 16</b><br>Words: beschrijft, weer wind, schrijver, slingeren, tekeer",
          "<b>Topic 16</b><br>Words: we ooit, zon liggen, antwoorden, nos facebookpagina, echt gevaarlijk",
          "<b>Topic 16</b><br>Words: eerste aflevering, fnv, nieuwe seizoen, aflevering, bespreken",
          "<b>Topic 16</b><br>Words: nieuwsuurbinnenland, boek, nieuwsuur, schrijvers, lachen",
          "<b>Topic 16</b><br>Words: nieuwsuurbinnenland, gast, geweld, hitte india, afdeling",
          "<b>Topic 16</b><br>Words: drie continenten, bestaat alleen, hitte drie, continenten, nieuwsuurbinnenland"
         ],
         "marker": {
          "color": "#56B4E9"
         },
         "mode": "lines",
         "name": "Media coverage on climate crisis",
         "type": "scatter",
         "x": [
          2015,
          2018,
          2020,
          2021,
          2022,
          2023
         ],
         "y": [
          1,
          1,
          2,
          5,
          4,
          2
         ]
        },
        {
         "hoverinfo": "text",
         "hovertext": [
          "<b>Topic 18</b><br>Words: sinds juni, waardoor oogsten, naast hitte, nieuwe hitterecord, vandaag hoogste",
          "<b>Topic 18</b><br>Words: karachi, dodental, andhra, andhra pradesh, india",
          "<b>Topic 18</b><br>Words: aardverschuivingen, japan, japanse, mensen leven, karachi",
          "<b>Topic 18</b><br>Words: mexico, gezondheidsautoriteiten, juni kregen, plekken scholen, land noorden"
         ],
         "marker": {
          "color": "#009E73"
         },
         "mode": "lines",
         "name": "Natural disasters",
         "type": "scatter",
         "x": [
          2010,
          2015,
          2018,
          2023
         ],
         "y": [
          1,
          7,
          3,
          1
         ]
        },
        {
         "hoverinfo": "text",
         "hovertext": [
          "<b>Topic 19</b><br>Words: deltacommissaris, kuijken, alle gemeenten, stresstest, stortbuien",
          "<b>Topic 19</b><br>Words: groen, stresstest, gemeenten, wateroverlast, grondwaterpeil",
          "<b>Topic 19</b><br>Words: drones, drone, lucht halen, pootjes, defensie",
          "<b>Topic 19</b><br>Words: verbond, verzekeraars, gerichter, beter voorbereiden, schade",
          "<b>Topic 19</b><br>Words: vrouwen, kluck, woningen, feenstra, helmer",
          "<b>Topic 19</b><br>Words: natuurbranden, kluck, knaw, natuur, mckinsey"
         ],
         "marker": {
          "color": "#F0E442"
         },
         "mode": "lines",
         "name": "Climate adaption (gemeenten)",
         "type": "scatter",
         "x": [
          2017,
          2018,
          2019,
          2021,
          2022,
          2023
         ],
         "y": [
          2,
          1,
          2,
          1,
          2,
          4
         ]
        },
        {
         "hoverinfo": "text",
         "hovertext": [
          "<b>Topic 21</b><br>Words: wijn, druiven, beker, wijngaard, nederlandse wijn",
          "<b>Topic 21</b><br>Words: kokkels, vissers, quist, vissen, kokkelvisser",
          "<b>Topic 21</b><br>Words: vruchten, mulder, sicilië, landbouwers, tropische vruchten",
          "<b>Topic 21</b><br>Words: wijn, vissen, wijnboeren, druiven, druif",
          "<b>Topic 21</b><br>Words: oder, rijst, poolse, kenia, mathieu"
         ],
         "marker": {
          "color": "#D55E00"
         },
         "mode": "lines",
         "name": "Impact on Agriculture",
         "type": "scatter",
         "x": [
          2017,
          2020,
          2021,
          2022,
          2023
         ],
         "y": [
          2,
          1,
          1,
          3,
          4
         ]
        }
       ],
       "layout": {
        "height": 450,
        "hoverlabel": {
         "bgcolor": "white",
         "font": {
          "family": "Rockwell",
          "size": 16
         }
        },
        "legend": {
         "title": {
          "text": "<b>Global Topic Representation"
         }
        },
        "template": {
         "data": {
          "bar": [
           {
            "error_x": {
             "color": "rgb(36,36,36)"
            },
            "error_y": {
             "color": "rgb(36,36,36)"
            },
            "marker": {
             "line": {
              "color": "white",
              "width": 0.5
             },
             "pattern": {
              "fillmode": "overlay",
              "size": 10,
              "solidity": 0.2
             }
            },
            "type": "bar"
           }
          ],
          "barpolar": [
           {
            "marker": {
             "line": {
              "color": "white",
              "width": 0.5
             },
             "pattern": {
              "fillmode": "overlay",
              "size": 10,
              "solidity": 0.2
             }
            },
            "type": "barpolar"
           }
          ],
          "carpet": [
           {
            "aaxis": {
             "endlinecolor": "rgb(36,36,36)",
             "gridcolor": "white",
             "linecolor": "white",
             "minorgridcolor": "white",
             "startlinecolor": "rgb(36,36,36)"
            },
            "baxis": {
             "endlinecolor": "rgb(36,36,36)",
             "gridcolor": "white",
             "linecolor": "white",
             "minorgridcolor": "white",
             "startlinecolor": "rgb(36,36,36)"
            },
            "type": "carpet"
           }
          ],
          "choropleth": [
           {
            "colorbar": {
             "outlinewidth": 1,
             "tickcolor": "rgb(36,36,36)",
             "ticks": "outside"
            },
            "type": "choropleth"
           }
          ],
          "contour": [
           {
            "colorbar": {
             "outlinewidth": 1,
             "tickcolor": "rgb(36,36,36)",
             "ticks": "outside"
            },
            "colorscale": [
             [
              0,
              "#440154"
             ],
             [
              0.1111111111111111,
              "#482878"
             ],
             [
              0.2222222222222222,
              "#3e4989"
             ],
             [
              0.3333333333333333,
              "#31688e"
             ],
             [
              0.4444444444444444,
              "#26828e"
             ],
             [
              0.5555555555555556,
              "#1f9e89"
             ],
             [
              0.6666666666666666,
              "#35b779"
             ],
             [
              0.7777777777777778,
              "#6ece58"
             ],
             [
              0.8888888888888888,
              "#b5de2b"
             ],
             [
              1,
              "#fde725"
             ]
            ],
            "type": "contour"
           }
          ],
          "contourcarpet": [
           {
            "colorbar": {
             "outlinewidth": 1,
             "tickcolor": "rgb(36,36,36)",
             "ticks": "outside"
            },
            "type": "contourcarpet"
           }
          ],
          "heatmap": [
           {
            "colorbar": {
             "outlinewidth": 1,
             "tickcolor": "rgb(36,36,36)",
             "ticks": "outside"
            },
            "colorscale": [
             [
              0,
              "#440154"
             ],
             [
              0.1111111111111111,
              "#482878"
             ],
             [
              0.2222222222222222,
              "#3e4989"
             ],
             [
              0.3333333333333333,
              "#31688e"
             ],
             [
              0.4444444444444444,
              "#26828e"
             ],
             [
              0.5555555555555556,
              "#1f9e89"
             ],
             [
              0.6666666666666666,
              "#35b779"
             ],
             [
              0.7777777777777778,
              "#6ece58"
             ],
             [
              0.8888888888888888,
              "#b5de2b"
             ],
             [
              1,
              "#fde725"
             ]
            ],
            "type": "heatmap"
           }
          ],
          "heatmapgl": [
           {
            "colorbar": {
             "outlinewidth": 1,
             "tickcolor": "rgb(36,36,36)",
             "ticks": "outside"
            },
            "colorscale": [
             [
              0,
              "#440154"
             ],
             [
              0.1111111111111111,
              "#482878"
             ],
             [
              0.2222222222222222,
              "#3e4989"
             ],
             [
              0.3333333333333333,
              "#31688e"
             ],
             [
              0.4444444444444444,
              "#26828e"
             ],
             [
              0.5555555555555556,
              "#1f9e89"
             ],
             [
              0.6666666666666666,
              "#35b779"
             ],
             [
              0.7777777777777778,
              "#6ece58"
             ],
             [
              0.8888888888888888,
              "#b5de2b"
             ],
             [
              1,
              "#fde725"
             ]
            ],
            "type": "heatmapgl"
           }
          ],
          "histogram": [
           {
            "marker": {
             "line": {
              "color": "white",
              "width": 0.6
             }
            },
            "type": "histogram"
           }
          ],
          "histogram2d": [
           {
            "colorbar": {
             "outlinewidth": 1,
             "tickcolor": "rgb(36,36,36)",
             "ticks": "outside"
            },
            "colorscale": [
             [
              0,
              "#440154"
             ],
             [
              0.1111111111111111,
              "#482878"
             ],
             [
              0.2222222222222222,
              "#3e4989"
             ],
             [
              0.3333333333333333,
              "#31688e"
             ],
             [
              0.4444444444444444,
              "#26828e"
             ],
             [
              0.5555555555555556,
              "#1f9e89"
             ],
             [
              0.6666666666666666,
              "#35b779"
             ],
             [
              0.7777777777777778,
              "#6ece58"
             ],
             [
              0.8888888888888888,
              "#b5de2b"
             ],
             [
              1,
              "#fde725"
             ]
            ],
            "type": "histogram2d"
           }
          ],
          "histogram2dcontour": [
           {
            "colorbar": {
             "outlinewidth": 1,
             "tickcolor": "rgb(36,36,36)",
             "ticks": "outside"
            },
            "colorscale": [
             [
              0,
              "#440154"
             ],
             [
              0.1111111111111111,
              "#482878"
             ],
             [
              0.2222222222222222,
              "#3e4989"
             ],
             [
              0.3333333333333333,
              "#31688e"
             ],
             [
              0.4444444444444444,
              "#26828e"
             ],
             [
              0.5555555555555556,
              "#1f9e89"
             ],
             [
              0.6666666666666666,
              "#35b779"
             ],
             [
              0.7777777777777778,
              "#6ece58"
             ],
             [
              0.8888888888888888,
              "#b5de2b"
             ],
             [
              1,
              "#fde725"
             ]
            ],
            "type": "histogram2dcontour"
           }
          ],
          "mesh3d": [
           {
            "colorbar": {
             "outlinewidth": 1,
             "tickcolor": "rgb(36,36,36)",
             "ticks": "outside"
            },
            "type": "mesh3d"
           }
          ],
          "parcoords": [
           {
            "line": {
             "colorbar": {
              "outlinewidth": 1,
              "tickcolor": "rgb(36,36,36)",
              "ticks": "outside"
             }
            },
            "type": "parcoords"
           }
          ],
          "pie": [
           {
            "automargin": true,
            "type": "pie"
           }
          ],
          "scatter": [
           {
            "fillpattern": {
             "fillmode": "overlay",
             "size": 10,
             "solidity": 0.2
            },
            "type": "scatter"
           }
          ],
          "scatter3d": [
           {
            "line": {
             "colorbar": {
              "outlinewidth": 1,
              "tickcolor": "rgb(36,36,36)",
              "ticks": "outside"
             }
            },
            "marker": {
             "colorbar": {
              "outlinewidth": 1,
              "tickcolor": "rgb(36,36,36)",
              "ticks": "outside"
             }
            },
            "type": "scatter3d"
           }
          ],
          "scattercarpet": [
           {
            "marker": {
             "colorbar": {
              "outlinewidth": 1,
              "tickcolor": "rgb(36,36,36)",
              "ticks": "outside"
             }
            },
            "type": "scattercarpet"
           }
          ],
          "scattergeo": [
           {
            "marker": {
             "colorbar": {
              "outlinewidth": 1,
              "tickcolor": "rgb(36,36,36)",
              "ticks": "outside"
             }
            },
            "type": "scattergeo"
           }
          ],
          "scattergl": [
           {
            "marker": {
             "colorbar": {
              "outlinewidth": 1,
              "tickcolor": "rgb(36,36,36)",
              "ticks": "outside"
             }
            },
            "type": "scattergl"
           }
          ],
          "scattermapbox": [
           {
            "marker": {
             "colorbar": {
              "outlinewidth": 1,
              "tickcolor": "rgb(36,36,36)",
              "ticks": "outside"
             }
            },
            "type": "scattermapbox"
           }
          ],
          "scatterpolar": [
           {
            "marker": {
             "colorbar": {
              "outlinewidth": 1,
              "tickcolor": "rgb(36,36,36)",
              "ticks": "outside"
             }
            },
            "type": "scatterpolar"
           }
          ],
          "scatterpolargl": [
           {
            "marker": {
             "colorbar": {
              "outlinewidth": 1,
              "tickcolor": "rgb(36,36,36)",
              "ticks": "outside"
             }
            },
            "type": "scatterpolargl"
           }
          ],
          "scatterternary": [
           {
            "marker": {
             "colorbar": {
              "outlinewidth": 1,
              "tickcolor": "rgb(36,36,36)",
              "ticks": "outside"
             }
            },
            "type": "scatterternary"
           }
          ],
          "surface": [
           {
            "colorbar": {
             "outlinewidth": 1,
             "tickcolor": "rgb(36,36,36)",
             "ticks": "outside"
            },
            "colorscale": [
             [
              0,
              "#440154"
             ],
             [
              0.1111111111111111,
              "#482878"
             ],
             [
              0.2222222222222222,
              "#3e4989"
             ],
             [
              0.3333333333333333,
              "#31688e"
             ],
             [
              0.4444444444444444,
              "#26828e"
             ],
             [
              0.5555555555555556,
              "#1f9e89"
             ],
             [
              0.6666666666666666,
              "#35b779"
             ],
             [
              0.7777777777777778,
              "#6ece58"
             ],
             [
              0.8888888888888888,
              "#b5de2b"
             ],
             [
              1,
              "#fde725"
             ]
            ],
            "type": "surface"
           }
          ],
          "table": [
           {
            "cells": {
             "fill": {
              "color": "rgb(237,237,237)"
             },
             "line": {
              "color": "white"
             }
            },
            "header": {
             "fill": {
              "color": "rgb(217,217,217)"
             },
             "line": {
              "color": "white"
             }
            },
            "type": "table"
           }
          ]
         },
         "layout": {
          "annotationdefaults": {
           "arrowhead": 0,
           "arrowwidth": 1
          },
          "autotypenumbers": "strict",
          "coloraxis": {
           "colorbar": {
            "outlinewidth": 1,
            "tickcolor": "rgb(36,36,36)",
            "ticks": "outside"
           }
          },
          "colorscale": {
           "diverging": [
            [
             0,
             "rgb(103,0,31)"
            ],
            [
             0.1,
             "rgb(178,24,43)"
            ],
            [
             0.2,
             "rgb(214,96,77)"
            ],
            [
             0.3,
             "rgb(244,165,130)"
            ],
            [
             0.4,
             "rgb(253,219,199)"
            ],
            [
             0.5,
             "rgb(247,247,247)"
            ],
            [
             0.6,
             "rgb(209,229,240)"
            ],
            [
             0.7,
             "rgb(146,197,222)"
            ],
            [
             0.8,
             "rgb(67,147,195)"
            ],
            [
             0.9,
             "rgb(33,102,172)"
            ],
            [
             1,
             "rgb(5,48,97)"
            ]
           ],
           "sequential": [
            [
             0,
             "#440154"
            ],
            [
             0.1111111111111111,
             "#482878"
            ],
            [
             0.2222222222222222,
             "#3e4989"
            ],
            [
             0.3333333333333333,
             "#31688e"
            ],
            [
             0.4444444444444444,
             "#26828e"
            ],
            [
             0.5555555555555556,
             "#1f9e89"
            ],
            [
             0.6666666666666666,
             "#35b779"
            ],
            [
             0.7777777777777778,
             "#6ece58"
            ],
            [
             0.8888888888888888,
             "#b5de2b"
            ],
            [
             1,
             "#fde725"
            ]
           ],
           "sequentialminus": [
            [
             0,
             "#440154"
            ],
            [
             0.1111111111111111,
             "#482878"
            ],
            [
             0.2222222222222222,
             "#3e4989"
            ],
            [
             0.3333333333333333,
             "#31688e"
            ],
            [
             0.4444444444444444,
             "#26828e"
            ],
            [
             0.5555555555555556,
             "#1f9e89"
            ],
            [
             0.6666666666666666,
             "#35b779"
            ],
            [
             0.7777777777777778,
             "#6ece58"
            ],
            [
             0.8888888888888888,
             "#b5de2b"
            ],
            [
             1,
             "#fde725"
            ]
           ]
          },
          "colorway": [
           "#1F77B4",
           "#FF7F0E",
           "#2CA02C",
           "#D62728",
           "#9467BD",
           "#8C564B",
           "#E377C2",
           "#7F7F7F",
           "#BCBD22",
           "#17BECF"
          ],
          "font": {
           "color": "rgb(36,36,36)"
          },
          "geo": {
           "bgcolor": "white",
           "lakecolor": "white",
           "landcolor": "white",
           "showlakes": true,
           "showland": true,
           "subunitcolor": "white"
          },
          "hoverlabel": {
           "align": "left"
          },
          "hovermode": "closest",
          "mapbox": {
           "style": "light"
          },
          "paper_bgcolor": "white",
          "plot_bgcolor": "white",
          "polar": {
           "angularaxis": {
            "gridcolor": "rgb(232,232,232)",
            "linecolor": "rgb(36,36,36)",
            "showgrid": false,
            "showline": true,
            "ticks": "outside"
           },
           "bgcolor": "white",
           "radialaxis": {
            "gridcolor": "rgb(232,232,232)",
            "linecolor": "rgb(36,36,36)",
            "showgrid": false,
            "showline": true,
            "ticks": "outside"
           }
          },
          "scene": {
           "xaxis": {
            "backgroundcolor": "white",
            "gridcolor": "rgb(232,232,232)",
            "gridwidth": 2,
            "linecolor": "rgb(36,36,36)",
            "showbackground": true,
            "showgrid": false,
            "showline": true,
            "ticks": "outside",
            "zeroline": false,
            "zerolinecolor": "rgb(36,36,36)"
           },
           "yaxis": {
            "backgroundcolor": "white",
            "gridcolor": "rgb(232,232,232)",
            "gridwidth": 2,
            "linecolor": "rgb(36,36,36)",
            "showbackground": true,
            "showgrid": false,
            "showline": true,
            "ticks": "outside",
            "zeroline": false,
            "zerolinecolor": "rgb(36,36,36)"
           },
           "zaxis": {
            "backgroundcolor": "white",
            "gridcolor": "rgb(232,232,232)",
            "gridwidth": 2,
            "linecolor": "rgb(36,36,36)",
            "showbackground": true,
            "showgrid": false,
            "showline": true,
            "ticks": "outside",
            "zeroline": false,
            "zerolinecolor": "rgb(36,36,36)"
           }
          },
          "shapedefaults": {
           "fillcolor": "black",
           "line": {
            "width": 0
           },
           "opacity": 0.3
          },
          "ternary": {
           "aaxis": {
            "gridcolor": "rgb(232,232,232)",
            "linecolor": "rgb(36,36,36)",
            "showgrid": false,
            "showline": true,
            "ticks": "outside"
           },
           "baxis": {
            "gridcolor": "rgb(232,232,232)",
            "linecolor": "rgb(36,36,36)",
            "showgrid": false,
            "showline": true,
            "ticks": "outside"
           },
           "bgcolor": "white",
           "caxis": {
            "gridcolor": "rgb(232,232,232)",
            "linecolor": "rgb(36,36,36)",
            "showgrid": false,
            "showline": true,
            "ticks": "outside"
           }
          },
          "title": {
           "x": 0.05
          },
          "xaxis": {
           "automargin": true,
           "gridcolor": "rgb(232,232,232)",
           "linecolor": "rgb(36,36,36)",
           "showgrid": false,
           "showline": true,
           "ticks": "outside",
           "title": {
            "standoff": 15
           },
           "zeroline": false,
           "zerolinecolor": "rgb(36,36,36)"
          },
          "yaxis": {
           "automargin": true,
           "gridcolor": "rgb(232,232,232)",
           "linecolor": "rgb(36,36,36)",
           "showgrid": false,
           "showline": true,
           "ticks": "outside",
           "title": {
            "standoff": 15
           },
           "zeroline": false,
           "zerolinecolor": "rgb(36,36,36)"
          }
         }
        },
        "title": {
         "font": {
          "color": "Black",
          "size": 22
         },
         "text": "<b>Topics over Time</b>",
         "x": 0.4,
         "xanchor": "center",
         "y": 0.95,
         "yanchor": "top"
        },
        "width": 1250,
        "xaxis": {
         "showgrid": true
        },
        "yaxis": {
         "showgrid": true,
         "title": {
          "text": "Frequency"
         }
        }
       }
      }
     },
     "metadata": {},
     "output_type": "display_data"
    }
   ],
   "source": [
    "df_year = df.copy()\n",
    "df_year['year'] = pd.DatetimeIndex(df['date']).year\n",
    "over_time = topic_model.topics_over_time(docs=df_year['text'], timestamps= df_year['year'], datetime_format=\"%Y\")\n",
    "\n",
    "topic_model.visualize_topics_over_time(over_time, topics=relevant_topics, custom_labels=True)"
   ]
  },
  {
   "cell_type": "code",
   "execution_count": 23,
   "metadata": {},
   "outputs": [
    {
     "name": "stderr",
     "output_type": "stream",
     "text": [
      "155it [00:06, 25.70it/s]\n"
     ]
    },
    {
     "data": {
      "application/vnd.plotly.v1+json": {
       "config": {
        "plotlyServerURL": "https://plotly.com"
       },
       "data": [
        {
         "hoverinfo": "text",
         "hovertext": [
          "<b>Topic 0</b><br>Words: juni, zomerse dagen, onzeker, vanaf vrijdag, wind vanuit",
          "<b>Topic 0</b><br>Words: poly, maand, zonuren, maand juli, storm poly",
          "<b>Topic 0</b><br>Words: september, regionale, regionale hittegolf, begin vorige, smog",
          "<b>Topic 0</b><br>Words: september, zeer warme, 17 graden, 159, alleen 2006"
         ],
         "marker": {
          "color": "#E69F00"
         },
         "mode": "lines",
         "name": "Weather & Temperature",
         "type": "scatter",
         "x": [
          "2023-06-01T00:00:00",
          "2023-07-01T00:00:00",
          "2023-09-01T00:00:00",
          "2023-10-01T00:00:00"
         ],
         "y": [
          2,
          1,
          3,
          1
         ]
        },
        {
         "hoverinfo": "text",
         "hovertext": [
          "<b>Topic 1</b><br>Words: chili, natuurbranden, zuiden hoofdstad, chileense, hoofdstad santiago",
          "<b>Topic 1</b><br>Words: argentinië, buenos, aires, buenos aires, stroomuitval",
          "<b>Topic 1</b><br>Words: pand, puin, marseille, uitbrak, binnenlandse zaken",
          "<b>Topic 1</b><br>Words: canada, hectare natuur, branden, gebied bijna, verbrand",
          "<b>Topic 1</b><br>Words: bosbranden, branden, griekenland, natuurbranden, griekse",
          "<b>Topic 1</b><br>Words: noemt situatie, la palma, palma, vuur, evacuaties",
          "<b>Topic 1</b><br>Words: israëlische, israël, humanitaire, palestijnse, opgelopen boven"
         ],
         "marker": {
          "color": "#56B4E9"
         },
         "mode": "lines",
         "name": "Wildfires",
         "type": "scatter",
         "x": [
          "2023-02-01T00:00:00",
          "2023-03-01T00:00:00",
          "2023-04-01T00:00:00",
          "2023-06-01T00:00:00",
          "2023-07-01T00:00:00",
          "2023-08-01T00:00:00",
          "2023-10-01T00:00:00"
         ],
         "y": [
          2,
          1,
          1,
          2,
          6,
          2,
          1
         ]
        },
        {
         "hoverinfo": "text",
         "hovertext": [
          "<b>Topic 2</b><br>Words: australian open, australian, verloor, set, 26 jarige",
          "<b>Topic 2</b><br>Words: bal, koeman, psv, gearresteerd, talent",
          "<b>Topic 2</b><br>Words: hassan, games, marathon, 000 meter, 500 meter",
          "<b>Topic 2</b><br>Words: vedder, levels, ploeg, tour, renners",
          "<b>Topic 2</b><br>Words: saudi, jiya, saudi arabië, arabië, lach",
          "<b>Topic 2</b><br>Words: verstappen, singapore, race, red bull, bull",
          "<b>Topic 2</b><br>Words: veldrijden, parcours, marianne, lars, live"
         ],
         "marker": {
          "color": "#009E73"
         },
         "mode": "lines",
         "name": "Sports & Athletes",
         "type": "scatter",
         "x": [
          "2023-01-01T00:00:00",
          "2023-02-01T00:00:00",
          "2023-06-01T00:00:00",
          "2023-07-01T00:00:00",
          "2023-08-01T00:00:00",
          "2023-09-01T00:00:00",
          "2023-11-01T00:00:00"
         ],
         "y": [
          1,
          2,
          1,
          2,
          3,
          3,
          1
         ]
        },
        {
         "hoverinfo": "text",
         "hovertext": [
          "<b>Topic 3</b><br>Words: energiearmoede, huishoudens, 000 huishoudens, compensatiemaatregelen, tno",
          "<b>Topic 3</b><br>Words: warmtepomp, warmtepompen, materialen, onmisbare, jongh",
          "<b>Topic 3</b><br>Words: leveranciers, prijzen, tarieven, reclame, euro per",
          "<b>Topic 3</b><br>Words: compensatie, aanspraak maken, aanspraak, huishoudens, gedeelde",
          "<b>Topic 3</b><br>Words: afval, storten, huisvuil, verbrandingsovens, verbranden",
          "<b>Topic 3</b><br>Words: bedrijven, provincie groningen, verhoging, gedeputeerde, annuleren",
          "<b>Topic 3</b><br>Words: vulkaan, bolsward, verwarmen, boren, tarief",
          "<b>Topic 3</b><br>Words: behulp, energiebedrijven, 2030, woningen, 2050"
         ],
         "marker": {
          "color": "#F0E442"
         },
         "mode": "lines",
         "name": "Electricity",
         "type": "scatter",
         "x": [
          "2023-01-01T00:00:00",
          "2023-02-01T00:00:00",
          "2023-03-01T00:00:00",
          "2023-04-01T00:00:00",
          "2023-05-01T00:00:00",
          "2023-06-01T00:00:00",
          "2023-07-01T00:00:00",
          "2023-11-01T00:00:00"
         ],
         "y": [
          1,
          1,
          1,
          1,
          1,
          1,
          1,
          2
         ]
        },
        {
         "hoverinfo": "text",
         "hovertext": [
          "<b>Topic 4</b><br>Words: europa, siegmund, föhn, skigebieden, sneeuw",
          "<b>Topic 4</b><br>Words: zonnestraling, siegmund, schoner, voorjaar zomer, lucht schoner",
          "<b>Topic 4</b><br>Words: oceaan, gletsjers, warmere, alpen, niña",
          "<b>Topic 4</b><br>Words: komende vijf, graad, wmo, afgelopen maand, droogste",
          "<b>Topic 4</b><br>Words: niño, el niño, india, el, noordzee",
          "<b>Topic 4</b><br>Words: zee ijs, oceaan, zee, ijs, antarctica",
          "<b>Topic 4</b><br>Words: copernicus, kampten, maand ooit, 96, plekken leidde",
          "<b>Topic 4</b><br>Words: weersextremen, oceaan, contrast, link, zomer",
          "<b>Topic 4</b><br>Words: ongekende temperaturen, copernicus, warmste, jaar sinds, september",
          "<b>Topic 4</b><br>Words: copernicus, wel graden, graden ligt, afgelopen maand, oktober"
         ],
         "marker": {
          "color": "#D55E00"
         },
         "mode": "lines",
         "name": "Climate change",
         "type": "scatter",
         "x": [
          "2023-01-01T00:00:00",
          "2023-03-01T00:00:00",
          "2023-04-01T00:00:00",
          "2023-05-01T00:00:00",
          "2023-06-01T00:00:00",
          "2023-07-01T00:00:00",
          "2023-08-01T00:00:00",
          "2023-09-01T00:00:00",
          "2023-10-01T00:00:00",
          "2023-11-01T00:00:00"
         ],
         "y": [
          3,
          1,
          2,
          3,
          3,
          11,
          1,
          1,
          1,
          1
         ]
        },
        {
         "hoverinfo": "text",
         "hovertext": [
          "<b>Topic 5</b><br>Words: rutte, jelle, stoel, foto gemaakt, biden",
          "<b>Topic 5</b><br>Words: ballon, vloog, 000 meter, meter 000, amerikanen",
          "<b>Topic 5</b><br>Words: stikstofbeleid, motie, statenverkiezingen, xi, von leyen",
          "<b>Topic 5</b><br>Words: zeven provincies, rijkswaterstaat hitteprotocol, internazionale, bondscoach ronald, vier kinderen",
          "<b>Topic 5</b><br>Words: yesilgöz, stemt, navo, parlement, vogeltje",
          "<b>Topic 5</b><br>Words: cda, henri, vervolgen, römer, trappen",
          "<b>Topic 5</b><br>Words: unicef, parlementaire enquêtecommissie, enquêtecommissie, gehoord, dienstverlening"
         ],
         "marker": {
          "color": "#0072B2"
         },
         "mode": "lines",
         "name": "NOS morning report",
         "type": "scatter",
         "x": [
          "2023-01-01T00:00:00",
          "2023-02-01T00:00:00",
          "2023-04-01T00:00:00",
          "2023-06-01T00:00:00",
          "2023-07-01T00:00:00",
          "2023-08-01T00:00:00",
          "2023-09-01T00:00:00"
         ],
         "y": [
          1,
          2,
          1,
          1,
          2,
          1,
          1
         ]
        },
        {
         "hoverinfo": "text",
         "hovertext": [
          "<b>Topic 6</b><br>Words: zoet water, zoet, sande, rijnland, dijkgraaf"
         ],
         "marker": {
          "color": "#CC79A7"
         },
         "mode": "lines",
         "name": "Water & Droughts",
         "type": "scatter",
         "x": [
          "2023-07-01T00:00:00"
         ],
         "y": [
          1
         ]
        },
        {
         "hoverinfo": "text",
         "hovertext": [
          "<b>Topic 7</b><br>Words: bijen, telling, geteld, kou, staat daarom",
          "<b>Topic 7</b><br>Words: tijgermug, blauwalg, mug, eitjes, bacterie",
          "<b>Topic 7</b><br>Words: larven, wur, muggenoverlast, broedplaatsen, overlast"
         ],
         "marker": {
          "color": "#E69F00"
         },
         "mode": "lines",
         "name": "Ecological Impact",
         "type": "scatter",
         "x": [
          "2023-04-01T00:00:00",
          "2023-08-01T00:00:00",
          "2023-09-01T00:00:00"
         ],
         "y": [
          1,
          2,
          1
         ]
        },
        {
         "hoverinfo": "text",
         "hovertext": [
          "<b>Topic 8</b><br>Words: verheggen, desert, challenge, uitgeput, hoort erbij",
          "<b>Topic 8</b><br>Words: ironman, deelnemers, vluchteling, bakker, sudan"
         ],
         "marker": {
          "color": "#56B4E9"
         },
         "mode": "lines",
         "name": "Events",
         "type": "scatter",
         "x": [
          "2023-04-01T00:00:00",
          "2023-06-01T00:00:00"
         ],
         "y": [
          1,
          2
         ]
        },
        {
         "hoverinfo": "text",
         "hovertext": [
          "<b>Topic 9</b><br>Words: varkens, wakker dier, nvwa, mengen, wakker"
         ],
         "marker": {
          "color": "#009E73"
         },
         "mode": "lines",
         "name": "Animal Welfare",
         "type": "scatter",
         "x": [
          "2023-04-01T00:00:00"
         ],
         "y": [
          1
         ]
        },
        {
         "hoverinfo": "text",
         "hovertext": [
          "<b>Topic 12</b><br>Words: put, gaat gewoon, vakantie, spanjaarden, organiseren",
          "<b>Topic 12</b><br>Words: nobel, camping, boekingen, tui, sunweb"
         ],
         "marker": {
          "color": "#F0E442"
         },
         "mode": "lines",
         "name": "Heatwave Adaptation Strategies in Spaces",
         "type": "scatter",
         "x": [
          "2023-04-01T00:00:00",
          "2023-08-01T00:00:00"
         ],
         "y": [
          1,
          2
         ]
        },
        {
         "hoverinfo": "text",
         "hovertext": [
          "<b>Topic 13</b><br>Words: weerorganisatie, 40 graden, wmo, 41 graden, boven 40"
         ],
         "marker": {
          "color": "#D55E00"
         },
         "mode": "lines",
         "name": "Extreme heat conditions",
         "type": "scatter",
         "x": [
          "2023-07-01T00:00:00"
         ],
         "y": [
          1
         ]
        },
        {
         "hoverinfo": "text",
         "hovertext": [
          "<b>Topic 14</b><br>Words: besparingen, kwart minder, minder gas, huishoudens, gas verbruikt",
          "<b>Topic 14</b><br>Words: ledverlichting, kleur, glastuinders, roze, lampen",
          "<b>Topic 14</b><br>Words: airco, mobiele airco, mobiele, milieu centraal, mensen airco",
          "<b>Topic 14</b><br>Words: miljard kubieke, minder gas, gasverbruik, kubieke meter, gas"
         ],
         "marker": {
          "color": "#0072B2"
         },
         "mode": "lines",
         "name": "Household Energy Efficiency and Costs",
         "type": "scatter",
         "x": [
          "2023-02-01T00:00:00",
          "2023-04-01T00:00:00",
          "2023-07-01T00:00:00",
          "2023-08-01T00:00:00"
         ],
         "y": [
          2,
          1,
          1,
          1
         ]
        },
        {
         "hoverinfo": "text",
         "hovertext": [
          "<b>Topic 15</b><br>Words: panda, hardloopevenement, woensdrecht, dag eerste, dierenpark"
         ],
         "marker": {
          "color": "#CC79A7"
         },
         "mode": "lines",
         "name": "Congestion at tourist spots and beaches",
         "type": "scatter",
         "x": [
          "2023-06-01T00:00:00"
         ],
         "y": [
          1
         ]
        },
        {
         "hoverinfo": "text",
         "hovertext": [
          "<b>Topic 16</b><br>Words: drie continenten, bestaat alleen, hitte drie, continenten, nieuwsuurbinnenland"
         ],
         "marker": {
          "color": "#E69F00"
         },
         "mode": "lines",
         "name": "Media coverage on climate crisis",
         "type": "scatter",
         "x": [
          "2023-07-01T00:00:00"
         ],
         "y": [
          2
         ]
        },
        {
         "hoverinfo": "text",
         "hovertext": [
          "<b>Topic 18</b><br>Words: mexico, gezondheidsautoriteiten, juni kregen, plekken scholen, land noorden"
         ],
         "marker": {
          "color": "#56B4E9"
         },
         "mode": "lines",
         "name": "Natural disasters",
         "type": "scatter",
         "x": [
          "2023-06-01T00:00:00"
         ],
         "y": [
          1
         ]
        },
        {
         "hoverinfo": "text",
         "hovertext": [
          "<b>Topic 19</b><br>Words: natuurbranden, nipv, natuur, sneller warm, brandweer nederland",
          "<b>Topic 19</b><br>Words: knaw, infectieziekten, ondervoeding, voedselvoorziening, upcall",
          "<b>Topic 19</b><br>Words: mckinsey, werktijden, kluck, uitvoering, 00"
         ],
         "marker": {
          "color": "#009E73"
         },
         "mode": "lines",
         "name": "Climate adaption (gemeenten)",
         "type": "scatter",
         "x": [
          "2023-01-01T00:00:00",
          "2023-06-01T00:00:00",
          "2023-07-01T00:00:00"
         ],
         "y": [
          1,
          1,
          2
         ]
        },
        {
         "hoverinfo": "text",
         "hovertext": [
          "<b>Topic 21</b><br>Words: kenia, kunstmatige, riffen, kanaal, koraalriffen",
          "<b>Topic 21</b><br>Words: mathieu, druiven, wijnbouw, hulst, geteeld",
          "<b>Topic 21</b><br>Words: oder, poolse, polen, rivier, vogel",
          "<b>Topic 21</b><br>Words: rijst, biodiversiteit, mislukt, plagen, soorten"
         ],
         "marker": {
          "color": "#F0E442"
         },
         "mode": "lines",
         "name": "Impact on Agriculture",
         "type": "scatter",
         "x": [
          "2023-04-01T00:00:00",
          "2023-07-01T00:00:00",
          "2023-08-01T00:00:00",
          "2023-10-01T00:00:00"
         ],
         "y": [
          1,
          1,
          1,
          1
         ]
        }
       ],
       "layout": {
        "height": 450,
        "hoverlabel": {
         "bgcolor": "white",
         "font": {
          "family": "Rockwell",
          "size": 16
         }
        },
        "legend": {
         "title": {
          "text": "<b>Global Topic Representation"
         }
        },
        "template": {
         "data": {
          "bar": [
           {
            "error_x": {
             "color": "rgb(36,36,36)"
            },
            "error_y": {
             "color": "rgb(36,36,36)"
            },
            "marker": {
             "line": {
              "color": "white",
              "width": 0.5
             },
             "pattern": {
              "fillmode": "overlay",
              "size": 10,
              "solidity": 0.2
             }
            },
            "type": "bar"
           }
          ],
          "barpolar": [
           {
            "marker": {
             "line": {
              "color": "white",
              "width": 0.5
             },
             "pattern": {
              "fillmode": "overlay",
              "size": 10,
              "solidity": 0.2
             }
            },
            "type": "barpolar"
           }
          ],
          "carpet": [
           {
            "aaxis": {
             "endlinecolor": "rgb(36,36,36)",
             "gridcolor": "white",
             "linecolor": "white",
             "minorgridcolor": "white",
             "startlinecolor": "rgb(36,36,36)"
            },
            "baxis": {
             "endlinecolor": "rgb(36,36,36)",
             "gridcolor": "white",
             "linecolor": "white",
             "minorgridcolor": "white",
             "startlinecolor": "rgb(36,36,36)"
            },
            "type": "carpet"
           }
          ],
          "choropleth": [
           {
            "colorbar": {
             "outlinewidth": 1,
             "tickcolor": "rgb(36,36,36)",
             "ticks": "outside"
            },
            "type": "choropleth"
           }
          ],
          "contour": [
           {
            "colorbar": {
             "outlinewidth": 1,
             "tickcolor": "rgb(36,36,36)",
             "ticks": "outside"
            },
            "colorscale": [
             [
              0,
              "#440154"
             ],
             [
              0.1111111111111111,
              "#482878"
             ],
             [
              0.2222222222222222,
              "#3e4989"
             ],
             [
              0.3333333333333333,
              "#31688e"
             ],
             [
              0.4444444444444444,
              "#26828e"
             ],
             [
              0.5555555555555556,
              "#1f9e89"
             ],
             [
              0.6666666666666666,
              "#35b779"
             ],
             [
              0.7777777777777778,
              "#6ece58"
             ],
             [
              0.8888888888888888,
              "#b5de2b"
             ],
             [
              1,
              "#fde725"
             ]
            ],
            "type": "contour"
           }
          ],
          "contourcarpet": [
           {
            "colorbar": {
             "outlinewidth": 1,
             "tickcolor": "rgb(36,36,36)",
             "ticks": "outside"
            },
            "type": "contourcarpet"
           }
          ],
          "heatmap": [
           {
            "colorbar": {
             "outlinewidth": 1,
             "tickcolor": "rgb(36,36,36)",
             "ticks": "outside"
            },
            "colorscale": [
             [
              0,
              "#440154"
             ],
             [
              0.1111111111111111,
              "#482878"
             ],
             [
              0.2222222222222222,
              "#3e4989"
             ],
             [
              0.3333333333333333,
              "#31688e"
             ],
             [
              0.4444444444444444,
              "#26828e"
             ],
             [
              0.5555555555555556,
              "#1f9e89"
             ],
             [
              0.6666666666666666,
              "#35b779"
             ],
             [
              0.7777777777777778,
              "#6ece58"
             ],
             [
              0.8888888888888888,
              "#b5de2b"
             ],
             [
              1,
              "#fde725"
             ]
            ],
            "type": "heatmap"
           }
          ],
          "heatmapgl": [
           {
            "colorbar": {
             "outlinewidth": 1,
             "tickcolor": "rgb(36,36,36)",
             "ticks": "outside"
            },
            "colorscale": [
             [
              0,
              "#440154"
             ],
             [
              0.1111111111111111,
              "#482878"
             ],
             [
              0.2222222222222222,
              "#3e4989"
             ],
             [
              0.3333333333333333,
              "#31688e"
             ],
             [
              0.4444444444444444,
              "#26828e"
             ],
             [
              0.5555555555555556,
              "#1f9e89"
             ],
             [
              0.6666666666666666,
              "#35b779"
             ],
             [
              0.7777777777777778,
              "#6ece58"
             ],
             [
              0.8888888888888888,
              "#b5de2b"
             ],
             [
              1,
              "#fde725"
             ]
            ],
            "type": "heatmapgl"
           }
          ],
          "histogram": [
           {
            "marker": {
             "line": {
              "color": "white",
              "width": 0.6
             }
            },
            "type": "histogram"
           }
          ],
          "histogram2d": [
           {
            "colorbar": {
             "outlinewidth": 1,
             "tickcolor": "rgb(36,36,36)",
             "ticks": "outside"
            },
            "colorscale": [
             [
              0,
              "#440154"
             ],
             [
              0.1111111111111111,
              "#482878"
             ],
             [
              0.2222222222222222,
              "#3e4989"
             ],
             [
              0.3333333333333333,
              "#31688e"
             ],
             [
              0.4444444444444444,
              "#26828e"
             ],
             [
              0.5555555555555556,
              "#1f9e89"
             ],
             [
              0.6666666666666666,
              "#35b779"
             ],
             [
              0.7777777777777778,
              "#6ece58"
             ],
             [
              0.8888888888888888,
              "#b5de2b"
             ],
             [
              1,
              "#fde725"
             ]
            ],
            "type": "histogram2d"
           }
          ],
          "histogram2dcontour": [
           {
            "colorbar": {
             "outlinewidth": 1,
             "tickcolor": "rgb(36,36,36)",
             "ticks": "outside"
            },
            "colorscale": [
             [
              0,
              "#440154"
             ],
             [
              0.1111111111111111,
              "#482878"
             ],
             [
              0.2222222222222222,
              "#3e4989"
             ],
             [
              0.3333333333333333,
              "#31688e"
             ],
             [
              0.4444444444444444,
              "#26828e"
             ],
             [
              0.5555555555555556,
              "#1f9e89"
             ],
             [
              0.6666666666666666,
              "#35b779"
             ],
             [
              0.7777777777777778,
              "#6ece58"
             ],
             [
              0.8888888888888888,
              "#b5de2b"
             ],
             [
              1,
              "#fde725"
             ]
            ],
            "type": "histogram2dcontour"
           }
          ],
          "mesh3d": [
           {
            "colorbar": {
             "outlinewidth": 1,
             "tickcolor": "rgb(36,36,36)",
             "ticks": "outside"
            },
            "type": "mesh3d"
           }
          ],
          "parcoords": [
           {
            "line": {
             "colorbar": {
              "outlinewidth": 1,
              "tickcolor": "rgb(36,36,36)",
              "ticks": "outside"
             }
            },
            "type": "parcoords"
           }
          ],
          "pie": [
           {
            "automargin": true,
            "type": "pie"
           }
          ],
          "scatter": [
           {
            "fillpattern": {
             "fillmode": "overlay",
             "size": 10,
             "solidity": 0.2
            },
            "type": "scatter"
           }
          ],
          "scatter3d": [
           {
            "line": {
             "colorbar": {
              "outlinewidth": 1,
              "tickcolor": "rgb(36,36,36)",
              "ticks": "outside"
             }
            },
            "marker": {
             "colorbar": {
              "outlinewidth": 1,
              "tickcolor": "rgb(36,36,36)",
              "ticks": "outside"
             }
            },
            "type": "scatter3d"
           }
          ],
          "scattercarpet": [
           {
            "marker": {
             "colorbar": {
              "outlinewidth": 1,
              "tickcolor": "rgb(36,36,36)",
              "ticks": "outside"
             }
            },
            "type": "scattercarpet"
           }
          ],
          "scattergeo": [
           {
            "marker": {
             "colorbar": {
              "outlinewidth": 1,
              "tickcolor": "rgb(36,36,36)",
              "ticks": "outside"
             }
            },
            "type": "scattergeo"
           }
          ],
          "scattergl": [
           {
            "marker": {
             "colorbar": {
              "outlinewidth": 1,
              "tickcolor": "rgb(36,36,36)",
              "ticks": "outside"
             }
            },
            "type": "scattergl"
           }
          ],
          "scattermapbox": [
           {
            "marker": {
             "colorbar": {
              "outlinewidth": 1,
              "tickcolor": "rgb(36,36,36)",
              "ticks": "outside"
             }
            },
            "type": "scattermapbox"
           }
          ],
          "scatterpolar": [
           {
            "marker": {
             "colorbar": {
              "outlinewidth": 1,
              "tickcolor": "rgb(36,36,36)",
              "ticks": "outside"
             }
            },
            "type": "scatterpolar"
           }
          ],
          "scatterpolargl": [
           {
            "marker": {
             "colorbar": {
              "outlinewidth": 1,
              "tickcolor": "rgb(36,36,36)",
              "ticks": "outside"
             }
            },
            "type": "scatterpolargl"
           }
          ],
          "scatterternary": [
           {
            "marker": {
             "colorbar": {
              "outlinewidth": 1,
              "tickcolor": "rgb(36,36,36)",
              "ticks": "outside"
             }
            },
            "type": "scatterternary"
           }
          ],
          "surface": [
           {
            "colorbar": {
             "outlinewidth": 1,
             "tickcolor": "rgb(36,36,36)",
             "ticks": "outside"
            },
            "colorscale": [
             [
              0,
              "#440154"
             ],
             [
              0.1111111111111111,
              "#482878"
             ],
             [
              0.2222222222222222,
              "#3e4989"
             ],
             [
              0.3333333333333333,
              "#31688e"
             ],
             [
              0.4444444444444444,
              "#26828e"
             ],
             [
              0.5555555555555556,
              "#1f9e89"
             ],
             [
              0.6666666666666666,
              "#35b779"
             ],
             [
              0.7777777777777778,
              "#6ece58"
             ],
             [
              0.8888888888888888,
              "#b5de2b"
             ],
             [
              1,
              "#fde725"
             ]
            ],
            "type": "surface"
           }
          ],
          "table": [
           {
            "cells": {
             "fill": {
              "color": "rgb(237,237,237)"
             },
             "line": {
              "color": "white"
             }
            },
            "header": {
             "fill": {
              "color": "rgb(217,217,217)"
             },
             "line": {
              "color": "white"
             }
            },
            "type": "table"
           }
          ]
         },
         "layout": {
          "annotationdefaults": {
           "arrowhead": 0,
           "arrowwidth": 1
          },
          "autotypenumbers": "strict",
          "coloraxis": {
           "colorbar": {
            "outlinewidth": 1,
            "tickcolor": "rgb(36,36,36)",
            "ticks": "outside"
           }
          },
          "colorscale": {
           "diverging": [
            [
             0,
             "rgb(103,0,31)"
            ],
            [
             0.1,
             "rgb(178,24,43)"
            ],
            [
             0.2,
             "rgb(214,96,77)"
            ],
            [
             0.3,
             "rgb(244,165,130)"
            ],
            [
             0.4,
             "rgb(253,219,199)"
            ],
            [
             0.5,
             "rgb(247,247,247)"
            ],
            [
             0.6,
             "rgb(209,229,240)"
            ],
            [
             0.7,
             "rgb(146,197,222)"
            ],
            [
             0.8,
             "rgb(67,147,195)"
            ],
            [
             0.9,
             "rgb(33,102,172)"
            ],
            [
             1,
             "rgb(5,48,97)"
            ]
           ],
           "sequential": [
            [
             0,
             "#440154"
            ],
            [
             0.1111111111111111,
             "#482878"
            ],
            [
             0.2222222222222222,
             "#3e4989"
            ],
            [
             0.3333333333333333,
             "#31688e"
            ],
            [
             0.4444444444444444,
             "#26828e"
            ],
            [
             0.5555555555555556,
             "#1f9e89"
            ],
            [
             0.6666666666666666,
             "#35b779"
            ],
            [
             0.7777777777777778,
             "#6ece58"
            ],
            [
             0.8888888888888888,
             "#b5de2b"
            ],
            [
             1,
             "#fde725"
            ]
           ],
           "sequentialminus": [
            [
             0,
             "#440154"
            ],
            [
             0.1111111111111111,
             "#482878"
            ],
            [
             0.2222222222222222,
             "#3e4989"
            ],
            [
             0.3333333333333333,
             "#31688e"
            ],
            [
             0.4444444444444444,
             "#26828e"
            ],
            [
             0.5555555555555556,
             "#1f9e89"
            ],
            [
             0.6666666666666666,
             "#35b779"
            ],
            [
             0.7777777777777778,
             "#6ece58"
            ],
            [
             0.8888888888888888,
             "#b5de2b"
            ],
            [
             1,
             "#fde725"
            ]
           ]
          },
          "colorway": [
           "#1F77B4",
           "#FF7F0E",
           "#2CA02C",
           "#D62728",
           "#9467BD",
           "#8C564B",
           "#E377C2",
           "#7F7F7F",
           "#BCBD22",
           "#17BECF"
          ],
          "font": {
           "color": "rgb(36,36,36)"
          },
          "geo": {
           "bgcolor": "white",
           "lakecolor": "white",
           "landcolor": "white",
           "showlakes": true,
           "showland": true,
           "subunitcolor": "white"
          },
          "hoverlabel": {
           "align": "left"
          },
          "hovermode": "closest",
          "mapbox": {
           "style": "light"
          },
          "paper_bgcolor": "white",
          "plot_bgcolor": "white",
          "polar": {
           "angularaxis": {
            "gridcolor": "rgb(232,232,232)",
            "linecolor": "rgb(36,36,36)",
            "showgrid": false,
            "showline": true,
            "ticks": "outside"
           },
           "bgcolor": "white",
           "radialaxis": {
            "gridcolor": "rgb(232,232,232)",
            "linecolor": "rgb(36,36,36)",
            "showgrid": false,
            "showline": true,
            "ticks": "outside"
           }
          },
          "scene": {
           "xaxis": {
            "backgroundcolor": "white",
            "gridcolor": "rgb(232,232,232)",
            "gridwidth": 2,
            "linecolor": "rgb(36,36,36)",
            "showbackground": true,
            "showgrid": false,
            "showline": true,
            "ticks": "outside",
            "zeroline": false,
            "zerolinecolor": "rgb(36,36,36)"
           },
           "yaxis": {
            "backgroundcolor": "white",
            "gridcolor": "rgb(232,232,232)",
            "gridwidth": 2,
            "linecolor": "rgb(36,36,36)",
            "showbackground": true,
            "showgrid": false,
            "showline": true,
            "ticks": "outside",
            "zeroline": false,
            "zerolinecolor": "rgb(36,36,36)"
           },
           "zaxis": {
            "backgroundcolor": "white",
            "gridcolor": "rgb(232,232,232)",
            "gridwidth": 2,
            "linecolor": "rgb(36,36,36)",
            "showbackground": true,
            "showgrid": false,
            "showline": true,
            "ticks": "outside",
            "zeroline": false,
            "zerolinecolor": "rgb(36,36,36)"
           }
          },
          "shapedefaults": {
           "fillcolor": "black",
           "line": {
            "width": 0
           },
           "opacity": 0.3
          },
          "ternary": {
           "aaxis": {
            "gridcolor": "rgb(232,232,232)",
            "linecolor": "rgb(36,36,36)",
            "showgrid": false,
            "showline": true,
            "ticks": "outside"
           },
           "baxis": {
            "gridcolor": "rgb(232,232,232)",
            "linecolor": "rgb(36,36,36)",
            "showgrid": false,
            "showline": true,
            "ticks": "outside"
           },
           "bgcolor": "white",
           "caxis": {
            "gridcolor": "rgb(232,232,232)",
            "linecolor": "rgb(36,36,36)",
            "showgrid": false,
            "showline": true,
            "ticks": "outside"
           }
          },
          "title": {
           "x": 0.05
          },
          "xaxis": {
           "automargin": true,
           "gridcolor": "rgb(232,232,232)",
           "linecolor": "rgb(36,36,36)",
           "showgrid": false,
           "showline": true,
           "ticks": "outside",
           "title": {
            "standoff": 15
           },
           "zeroline": false,
           "zerolinecolor": "rgb(36,36,36)"
          },
          "yaxis": {
           "automargin": true,
           "gridcolor": "rgb(232,232,232)",
           "linecolor": "rgb(36,36,36)",
           "showgrid": false,
           "showline": true,
           "ticks": "outside",
           "title": {
            "standoff": 15
           },
           "zeroline": false,
           "zerolinecolor": "rgb(36,36,36)"
          }
         }
        },
        "title": {
         "font": {
          "color": "Black",
          "size": 22
         },
         "text": "<b>Topics over time in 2023<b>",
         "x": 0.4,
         "xanchor": "center",
         "y": 0.95,
         "yanchor": "top"
        },
        "width": 1250,
        "xaxis": {
         "showgrid": true
        },
        "yaxis": {
         "showgrid": true,
         "title": {
          "text": "Frequency"
         }
        }
       }
      }
     },
     "metadata": {},
     "output_type": "display_data"
    }
   ],
   "source": [
    "from datetime import datetime\n",
    "\n",
    "# topics over time in 2022\n",
    "over_time_23 = df.copy()\n",
    "\n",
    "# convert date to datetime and keep year and month\n",
    "over_time_23['date'] = pd.to_datetime(over_time_23['date'])\n",
    "over_time_23['date'] = over_time_23['date'].dt.strftime('%Y-%m')\n",
    "\n",
    "over_time_23 = topic_model.topics_over_time(docs=over_time_23['text'], timestamps=over_time_23['date'], datetime_format=\"%Y-%m\")\n",
    "\n",
    "over_time_23['Timestamp'] = pd.to_datetime(over_time_23['Timestamp'])\n",
    "over_time_23 = over_time_23[over_time_23['Timestamp'].dt.year == 2023]\n",
    "\n",
    "topic_model.visualize_topics_over_time(over_time_23, topics=relevant_topics, custom_labels=True, title='<b>Topics over time in 2023</b>')"
   ]
  },
  {
   "cell_type": "code",
   "execution_count": 131,
   "metadata": {},
   "outputs": [
    {
     "data": {
      "application/vnd.plotly.v1+json": {
       "config": {
        "plotlyServerURL": "https://plotly.com"
       },
       "data": [
        {
         "hoverinfo": "text",
         "marker": {
          "color": "rgb(61,153,112)"
         },
         "mode": "lines",
         "type": "scatter",
         "x": [
          0,
          0.7760993370692252,
          0.7760993370692252,
          0
         ],
         "xaxis": "x",
         "y": [
          -5,
          -5,
          -15,
          -15
         ],
         "yaxis": "y"
        },
        {
         "hoverinfo": "text",
         "marker": {
          "color": "rgb(61,153,112)"
         },
         "mode": "lines",
         "type": "scatter",
         "x": [
          0.7760993370692252,
          0.8779491598954208,
          0.8779491598954208,
          0
         ],
         "xaxis": "x",
         "y": [
          -10,
          -10,
          -25,
          -25
         ],
         "yaxis": "y"
        },
        {
         "hoverinfo": "text",
         "marker": {
          "color": "rgb(255,65,54)"
         },
         "mode": "lines",
         "type": "scatter",
         "x": [
          0,
          0.5911174116108764,
          0.5911174116108764,
          0
         ],
         "xaxis": "x",
         "y": [
          -65,
          -65,
          -75,
          -75
         ],
         "yaxis": "y"
        },
        {
         "hoverinfo": "text",
         "marker": {
          "color": "rgb(255,65,54)"
         },
         "mode": "lines",
         "type": "scatter",
         "x": [
          0,
          0.7509462259517778,
          0.7509462259517778,
          0.5911174116108764
         ],
         "xaxis": "x",
         "y": [
          -55,
          -55,
          -70,
          -70
         ],
         "yaxis": "y"
        },
        {
         "hoverinfo": "text",
         "marker": {
          "color": "rgb(255,65,54)"
         },
         "mode": "lines",
         "type": "scatter",
         "x": [
          0,
          0.7863314411103924,
          0.7863314411103924,
          0.7509462259517778
         ],
         "xaxis": "x",
         "y": [
          -45,
          -45,
          -62.5,
          -62.5
         ],
         "yaxis": "y"
        },
        {
         "hoverinfo": "text",
         "marker": {
          "color": "rgb(255,65,54)"
         },
         "mode": "lines",
         "type": "scatter",
         "x": [
          0,
          0.8109291004257323,
          0.8109291004257323,
          0.7863314411103924
         ],
         "xaxis": "x",
         "y": [
          -35,
          -35,
          -53.75,
          -53.75
         ],
         "yaxis": "y"
        },
        {
         "hoverinfo": "text",
         "marker": {
          "color": "rgb(255,65,54)"
         },
         "mode": "lines",
         "type": "scatter",
         "x": [
          0,
          0.6075418687928174,
          0.6075418687928174,
          0
         ],
         "xaxis": "x",
         "y": [
          -95,
          -95,
          -105,
          -105
         ],
         "yaxis": "y"
        },
        {
         "hoverinfo": "text",
         "marker": {
          "color": "rgb(255,65,54)"
         },
         "mode": "lines",
         "type": "scatter",
         "x": [
          0,
          0.5479744009802389,
          0.5479744009802389,
          0
         ],
         "xaxis": "x",
         "y": [
          -115,
          -115,
          -125,
          -125
         ],
         "yaxis": "y"
        },
        {
         "hoverinfo": "text",
         "marker": {
          "color": "rgb(255,65,54)"
         },
         "mode": "lines",
         "type": "scatter",
         "x": [
          0.6075418687928174,
          0.6743531250932387,
          0.6743531250932387,
          0.5479744009802389
         ],
         "xaxis": "x",
         "y": [
          -100,
          -100,
          -120,
          -120
         ],
         "yaxis": "y"
        },
        {
         "hoverinfo": "text",
         "marker": {
          "color": "rgb(255,65,54)"
         },
         "mode": "lines",
         "type": "scatter",
         "x": [
          0.6743531250932387,
          0.711134722360472,
          0.711134722360472,
          0
         ],
         "xaxis": "x",
         "y": [
          -110,
          -110,
          -135,
          -135
         ],
         "yaxis": "y"
        },
        {
         "hoverinfo": "text",
         "marker": {
          "color": "rgb(255,65,54)"
         },
         "mode": "lines",
         "type": "scatter",
         "x": [
          0,
          0.728882356433829,
          0.728882356433829,
          0.711134722360472
         ],
         "xaxis": "x",
         "y": [
          -85,
          -85,
          -122.5,
          -122.5
         ],
         "yaxis": "y"
        },
        {
         "hoverinfo": "text",
         "marker": {
          "color": "rgb(255,65,54)"
         },
         "mode": "lines",
         "type": "scatter",
         "x": [
          0,
          0.561716401531711,
          0.561716401531711,
          0
         ],
         "xaxis": "x",
         "y": [
          -145,
          -145,
          -155,
          -155
         ],
         "yaxis": "y"
        },
        {
         "hoverinfo": "text",
         "marker": {
          "color": "rgb(255,65,54)"
         },
         "mode": "lines",
         "type": "scatter",
         "x": [
          0.728882356433829,
          0.7623409729459851,
          0.7623409729459851,
          0.561716401531711
         ],
         "xaxis": "x",
         "y": [
          -103.75,
          -103.75,
          -150,
          -150
         ],
         "yaxis": "y"
        },
        {
         "hoverinfo": "text",
         "marker": {
          "color": "rgb(255,65,54)"
         },
         "mode": "lines",
         "type": "scatter",
         "x": [
          0.8109291004257323,
          0.8753322529892568,
          0.8753322529892568,
          0.7623409729459851
         ],
         "xaxis": "x",
         "y": [
          -44.375,
          -44.375,
          -126.875,
          -126.875
         ],
         "yaxis": "y"
        },
        {
         "hoverinfo": "text",
         "marker": {
          "color": "rgb(255,65,54)"
         },
         "mode": "lines",
         "type": "scatter",
         "x": [
          0,
          0.6893165187193834,
          0.6893165187193834,
          0
         ],
         "xaxis": "x",
         "y": [
          -165,
          -165,
          -175,
          -175
         ],
         "yaxis": "y"
        },
        {
         "hoverinfo": "text",
         "marker": {
          "color": "rgb(255,65,54)"
         },
         "mode": "lines",
         "type": "scatter",
         "x": [
          0.6893165187193834,
          0.7235658749366481,
          0.7235658749366481,
          0
         ],
         "xaxis": "x",
         "y": [
          -170,
          -170,
          -185,
          -185
         ],
         "yaxis": "y"
        },
        {
         "hoverinfo": "text",
         "marker": {
          "color": "rgb(255,65,54)"
         },
         "mode": "lines",
         "type": "scatter",
         "x": [
          0.8753322529892568,
          0.9746498922516937,
          0.9746498922516937,
          0.7235658749366481
         ],
         "xaxis": "x",
         "y": [
          -85.625,
          -85.625,
          -177.5,
          -177.5
         ],
         "yaxis": "y"
        },
        {
         "hoverinfo": "text",
         "marker": {
          "color": "rgb(0,116,217)"
         },
         "mode": "lines",
         "type": "scatter",
         "x": [
          0.8779491598954208,
          1.0182379801059804,
          1.0182379801059804,
          0.9746498922516937
         ],
         "xaxis": "x",
         "y": [
          -17.5,
          -17.5,
          -131.5625,
          -131.5625
         ],
         "yaxis": "y"
        }
       ],
       "layout": {
        "autosize": false,
        "height": 485,
        "hoverlabel": {
         "bgcolor": "white",
         "font": {
          "family": "Rockwell",
          "size": 16
         }
        },
        "hovermode": "closest",
        "plot_bgcolor": "#ECEFF1",
        "showlegend": false,
        "template": {
         "data": {
          "bar": [
           {
            "error_x": {
             "color": "#2a3f5f"
            },
            "error_y": {
             "color": "#2a3f5f"
            },
            "marker": {
             "line": {
              "color": "white",
              "width": 0.5
             },
             "pattern": {
              "fillmode": "overlay",
              "size": 10,
              "solidity": 0.2
             }
            },
            "type": "bar"
           }
          ],
          "barpolar": [
           {
            "marker": {
             "line": {
              "color": "white",
              "width": 0.5
             },
             "pattern": {
              "fillmode": "overlay",
              "size": 10,
              "solidity": 0.2
             }
            },
            "type": "barpolar"
           }
          ],
          "carpet": [
           {
            "aaxis": {
             "endlinecolor": "#2a3f5f",
             "gridcolor": "#C8D4E3",
             "linecolor": "#C8D4E3",
             "minorgridcolor": "#C8D4E3",
             "startlinecolor": "#2a3f5f"
            },
            "baxis": {
             "endlinecolor": "#2a3f5f",
             "gridcolor": "#C8D4E3",
             "linecolor": "#C8D4E3",
             "minorgridcolor": "#C8D4E3",
             "startlinecolor": "#2a3f5f"
            },
            "type": "carpet"
           }
          ],
          "choropleth": [
           {
            "colorbar": {
             "outlinewidth": 0,
             "ticks": ""
            },
            "type": "choropleth"
           }
          ],
          "contour": [
           {
            "colorbar": {
             "outlinewidth": 0,
             "ticks": ""
            },
            "colorscale": [
             [
              0,
              "#0d0887"
             ],
             [
              0.1111111111111111,
              "#46039f"
             ],
             [
              0.2222222222222222,
              "#7201a8"
             ],
             [
              0.3333333333333333,
              "#9c179e"
             ],
             [
              0.4444444444444444,
              "#bd3786"
             ],
             [
              0.5555555555555556,
              "#d8576b"
             ],
             [
              0.6666666666666666,
              "#ed7953"
             ],
             [
              0.7777777777777778,
              "#fb9f3a"
             ],
             [
              0.8888888888888888,
              "#fdca26"
             ],
             [
              1,
              "#f0f921"
             ]
            ],
            "type": "contour"
           }
          ],
          "contourcarpet": [
           {
            "colorbar": {
             "outlinewidth": 0,
             "ticks": ""
            },
            "type": "contourcarpet"
           }
          ],
          "heatmap": [
           {
            "colorbar": {
             "outlinewidth": 0,
             "ticks": ""
            },
            "colorscale": [
             [
              0,
              "#0d0887"
             ],
             [
              0.1111111111111111,
              "#46039f"
             ],
             [
              0.2222222222222222,
              "#7201a8"
             ],
             [
              0.3333333333333333,
              "#9c179e"
             ],
             [
              0.4444444444444444,
              "#bd3786"
             ],
             [
              0.5555555555555556,
              "#d8576b"
             ],
             [
              0.6666666666666666,
              "#ed7953"
             ],
             [
              0.7777777777777778,
              "#fb9f3a"
             ],
             [
              0.8888888888888888,
              "#fdca26"
             ],
             [
              1,
              "#f0f921"
             ]
            ],
            "type": "heatmap"
           }
          ],
          "heatmapgl": [
           {
            "colorbar": {
             "outlinewidth": 0,
             "ticks": ""
            },
            "colorscale": [
             [
              0,
              "#0d0887"
             ],
             [
              0.1111111111111111,
              "#46039f"
             ],
             [
              0.2222222222222222,
              "#7201a8"
             ],
             [
              0.3333333333333333,
              "#9c179e"
             ],
             [
              0.4444444444444444,
              "#bd3786"
             ],
             [
              0.5555555555555556,
              "#d8576b"
             ],
             [
              0.6666666666666666,
              "#ed7953"
             ],
             [
              0.7777777777777778,
              "#fb9f3a"
             ],
             [
              0.8888888888888888,
              "#fdca26"
             ],
             [
              1,
              "#f0f921"
             ]
            ],
            "type": "heatmapgl"
           }
          ],
          "histogram": [
           {
            "marker": {
             "pattern": {
              "fillmode": "overlay",
              "size": 10,
              "solidity": 0.2
             }
            },
            "type": "histogram"
           }
          ],
          "histogram2d": [
           {
            "colorbar": {
             "outlinewidth": 0,
             "ticks": ""
            },
            "colorscale": [
             [
              0,
              "#0d0887"
             ],
             [
              0.1111111111111111,
              "#46039f"
             ],
             [
              0.2222222222222222,
              "#7201a8"
             ],
             [
              0.3333333333333333,
              "#9c179e"
             ],
             [
              0.4444444444444444,
              "#bd3786"
             ],
             [
              0.5555555555555556,
              "#d8576b"
             ],
             [
              0.6666666666666666,
              "#ed7953"
             ],
             [
              0.7777777777777778,
              "#fb9f3a"
             ],
             [
              0.8888888888888888,
              "#fdca26"
             ],
             [
              1,
              "#f0f921"
             ]
            ],
            "type": "histogram2d"
           }
          ],
          "histogram2dcontour": [
           {
            "colorbar": {
             "outlinewidth": 0,
             "ticks": ""
            },
            "colorscale": [
             [
              0,
              "#0d0887"
             ],
             [
              0.1111111111111111,
              "#46039f"
             ],
             [
              0.2222222222222222,
              "#7201a8"
             ],
             [
              0.3333333333333333,
              "#9c179e"
             ],
             [
              0.4444444444444444,
              "#bd3786"
             ],
             [
              0.5555555555555556,
              "#d8576b"
             ],
             [
              0.6666666666666666,
              "#ed7953"
             ],
             [
              0.7777777777777778,
              "#fb9f3a"
             ],
             [
              0.8888888888888888,
              "#fdca26"
             ],
             [
              1,
              "#f0f921"
             ]
            ],
            "type": "histogram2dcontour"
           }
          ],
          "mesh3d": [
           {
            "colorbar": {
             "outlinewidth": 0,
             "ticks": ""
            },
            "type": "mesh3d"
           }
          ],
          "parcoords": [
           {
            "line": {
             "colorbar": {
              "outlinewidth": 0,
              "ticks": ""
             }
            },
            "type": "parcoords"
           }
          ],
          "pie": [
           {
            "automargin": true,
            "type": "pie"
           }
          ],
          "scatter": [
           {
            "fillpattern": {
             "fillmode": "overlay",
             "size": 10,
             "solidity": 0.2
            },
            "type": "scatter"
           }
          ],
          "scatter3d": [
           {
            "line": {
             "colorbar": {
              "outlinewidth": 0,
              "ticks": ""
             }
            },
            "marker": {
             "colorbar": {
              "outlinewidth": 0,
              "ticks": ""
             }
            },
            "type": "scatter3d"
           }
          ],
          "scattercarpet": [
           {
            "marker": {
             "colorbar": {
              "outlinewidth": 0,
              "ticks": ""
             }
            },
            "type": "scattercarpet"
           }
          ],
          "scattergeo": [
           {
            "marker": {
             "colorbar": {
              "outlinewidth": 0,
              "ticks": ""
             }
            },
            "type": "scattergeo"
           }
          ],
          "scattergl": [
           {
            "marker": {
             "colorbar": {
              "outlinewidth": 0,
              "ticks": ""
             }
            },
            "type": "scattergl"
           }
          ],
          "scattermapbox": [
           {
            "marker": {
             "colorbar": {
              "outlinewidth": 0,
              "ticks": ""
             }
            },
            "type": "scattermapbox"
           }
          ],
          "scatterpolar": [
           {
            "marker": {
             "colorbar": {
              "outlinewidth": 0,
              "ticks": ""
             }
            },
            "type": "scatterpolar"
           }
          ],
          "scatterpolargl": [
           {
            "marker": {
             "colorbar": {
              "outlinewidth": 0,
              "ticks": ""
             }
            },
            "type": "scatterpolargl"
           }
          ],
          "scatterternary": [
           {
            "marker": {
             "colorbar": {
              "outlinewidth": 0,
              "ticks": ""
             }
            },
            "type": "scatterternary"
           }
          ],
          "surface": [
           {
            "colorbar": {
             "outlinewidth": 0,
             "ticks": ""
            },
            "colorscale": [
             [
              0,
              "#0d0887"
             ],
             [
              0.1111111111111111,
              "#46039f"
             ],
             [
              0.2222222222222222,
              "#7201a8"
             ],
             [
              0.3333333333333333,
              "#9c179e"
             ],
             [
              0.4444444444444444,
              "#bd3786"
             ],
             [
              0.5555555555555556,
              "#d8576b"
             ],
             [
              0.6666666666666666,
              "#ed7953"
             ],
             [
              0.7777777777777778,
              "#fb9f3a"
             ],
             [
              0.8888888888888888,
              "#fdca26"
             ],
             [
              1,
              "#f0f921"
             ]
            ],
            "type": "surface"
           }
          ],
          "table": [
           {
            "cells": {
             "fill": {
              "color": "#EBF0F8"
             },
             "line": {
              "color": "white"
             }
            },
            "header": {
             "fill": {
              "color": "#C8D4E3"
             },
             "line": {
              "color": "white"
             }
            },
            "type": "table"
           }
          ]
         },
         "layout": {
          "annotationdefaults": {
           "arrowcolor": "#2a3f5f",
           "arrowhead": 0,
           "arrowwidth": 1
          },
          "autotypenumbers": "strict",
          "coloraxis": {
           "colorbar": {
            "outlinewidth": 0,
            "ticks": ""
           }
          },
          "colorscale": {
           "diverging": [
            [
             0,
             "#8e0152"
            ],
            [
             0.1,
             "#c51b7d"
            ],
            [
             0.2,
             "#de77ae"
            ],
            [
             0.3,
             "#f1b6da"
            ],
            [
             0.4,
             "#fde0ef"
            ],
            [
             0.5,
             "#f7f7f7"
            ],
            [
             0.6,
             "#e6f5d0"
            ],
            [
             0.7,
             "#b8e186"
            ],
            [
             0.8,
             "#7fbc41"
            ],
            [
             0.9,
             "#4d9221"
            ],
            [
             1,
             "#276419"
            ]
           ],
           "sequential": [
            [
             0,
             "#0d0887"
            ],
            [
             0.1111111111111111,
             "#46039f"
            ],
            [
             0.2222222222222222,
             "#7201a8"
            ],
            [
             0.3333333333333333,
             "#9c179e"
            ],
            [
             0.4444444444444444,
             "#bd3786"
            ],
            [
             0.5555555555555556,
             "#d8576b"
            ],
            [
             0.6666666666666666,
             "#ed7953"
            ],
            [
             0.7777777777777778,
             "#fb9f3a"
            ],
            [
             0.8888888888888888,
             "#fdca26"
            ],
            [
             1,
             "#f0f921"
            ]
           ],
           "sequentialminus": [
            [
             0,
             "#0d0887"
            ],
            [
             0.1111111111111111,
             "#46039f"
            ],
            [
             0.2222222222222222,
             "#7201a8"
            ],
            [
             0.3333333333333333,
             "#9c179e"
            ],
            [
             0.4444444444444444,
             "#bd3786"
            ],
            [
             0.5555555555555556,
             "#d8576b"
            ],
            [
             0.6666666666666666,
             "#ed7953"
            ],
            [
             0.7777777777777778,
             "#fb9f3a"
            ],
            [
             0.8888888888888888,
             "#fdca26"
            ],
            [
             1,
             "#f0f921"
            ]
           ]
          },
          "colorway": [
           "#636efa",
           "#EF553B",
           "#00cc96",
           "#ab63fa",
           "#FFA15A",
           "#19d3f3",
           "#FF6692",
           "#B6E880",
           "#FF97FF",
           "#FECB52"
          ],
          "font": {
           "color": "#2a3f5f"
          },
          "geo": {
           "bgcolor": "white",
           "lakecolor": "white",
           "landcolor": "white",
           "showlakes": true,
           "showland": true,
           "subunitcolor": "#C8D4E3"
          },
          "hoverlabel": {
           "align": "left"
          },
          "hovermode": "closest",
          "mapbox": {
           "style": "light"
          },
          "paper_bgcolor": "white",
          "plot_bgcolor": "white",
          "polar": {
           "angularaxis": {
            "gridcolor": "#EBF0F8",
            "linecolor": "#EBF0F8",
            "ticks": ""
           },
           "bgcolor": "white",
           "radialaxis": {
            "gridcolor": "#EBF0F8",
            "linecolor": "#EBF0F8",
            "ticks": ""
           }
          },
          "scene": {
           "xaxis": {
            "backgroundcolor": "white",
            "gridcolor": "#DFE8F3",
            "gridwidth": 2,
            "linecolor": "#EBF0F8",
            "showbackground": true,
            "ticks": "",
            "zerolinecolor": "#EBF0F8"
           },
           "yaxis": {
            "backgroundcolor": "white",
            "gridcolor": "#DFE8F3",
            "gridwidth": 2,
            "linecolor": "#EBF0F8",
            "showbackground": true,
            "ticks": "",
            "zerolinecolor": "#EBF0F8"
           },
           "zaxis": {
            "backgroundcolor": "white",
            "gridcolor": "#DFE8F3",
            "gridwidth": 2,
            "linecolor": "#EBF0F8",
            "showbackground": true,
            "ticks": "",
            "zerolinecolor": "#EBF0F8"
           }
          },
          "shapedefaults": {
           "line": {
            "color": "#2a3f5f"
           }
          },
          "ternary": {
           "aaxis": {
            "gridcolor": "#DFE8F3",
            "linecolor": "#A2B1C6",
            "ticks": ""
           },
           "baxis": {
            "gridcolor": "#DFE8F3",
            "linecolor": "#A2B1C6",
            "ticks": ""
           },
           "bgcolor": "white",
           "caxis": {
            "gridcolor": "#DFE8F3",
            "linecolor": "#A2B1C6",
            "ticks": ""
           }
          },
          "title": {
           "x": 0.05
          },
          "xaxis": {
           "automargin": true,
           "gridcolor": "#EBF0F8",
           "linecolor": "#EBF0F8",
           "ticks": "",
           "title": {
            "standoff": 15
           },
           "zerolinecolor": "#EBF0F8",
           "zerolinewidth": 2
          },
          "yaxis": {
           "automargin": true,
           "gridcolor": "#EBF0F8",
           "linecolor": "#EBF0F8",
           "ticks": "",
           "title": {
            "standoff": 15
           },
           "zerolinecolor": "#EBF0F8",
           "zerolinewidth": 2
          }
         }
        },
        "title": {
         "font": {
          "color": "Black",
          "size": 22
         },
         "text": "<b>Hierarchical Clustering</b>",
         "x": 0.5,
         "xanchor": "center",
         "yanchor": "top"
        },
        "width": 1000,
        "xaxis": {
         "mirror": "allticks",
         "rangemode": "tozero",
         "showgrid": false,
         "showline": true,
         "showticklabels": true,
         "ticks": "outside",
         "type": "linear",
         "zeroline": false
        },
        "yaxis": {
         "mirror": "allticks",
         "range": [
          -190,
          0
         ],
         "rangemode": "tozero",
         "showgrid": false,
         "showline": true,
         "showticklabels": true,
         "tickmode": "array",
         "ticks": "outside",
         "ticktext": [
          "Natural disasters",
          "Extreme heat conditions",
          "Media coverage on climate crisis",
          "Impact on Agriculture",
          "Climate adaption (gemeenten)",
          "Animal Welfare",
          "Electricity",
          "Household Energy Efficiency and Costs",
          "Heatwave Adaptation Strategies in Spaces",
          "Wildfires",
          "Climate change",
          "Weather & Temperature",
          "Water & Droughts",
          "Ecological Impact",
          "Wakeup call",
          "Sports & Athletes",
          "Events",
          "Congestion at tourist spots and beaches",
          "Public Health & Vulnerable Populations"
         ],
         "tickvals": [
          -5,
          -15,
          -25,
          -35,
          -45,
          -55,
          -65,
          -75,
          -85,
          -95,
          -105,
          -115,
          -125,
          -135,
          -145,
          -155,
          -165,
          -175,
          -185
         ],
         "type": "linear",
         "zeroline": false
        }
       }
      }
     },
     "metadata": {},
     "output_type": "display_data"
    }
   ],
   "source": [
    "topic_model.visualize_hierarchy(topics=relevant_topics, custom_labels=True)"
   ]
  },
  {
   "cell_type": "code",
   "execution_count": null,
   "metadata": {},
   "outputs": [],
   "source": []
  }
 ],
 "metadata": {
  "kernelspec": {
   "display_name": "BERTopic",
   "language": "python",
   "name": "python3"
  },
  "language_info": {
   "codemirror_mode": {
    "name": "ipython",
    "version": 3
   },
   "file_extension": ".py",
   "mimetype": "text/x-python",
   "name": "python",
   "nbconvert_exporter": "python",
   "pygments_lexer": "ipython3",
   "version": "3.9.18"
  }
 },
 "nbformat": 4,
 "nbformat_minor": 2
}
